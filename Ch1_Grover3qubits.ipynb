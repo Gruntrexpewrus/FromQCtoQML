{
 "cells": [
  {
   "cell_type": "code",
   "execution_count": 2,
   "id": "a5adecdb-1cd8-453f-a915-5491fb67564f",
   "metadata": {},
   "outputs": [],
   "source": [
    "import numpy as np\n",
    "\n",
    "# Importing standard Qiskit libraries\n",
    "from qiskit import QuantumCircuit, transpile, Aer, IBMQ,  assemble\n",
    "from qiskit.tools.jupyter import *\n",
    "from qiskit.visualization import *\n",
    "from ibm_quantum_widgets import *\n",
    "from qiskit.providers.aer import QasmSimulator\n",
    "\n",
    "# Loading your IBM Quantum account(s)\n",
    "provider = IBMQ.load_account()"
   ]
  },
  {
   "cell_type": "code",
   "execution_count": 3,
   "id": "3fae5613-092e-4145-854a-542388df70fc",
   "metadata": {},
   "outputs": [
    {
     "name": "stdout",
     "output_type": "stream",
     "text": [
      "Available backends:\n"
     ]
    },
    {
     "data": {
      "text/plain": [
       "[<IBMQSimulator('ibmq_qasm_simulator') from IBMQ(hub='ibm-q', group='open', project='main')>,\n",
       " <IBMQBackend('ibmq_armonk') from IBMQ(hub='ibm-q', group='open', project='main')>,\n",
       " <IBMQBackend('ibmq_santiago') from IBMQ(hub='ibm-q', group='open', project='main')>,\n",
       " <IBMQBackend('ibmq_bogota') from IBMQ(hub='ibm-q', group='open', project='main')>,\n",
       " <IBMQBackend('ibmq_lima') from IBMQ(hub='ibm-q', group='open', project='main')>,\n",
       " <IBMQBackend('ibmq_belem') from IBMQ(hub='ibm-q', group='open', project='main')>,\n",
       " <IBMQBackend('ibmq_quito') from IBMQ(hub='ibm-q', group='open', project='main')>,\n",
       " <IBMQSimulator('simulator_statevector') from IBMQ(hub='ibm-q', group='open', project='main')>,\n",
       " <IBMQSimulator('simulator_mps') from IBMQ(hub='ibm-q', group='open', project='main')>,\n",
       " <IBMQSimulator('simulator_extended_stabilizer') from IBMQ(hub='ibm-q', group='open', project='main')>,\n",
       " <IBMQSimulator('simulator_stabilizer') from IBMQ(hub='ibm-q', group='open', project='main')>,\n",
       " <IBMQBackend('ibmq_manila') from IBMQ(hub='ibm-q', group='open', project='main')>]"
      ]
     },
     "execution_count": 3,
     "metadata": {},
     "output_type": "execute_result"
    }
   ],
   "source": [
    "print(\"Available backends:\")\n",
    "provider.backends()\n"
   ]
  },
  {
   "cell_type": "code",
   "execution_count": 4,
   "id": "de4ad435-0f68-4800-9851-60781511c2c2",
   "metadata": {},
   "outputs": [],
   "source": [
    "backend = provider.get_backend('ibmq_lima')"
   ]
  },
  {
   "cell_type": "code",
   "execution_count": 5,
   "id": "eb671cf2-9b5c-4b2f-ba92-0afd10e6a1fd",
   "metadata": {},
   "outputs": [
    {
     "data": {
      "application/vnd.jupyter.widget-view+json": {
       "model_id": "55b4354740454b04a2859ac7b9f928cc",
       "version_major": 2,
       "version_minor": 0
      },
      "text/plain": [
       "VBox(children=(HTML(value=\"<h1 style='color:#ffffff;background-color:#000000;padding-top: 1%;padding-bottom: 1…"
      ]
     },
     "metadata": {},
     "output_type": "display_data"
    },
    {
     "data": {
      "text/plain": [
       "<IBMQBackend('ibmq_lima') from IBMQ(hub='ibm-q', group='open', project='main')>"
      ]
     },
     "execution_count": 5,
     "metadata": {},
     "output_type": "execute_result"
    }
   ],
   "source": [
    "backend"
   ]
  },
  {
   "cell_type": "code",
   "execution_count": 6,
   "id": "b5d0038f-86f3-4cc6-b965-1403f73e18d7",
   "metadata": {},
   "outputs": [],
   "source": [
    "#def initialization in superposition\n",
    "def initialization(qc, qubits):\n",
    "    for qubit in qubits:\n",
    "        qc.h(qubit)\n",
    "    return qc"
   ]
  },
  {
   "cell_type": "code",
   "execution_count": 9,
   "id": "102d454f-0150-405e-9199-949facaaec81",
   "metadata": {},
   "outputs": [
    {
     "data": {
      "image/png": "[encoded data removed]",
      "text/plain": [
       "<Figure size 146.797x204.68 with 1 Axes>"
      ]
     },
     "execution_count": 9,
     "metadata": {},
     "output_type": "execute_result"
    }
   ],
   "source": [
    "example = QuantumCircuit(3)\n",
    "example_ = initialization(example, range(3))\n",
    "f = example_.draw('mpl')\n",
    "f.savefig('Images/QiskitGInit.png')\n",
    "f"
   ]
  },
  {
   "cell_type": "code",
   "execution_count": 44,
   "id": "711be4b1-2e83-43cc-b3cf-42ac18b6bf9f",
   "metadata": {},
   "outputs": [
    {
     "data": {
      "image/png": "[encoded data removed]",
      "text/plain": [
       "<Figure size 327.397x204.68 with 1 Axes>"
      ]
     },
     "execution_count": 44,
     "metadata": {},
     "output_type": "execute_result"
    }
   ],
   "source": [
    "#def oracle marking state [0,0,.....1]\n",
    "# 1 state marked\n",
    "num_q = 3\n",
    "\n",
    "from numpy import pi\n",
    "qc = QuantumCircuit(num_q)\n",
    "\n",
    "for i in range(num_q -2):\n",
    "    qc.x(i)\n",
    "qc.h(num_q -1)\n",
    "qc.mct(list(range(num_q -2)), num_q -1)  # multi-controlled-toffoli\n",
    "qc.h(num_q -2)\n",
    "#o = [0, 1, 2, 4]\n",
    "qc.mct(list(range(num_q -2)), num_q -2)\n",
    "#qc.mct(o, num_q -2)\n",
    "qc.h(num_q -2)\n",
    "#temp\n",
    "#qc.h(num_q -2)\n",
    "#qc.mct(list(range(num_q -2)), num_q -2)  # multi-controlled-toffoli\n",
    "#qc.h(num_q -2)\n",
    "#fine temp\n",
    "\n",
    "qc.h(num_q -1)\n",
    "for i in range(num_q -2):\n",
    "    qc.x(i)\n",
    "\n",
    "oracle_ = qc.to_gate()\n",
    "oracle_.name = \"Oracle\"\n",
    "f = qc.draw('mpl')\n",
    "f.savefig('Images/QiskitGOracle.png')\n",
    "f"
   ]
  },
  {
   "cell_type": "code",
   "execution_count": 53,
   "id": "92cb2752-ff1e-4419-b3ec-cfb386215bcc",
   "metadata": {},
   "outputs": [
    {
     "data": {
      "image/png": "[encoded data removed]",
      "text/plain": [
       "<Figure size 327.397x204.68 with 1 Axes>"
      ]
     },
     "execution_count": 53,
     "metadata": {},
     "output_type": "execute_result"
    }
   ],
   "source": [
    "num_q = 3\n",
    "\n",
    "from numpy import pi\n",
    "qc = QuantumCircuit(num_q)\n",
    "\n",
    "qc.x(0)\n",
    "qc.cz(0, 2)\n",
    "qc.cz(0, 1)\n",
    "qc.x(0)\n",
    "oracle_ = qc.to_gate()\n",
    "oracle_.name = \"Oracle\"\n",
    "f = qc.draw('mpl')\n",
    "#f.savefig('Images/QiskitGOracle.png')\n",
    "f"
   ]
  },
  {
   "cell_type": "code",
   "execution_count": 54,
   "id": "57a1811a-8638-4858-96b4-d8449d611495",
   "metadata": {},
   "outputs": [],
   "source": [
    "#diffuser\n",
    "def diffuser(nqubits):\n",
    "    qc = QuantumCircuit(nqubits)\n",
    "    # Apply transformation |s> -> |00..0> (H-gates)\n",
    "    for qubit in range(nqubits):\n",
    "        qc.h(qubit)\n",
    "    # Apply transformation |00..0> -> |11..1> (X-gates)\n",
    "    for qubit in range(nqubits):\n",
    "        qc.x(qubit)\n",
    "    # Do multi-controlled-Z gate\n",
    "    qc.h(nqubits-1)\n",
    "    qc.mct(list(range(nqubits-1)), nqubits-1)  # multi-controlled-toffoli\n",
    "    qc.h(nqubits-1)\n",
    "    # Apply transformation |11..1> -> |00..0>\n",
    "    for qubit in range(nqubits):\n",
    "        qc.x(qubit)\n",
    "    # Apply transformation |00..0> -> |s>\n",
    "    for qubit in range(nqubits):\n",
    "        qc.h(qubit)\n",
    "    # We will return the diffuser as a gate\n",
    "    U_s = qc.to_gate()\n",
    "    U_s.name = \"Diff\"\n",
    "    return U_s"
   ]
  },
  {
   "cell_type": "code",
   "execution_count": 46,
   "id": "ea99bfa4-c111-42e6-98f9-c85069d23a0f",
   "metadata": {},
   "outputs": [
    {
     "name": "stdout",
     "output_type": "stream",
     "text": [
      "Traceback \u001b[1;36m(most recent call last)\u001b[0m:\n",
      "\u001b[1;36m  File \u001b[1;32m\"<ipython-input-46-5b5d3cf5e42c>\"\u001b[1;36m, line \u001b[1;32m2\u001b[1;36m, in \u001b[1;35m<module>\u001b[1;36m\u001b[0m\n",
      "\u001b[1;33m    f = a.draw()\u001b[0m\n",
      "\u001b[1;31mAttributeError\u001b[0m\u001b[1;31m:\u001b[0m 'Gate' object has no attribute 'draw'\n",
      "\n",
      "Use %tb to get the full traceback.\n"
     ]
    },
    {
     "data": {
      "text/html": [
       "\n",
       "<style>\n",
       ".button {\n",
       "  border: none;\n",
       "  color: white;\n",
       "  padding: 4px 8px;\n",
       "  text-align: center;\n",
       "  text-decoration: none;\n",
       "  display: inline-block;\n",
       "  font-size: 12px;\n",
       "  margin: 4px 2px;\n",
       "  transition-duration: 0.2s;\n",
       "  cursor: pointer;\n",
       "}\n",
       ".iqx-button {\n",
       "  background-color: #0f62fe; \n",
       "  color: white; \n",
       "}\n",
       ".iqx-button:hover {\n",
       "  background-color: #0043ce;\n",
       "  color: white;\n",
       "}\n",
       "</style>\n",
       "<a href=\"https://stackoverflow.com/search?q=AttributeError: 'Gate' object has no attribute 'draw'\" target='_blank'><button class='button iqx-button'>Search for solution online</button></a>\n"
      ],
      "text/plain": [
       "<IPython.core.display.HTML object>"
      ]
     },
     "metadata": {},
     "output_type": "display_data"
    }
   ],
   "source": [
    "a = diffuser(num_qubits)\n",
    "f = a.draw()\n",
    "f.savefig('Images/QiskitGDiffuser.png')\n",
    "f"
   ]
  },
  {
   "cell_type": "code",
   "execution_count": 55,
   "id": "df888edf-4af6-4fa5-9ae8-8550008402dd",
   "metadata": {},
   "outputs": [
    {
     "data": {
      "image/png": "[encoded data removed]",
      "text/plain": [
       "<Figure size 598.479x264.88 with 1 Axes>"
      ]
     },
     "execution_count": 55,
     "metadata": {},
     "output_type": "execute_result"
    }
   ],
   "source": [
    "num_qubits = 3\n",
    "grover_circ = QuantumCircuit(num_qubits)\n",
    "grover_circ = initialization(grover_circ, range(num_qubits))\n",
    "for i in range(1):\n",
    "    grover_circ.append(oracle_, range(num_qubits))\n",
    "    grover_circ.append(diffuser(num_qubits), range(num_qubits))\n",
    "grover_circ.measure_all()\n",
    "f = grover_circ.draw()\n",
    "#f.savefig('Images/QiskitGAll.png')\n",
    "f"
   ]
  },
  {
   "cell_type": "code",
   "execution_count": null,
   "id": "096e936b-0d74-426e-bb09-7506a2328561",
   "metadata": {},
   "outputs": [],
   "source": []
  },
  {
   "cell_type": "code",
   "execution_count": 56,
   "id": "e571bcf6-3fb8-4933-a28d-1c8a6ec2f55c",
   "metadata": {},
   "outputs": [
    {
     "data": {
      "image/png": "[encoded data removed]",
      "text/plain": [
       "<Figure size 504x360 with 1 Axes>"
      ]
     },
     "execution_count": 56,
     "metadata": {},
     "output_type": "execute_result"
    }
   ],
   "source": [
    "aer_sim = Aer.get_backend('aer_simulator')\n",
    "transpiled_grover_circuit = transpile(grover_circ, aer_sim)\n",
    "qobj = assemble(transpiled_grover_circuit)\n",
    "results = aer_sim.run(qobj).result()\n",
    "counts = results.get_counts()\n",
    "f = plot_histogram(counts)\n",
    "#f.savefig('Images/QiskitGSimulator.png')\n",
    "f"
   ]
  },
  {
   "cell_type": "code",
   "execution_count": 29,
   "id": "19365ab5-988f-447b-8115-1612bd663267",
   "metadata": {},
   "outputs": [
    {
     "name": "stdout",
     "output_type": "stream",
     "text": [
      "Job Status: job has successfully run\n"
     ]
    }
   ],
   "source": [
    "from qiskit.tools.monitor import job_monitor\n",
    "device = backend\n",
    "transpiled_grover_circuit = transpile(grover_circ, device, optimization_level=3)\n",
    "job = device.run(transpiled_grover_circuit, shots = 8000)\n",
    "job_monitor(job, interval=2)"
   ]
  },
  {
   "cell_type": "code",
   "execution_count": 30,
   "id": "11fb5007-c4b1-47a1-b569-835d28de913a",
   "metadata": {},
   "outputs": [
    {
     "data": {
      "image/png": "[encoded data removed]",
      "text/plain": [
       "<Figure size 504x360 with 1 Axes>"
      ]
     },
     "execution_count": 30,
     "metadata": {},
     "output_type": "execute_result"
    }
   ],
   "source": [
    "results = job.result()\n",
    "answer = results.get_counts(grover_circ)\n",
    "f = plot_histogram(answer)\n",
    "f.savefig('Images/QiskitGIBMQlima.png')\n",
    "f"
   ]
  },
  {
   "cell_type": "code",
   "execution_count": null,
   "id": "fa94752e-a06b-45e3-9c44-4ceee2751100",
   "metadata": {},
   "outputs": [],
   "source": []
  }
 ],
 "metadata": {
  "kernelspec": {
   "display_name": "Qiskit v0.29.0",
   "language": "python",
   "name": "python3"
  },
  "language_info": {
   "codemirror_mode": {
    "name": "ipython",
    "version": 3
   },
   "file_extension": ".py",
   "mimetype": "text/x-python",
   "name": "python",
   "nbconvert_exporter": "python",
   "pygments_lexer": "ipython3",
   "version": "3.8.10"
  },
  "widgets": {
   "application/vnd.jupyter.widget-state+json": {
    "state": {
     "0116c161a56545d6910d6e965dc2f024": {
      "model_module": "@jupyter-widgets/controls",
      "model_module_version": "1.5.0",
      "model_name": "TabModel",
      "state": {
       "layout": "IPY_MODEL_f42dccbd5d504d9683efea87e3d276d6"
      }
     },
     "058a0b034663469f967077e1c8094ac0": {
      "model_module": "@jupyter-widgets/controls",
      "model_module_version": "1.5.0",
      "model_name": "DescriptionStyleModel",
      "state": {
       "description_width": ""
      }
     },
     "06fe3654d9e2417bbea7d6e573c85d5c": {
      "model_module": "@jupyter-widgets/controls",
      "model_module_version": "1.5.0",
      "model_name": "DescriptionStyleModel",
      "state": {
       "description_width": ""
      }
     },
     "09d445c613a34665957103c7f6668692": {
      "model_module": "@jupyter-widgets/controls",
      "model_module_version": "1.5.0",
      "model_name": "HBoxModel",
      "state": {
       "children": [
        "IPY_MODEL_cca213538176446288cf82a6de9aa955",
        "IPY_MODEL_5f1d1da77d9f454d894b8bd959794672",
        "IPY_MODEL_73f209b08c19477899417d290eacedaa",
        "IPY_MODEL_1fd6176c27f64b0b80b71945a773fd49",
        "IPY_MODEL_8eabfe2dd55b42d091842096b47086c2"
       ],
       "layout": "IPY_MODEL_199dc0a8d3a7482ab64d008368384033"
      }
     },
     "0b7f7bc6d77b4addb0c055b1ffd4aa2d": {
      "model_module": "@jupyter-widgets/output",
      "model_module_version": "1.0.0",
      "model_name": "OutputModel",
      "state": {
       "layout": "IPY_MODEL_9ff7713ca530423788a6c85926387abb",
       "outputs": [
        {
         "data": {
          "image/png": "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\n",
          "text/plain": "<Figure size 792x648 with 5 Axes>"
         },
         "metadata": {},
         "output_type": "display_data"
        }
       ]
      }
     },
     "10bf766db5f449cb99f3e04e04918dc3": {
      "model_module": "@jupyter-widgets/base",
      "model_module_version": "1.2.0",
      "model_name": "LayoutModel",
      "state": {
       "grid_area": "right",
       "padding": "0px 0px 0px 0px",
       "width": "70px"
      }
     },
     "13219ca0b4db406ab01c2e3c93ba157e": {
      "model_module": "@jupyter-widgets/controls",
      "model_module_version": "1.5.0",
      "model_name": "DescriptionStyleModel",
      "state": {
       "description_width": ""
      }
     },
     "13f54adbc05e40dca79bda3282537d8b": {
      "model_module": "@jupyter-widgets/controls",
      "model_module_version": "1.5.0",
      "model_name": "ButtonModel",
      "state": {
       "button_style": "primary",
       "description": "Clear",
       "layout": "IPY_MODEL_10bf766db5f449cb99f3e04e04918dc3",
       "style": "IPY_MODEL_c19bd9a3508342bcb32720201739d9a6"
      }
     },
     "199dc0a8d3a7482ab64d008368384033": {
      "model_module": "@jupyter-widgets/base",
      "model_module_version": "1.2.0",
      "model_name": "LayoutModel",
      "state": {
       "margin": "0px 0px 0px 37px",
       "width": "600px"
      }
     },
     "1d888b2f9c834f14b7e478990c7fd913": {
      "model_module": "@jupyter-widgets/base",
      "model_module_version": "1.2.0",
      "model_name": "LayoutModel",
      "state": {
       "border": "4px solid #000000",
       "max_height": "650px",
       "min_height": "650px",
       "overflow_y": "hidden"
      }
     },
     "1fd6176c27f64b0b80b71945a773fd49": {
      "model_module": "@jupyter-widgets/controls",
      "model_module_version": "1.5.0",
      "model_name": "HTMLModel",
      "state": {
       "layout": "IPY_MODEL_6acd6b38b6934615a3849dd5d0d4252b",
       "style": "IPY_MODEL_e15e514dfecc42099f7c8d2bb52cc039",
       "value": "<h5>Queue</h5>"
      }
     },
     "235212af99004c68a3eb713c851795aa": {
      "model_module": "@jupyter-widgets/controls",
      "model_module_version": "1.5.0",
      "model_name": "HTMLModel",
      "state": {
       "layout": "IPY_MODEL_588a0ede4d67455b83097e9c9c59fbe3",
       "style": "IPY_MODEL_c9ada81627d444048fcf3c970581a8dc",
       "value": "<table><style>\ntable {\n    border-collapse: collapse;\n    width: auto;\n}\n\nth, td {\n    text-align: left;\n    padding: 8px;\n}\n\ntr:nth-child(even) {background-color: #f6f6f6;}\n</style><tr><th></th><th>Frequency</th><th>T1</th><th>T2</th><th>RZ</th><th>SX</th><th>X</th><th>Readout error</th></tr><tr><td><font style='font-weight:bold'>Q0</font></td><td>5.02973 GHz</td><td>71.87563 us</td><td>98.83851 us</td><td>0</td><td>0.00021</td><td>0.00021</td><td>0.0207 </td><tr><td><font style='font-weight:bold'>Q1</font></td><td>5.12765 GHz</td><td>116.87116 us</td><td>126.61827 us</td><td>0</td><td>0.00023</td><td>0.00023</td><td>0.0169 </td><tr><td><font style='font-weight:bold'>Q2</font></td><td>5.24735 GHz</td><td>123.9668 us</td><td>142.67307 us</td><td>0</td><td>0.00018</td><td>0.00018</td><td>0.0179 </td><tr><td><font style='font-weight:bold'>Q3</font></td><td>5.30234 GHz</td><td>94.51295 us</td><td>89.68434 us</td><td>0</td><td>0.00049</td><td>0.00049</td><td>0.0277 </td><tr><td><font style='font-weight:bold'>Q4</font></td><td>5.09216 GHz</td><td>22.93488 us</td><td>19.35208 us</td><td>0</td><td>0.00065</td><td>0.00065</td><td>0.0507 </td></table>"
      }
     },
     "29611a18b5254846a574cb6012ac9785": {
      "model_module": "@jupyter-widgets/controls",
      "model_module_version": "1.5.0",
      "model_name": "DescriptionStyleModel",
      "state": {
       "description_width": ""
      }
     },
     "2a2ed87fc11d445d87320e5d387a6016": {
      "model_module": "@jupyter-widgets/base",
      "model_module_version": "1.2.0",
      "model_name": "LayoutModel",
      "state": {
       "margin": "0px 0px 10px 0px"
      }
     },
     "2e685eaf9a234b1999e237cbb072c8b2": {
      "model_module": "@jupyter-widgets/base",
      "model_module_version": "1.2.0",
      "model_name": "LayoutModel",
      "state": {}
     },
     "3695508f3c1c4148838fbddcd0d376fc": {
      "model_module": "@jupyter-widgets/base",
      "model_module_version": "1.2.0",
      "model_name": "LayoutModel",
      "state": {
       "grid_area": "left"
      }
     },
     "38bc7b70020b44ba9ab95ae7d5a544bf": {
      "model_module": "@jupyter-widgets/controls",
      "model_module_version": "1.5.0",
      "model_name": "HTMLModel",
      "state": {
       "layout": "IPY_MODEL_2a2ed87fc11d445d87320e5d387a6016",
       "style": "IPY_MODEL_3ecaca49996644cdbe155f9ca6798554",
       "value": "<p style='font-family: IBM Plex Sans, Arial, Helvetica, sans-serif; font-size: 20px; font-weight: medium;'>Circuit Properties</p>"
      }
     },
     "38fb2f2d13c54935a033538d289ae758": {
      "model_module": "@jupyter-widgets/controls",
      "model_module_version": "1.5.0",
      "model_name": "DescriptionStyleModel",
      "state": {
       "description_width": ""
      }
     },
     "3bc656a0119b40b39c1d7be5be31a7dd": {
      "model_module": "@jupyter-widgets/controls",
      "model_module_version": "1.5.0",
      "model_name": "HTMLModel",
      "state": {
       "layout": "IPY_MODEL_4b6c51bc75be4ac1819d1840a67bcf92",
       "style": "IPY_MODEL_86c11adc09cb4a0896874b96182ef436",
       "value": "<div><font style='font-weight:bold'>last_update_date</font>: Sat 18 September 2021 at 04:40 UTC</div>"
      }
     },
     "3ecaca49996644cdbe155f9ca6798554": {
      "model_module": "@jupyter-widgets/controls",
      "model_module_version": "1.5.0",
      "model_name": "DescriptionStyleModel",
      "state": {
       "description_width": ""
      }
     },
     "451e15f88a174f67a97c92153257f47c": {
      "model_module": "@jupyter-widgets/controls",
      "model_module_version": "1.5.0",
      "model_name": "HTMLModel",
      "state": {
       "layout": "IPY_MODEL_8c6b7caf35fd4491a3952d441481b6d1",
       "style": "IPY_MODEL_540a54bd12cf494f8bef1162d21e543a",
       "value": "6146188ff020e838c46be2ec"
      }
     },
     "4922b24a821b4a9e8d859298fb790ef0": {
      "model_module": "@jupyter-widgets/base",
      "model_module_version": "1.2.0",
      "model_name": "LayoutModel",
      "state": {
       "margin": "0px 0px 0px 0px"
      }
     },
     "4b6c51bc75be4ac1819d1840a67bcf92": {
      "model_module": "@jupyter-widgets/base",
      "model_module_version": "1.2.0",
      "model_name": "LayoutModel",
      "state": {}
     },
     "4cb88ca2e8f64dc9a026fd02059c5918": {
      "model_module": "@jupyter-widgets/controls",
      "model_module_version": "1.5.0",
      "model_name": "DescriptionStyleModel",
      "state": {
       "description_width": ""
      }
     },
     "4d110924330648aa9e22379654999dcd": {
      "model_module": "@jupyter-widgets/controls",
      "model_module_version": "1.5.0",
      "model_name": "HTMLModel",
      "state": {
       "layout": "IPY_MODEL_3695508f3c1c4148838fbddcd0d376fc",
       "style": "IPY_MODEL_38fb2f2d13c54935a033538d289ae758",
       "value": "<table><style>\ntable {\n    border-collapse: collapse;\n    width: auto;\n}\n\nth, td {\n    text-align: left;\n    padding: 8px;\n}\n\ntr:nth-child(even) {background-color: #f6f6f6;};\n</style><tr><th></th><th>Type</th><th>Gate error</th></tr><tr><td><font style='font-weight:bold'>cx4_3</font></td><td>cx</td><td>0.0184</td></tr><tr><td><font style='font-weight:bold'>cx3_4</font></td><td>cx</td><td>0.0184</td></tr><tr><td><font style='font-weight:bold'>cx0_1</font></td><td>cx</td><td>0.00511</td></tr></table>"
      }
     },
     "532a450ebb0146aaa20f842cb46fac09": {
      "model_module": "@jupyter-widgets/controls",
      "model_module_version": "1.5.0",
      "model_name": "HTMLModel",
      "state": {
       "layout": "IPY_MODEL_689376b232424254a7a506423dd82ae1",
       "style": "IPY_MODEL_6207ddf0172e4483be4a234f5c9514c4",
       "value": "job has successfully run"
      }
     },
     "539371e26c664533a62ec20bf27dc1df": {
      "model_module": "@jupyter-widgets/controls",
      "model_module_version": "1.5.0",
      "model_name": "HTMLMathModel",
      "state": {
       "layout": "IPY_MODEL_8fcf4e4b4be44f54b4db63d5c98ed0f4",
       "style": "IPY_MODEL_64c88c88f645487d99d58f67323f1c4e",
       "value": "<table><style>\ntable {\n    border-collapse: collapse;\n    width: auto;\n}\n\nth, td {\n    text-align: left;\n    padding: 8px;\n}\n\ntr:nth-child(even) {background-color: #f6f6f6;}\n</style><tr><th>Property</th><th>Value</th></tr><tr><td><font style='font-weight:bold'>n_qubits</font></td><td>5</td></tr><tr><td><font style='font-weight:bold'>quantum_volume</font></td><td>8</td></tr><tr><td><font style='font-weight:bold'>operational</font></td><td>True</td></tr><tr><td><font style='font-weight:bold'>status_msg</font></td><td>active</td></tr><tr><td><font style='font-weight:bold'>pending_jobs</font></td><td>6</td></tr><tr><td><font style='font-weight:bold'>backend_version</font></td><td>1.0.17</td></tr><tr><td><font style='font-weight:bold'>basis_gates</font></td><td>['id', 'rz', 'sx', 'x', 'cx', 'reset']</td></tr><tr><td><font style='font-weight:bold'>max_shots</font></td><td>8192</td></tr><tr><td><font style='font-weight:bold'>max_experiments</font></td><td>75</td></tr></table>"
      }
     },
     "540a54bd12cf494f8bef1162d21e543a": {
      "model_module": "@jupyter-widgets/controls",
      "model_module_version": "1.5.0",
      "model_name": "DescriptionStyleModel",
      "state": {
       "description_width": ""
      }
     },
     "55b4354740454b04a2859ac7b9f928cc": {
      "model_module": "@jupyter-widgets/controls",
      "model_module_version": "1.5.0",
      "model_name": "VBoxModel",
      "state": {
       "children": [
        "IPY_MODEL_a77820bdd1e24c4e8626fe3a46406c9f",
        "IPY_MODEL_f3aa23d3ce6b4e7eab6cd3aeacc72bb9"
       ],
       "layout": "IPY_MODEL_1d888b2f9c834f14b7e478990c7fd913"
      }
     },
     "57ce01bd3d164200a99334d4780c08b5": {
      "model_module": "@jupyter-widgets/base",
      "model_module_version": "1.2.0",
      "model_name": "LayoutModel",
      "state": {
       "width": "145px"
      }
     },
     "588a0ede4d67455b83097e9c9c59fbe3": {
      "model_module": "@jupyter-widgets/base",
      "model_module_version": "1.2.0",
      "model_name": "LayoutModel",
      "state": {}
     },
     "5b5c7f93dbff4f44a57958f15ca3eead": {
      "model_module": "@jupyter-widgets/controls",
      "model_module_version": "1.5.0",
      "model_name": "DescriptionStyleModel",
      "state": {
       "description_width": ""
      }
     },
     "5f1d1da77d9f454d894b8bd959794672": {
      "model_module": "@jupyter-widgets/controls",
      "model_module_version": "1.5.0",
      "model_name": "HTMLModel",
      "state": {
       "layout": "IPY_MODEL_fffd8cc3754e4b6689710e70fb05c621",
       "style": "IPY_MODEL_29611a18b5254846a574cb6012ac9785",
       "value": "<h5>Backend</h5>"
      }
     },
     "6207ddf0172e4483be4a234f5c9514c4": {
      "model_module": "@jupyter-widgets/controls",
      "model_module_version": "1.5.0",
      "model_name": "DescriptionStyleModel",
      "state": {
       "description_width": ""
      }
     },
     "64c88c88f645487d99d58f67323f1c4e": {
      "model_module": "@jupyter-widgets/controls",
      "model_module_version": "1.5.0",
      "model_name": "DescriptionStyleModel",
      "state": {
       "description_width": ""
      }
     },
     "689376b232424254a7a506423dd82ae1": {
      "model_module": "@jupyter-widgets/base",
      "model_module_version": "1.2.0",
      "model_name": "LayoutModel",
      "state": {
       "overflow_x": "scroll"
      }
     },
     "68b6909c91ff4caabebeb1925ac22a9a": {
      "model_module": "@jupyter-widgets/controls",
      "model_module_version": "1.5.0",
      "model_name": "DescriptionStyleModel",
      "state": {
       "description_width": ""
      }
     },
     "69f9c49dbbe64bb68f2217389bb328cb": {
      "model_module": "@jupyter-widgets/base",
      "model_module_version": "1.2.0",
      "model_name": "LayoutModel",
      "state": {
       "grid_area": "bottom",
       "width": "auto"
      }
     },
     "6acd6b38b6934615a3849dd5d0d4252b": {
      "model_module": "@jupyter-widgets/base",
      "model_module_version": "1.2.0",
      "model_name": "LayoutModel",
      "state": {
       "width": "70px"
      }
     },
     "6e43a054049246ef9e5f7e54194e3d46": {
      "model_module": "@jupyter-widgets/controls",
      "model_module_version": "1.5.0",
      "model_name": "VBoxModel",
      "state": {
       "children": [
        "IPY_MODEL_3bc656a0119b40b39c1d7be5be31a7dd",
        "IPY_MODEL_235212af99004c68a3eb713c851795aa"
       ],
       "layout": "IPY_MODEL_d258fc85a6c841dcb66286af4bdb3010"
      }
     },
     "6f198a5f21d84e54a9e72be8f664765e": {
      "model_module": "@jupyter-widgets/controls",
      "model_module_version": "1.5.0",
      "model_name": "GridBoxModel",
      "state": {
       "children": [
        "IPY_MODEL_539371e26c664533a62ec20bf27dc1df",
        "IPY_MODEL_db375aed1ba9464f8dd325af55289ac4",
        "IPY_MODEL_c7c8a783bda4465bbe98bc7c6c74759a"
       ],
       "layout": "IPY_MODEL_a38fd5a4d1f14a818957c1d085c4ad2c"
      }
     },
     "6f4dbec3bd16482facd00d95212ae212": {
      "model_module": "@jupyter-widgets/controls",
      "model_module_version": "1.5.0",
      "model_name": "HTMLModel",
      "state": {
       "layout": "IPY_MODEL_ce2bcfb7bfe04320bd4e8509b9497bae",
       "style": "IPY_MODEL_8058c985f3c946b282545b45ec281093",
       "value": "<div><font style='font-weight:bold'>last_update_date</font>: 2021-09-18 04:40:36+00:00</div>"
      }
     },
     "6fddb0d7491f4e6392884fe3f424d232": {
      "model_module": "@jupyter-widgets/controls",
      "model_module_version": "1.5.0",
      "model_name": "HBoxModel",
      "state": {
       "children": [
        "IPY_MODEL_9d3c39d5e534442dbc59a5b08fa18366",
        "IPY_MODEL_451e15f88a174f67a97c92153257f47c",
        "IPY_MODEL_fe148e83d4e849d3a010636a9ff9cd4c",
        "IPY_MODEL_c0e19b0aac7d4445b4b6517fa8987445",
        "IPY_MODEL_874dabbaef794f03ab0e8f88d105023e",
        "IPY_MODEL_532a450ebb0146aaa20f842cb46fac09"
       ],
       "layout": "IPY_MODEL_8527007d3bb041b296cead7e3525eec8"
      }
     },
     "73f209b08c19477899417d290eacedaa": {
      "model_module": "@jupyter-widgets/controls",
      "model_module_version": "1.5.0",
      "model_name": "HTMLModel",
      "state": {
       "layout": "IPY_MODEL_90a8690f44954006997b9afeae37829e",
       "style": "IPY_MODEL_4cb88ca2e8f64dc9a026fd02059c5918",
       "value": "<h5>Status</h5>"
      }
     },
     "8058c985f3c946b282545b45ec281093": {
      "model_module": "@jupyter-widgets/controls",
      "model_module_version": "1.5.0",
      "model_name": "DescriptionStyleModel",
      "state": {
       "description_width": ""
      }
     },
     "82c7c34bde934a46ad5713e779c51bf4": {
      "model_module": "@jupyter-widgets/base",
      "model_module_version": "1.2.0",
      "model_name": "LayoutModel",
      "state": {
       "grid_gap": "0px 0px",
       "grid_template_areas": "\n                                                   \"top top top\"\n                                                   \"left middle right\"\n                                                   ",
       "grid_template_columns": "33% 33% 33%",
       "grid_template_rows": "auto auto"
      }
     },
     "8527007d3bb041b296cead7e3525eec8": {
      "model_module": "@jupyter-widgets/base",
      "model_module_version": "1.2.0",
      "model_name": "LayoutModel",
      "state": {
       "max_width": "700px",
       "min_width": "700px"
      }
     },
     "86c11adc09cb4a0896874b96182ef436": {
      "model_module": "@jupyter-widgets/controls",
      "model_module_version": "1.5.0",
      "model_name": "DescriptionStyleModel",
      "state": {
       "description_width": ""
      }
     },
     "874dabbaef794f03ab0e8f88d105023e": {
      "model_module": "@jupyter-widgets/controls",
      "model_module_version": "1.5.0",
      "model_name": "HTMLModel",
      "state": {
       "layout": "IPY_MODEL_f24815db9e73487d86e966402646865d",
       "style": "IPY_MODEL_06fe3654d9e2417bbea7d6e573c85d5c",
       "value": "-"
      }
     },
     "879e3d582167458f892ce20707fcaec3": {
      "model_module": "@jupyter-widgets/base",
      "model_module_version": "1.2.0",
      "model_name": "LayoutModel",
      "state": {
       "margin": "0px 5px 0px 0px",
       "width": "32px"
      }
     },
     "8b1628897f9e47b597f7ae16e5fb665c": {
      "model_module": "@jupyter-widgets/controls",
      "model_module_version": "1.5.0",
      "model_name": "HTMLModel",
      "state": {
       "layout": "IPY_MODEL_f5941586c0cb43e6b4dbba28c8e8dd75",
       "style": "IPY_MODEL_b70bcd8f353140b9a566b2e52c8ff737",
       "value": "<table><style>\ntable {\n    border-collapse: collapse;\n    width: auto;\n}\n\nth, td {\n    text-align: left;\n    padding: 8px;\n}\n\ntr:nth-child(even) {background-color: #f6f6f6;};\n</style><tr><th></th><th>Type</th><th>Gate error</th></tr><tr><td><font style='font-weight:bold'>cx1_0</font></td><td>cx</td><td>0.00511</td></tr><tr><td><font style='font-weight:bold'>cx3_1</font></td><td>cx</td><td>0.01415</td></tr><tr><td><font style='font-weight:bold'>cx1_3</font></td><td>cx</td><td>0.01415</td></tr></table>"
      }
     },
     "8c6b7caf35fd4491a3952d441481b6d1": {
      "model_module": "@jupyter-widgets/base",
      "model_module_version": "1.2.0",
      "model_name": "LayoutModel",
      "state": {
       "width": "190px"
      }
     },
     "8eabfe2dd55b42d091842096b47086c2": {
      "model_module": "@jupyter-widgets/controls",
      "model_module_version": "1.5.0",
      "model_name": "HTMLModel",
      "state": {
       "layout": "IPY_MODEL_2e685eaf9a234b1999e237cbb072c8b2",
       "style": "IPY_MODEL_13219ca0b4db406ab01c2e3c93ba157e",
       "value": "<h5>Message</h5>"
      }
     },
     "8fcf4e4b4be44f54b4db63d5c98ed0f4": {
      "model_module": "@jupyter-widgets/base",
      "model_module_version": "1.2.0",
      "model_name": "LayoutModel",
      "state": {
       "grid_area": "left",
       "width": "100%"
      }
     },
     "90a8690f44954006997b9afeae37829e": {
      "model_module": "@jupyter-widgets/base",
      "model_module_version": "1.2.0",
      "model_name": "LayoutModel",
      "state": {
       "width": "95px"
      }
     },
     "9574dc5faef144fea6d7cb4ba04c5f43": {
      "model_module": "@jupyter-widgets/controls",
      "model_module_version": "1.5.0",
      "model_name": "DescriptionStyleModel",
      "state": {
       "description_width": ""
      }
     },
     "9d3c39d5e534442dbc59a5b08fa18366": {
      "model_module": "@jupyter-widgets/controls",
      "model_module_version": "1.5.0",
      "model_name": "ButtonModel",
      "state": {
       "icon": "close",
       "layout": "IPY_MODEL_879e3d582167458f892ce20707fcaec3",
       "style": "IPY_MODEL_a82040fd6abc4e5ab09cecc8c6c247c2"
      }
     },
     "9e7f660464234400a8ada30f66be92fc": {
      "model_module": "@jupyter-widgets/controls",
      "model_module_version": "1.5.0",
      "model_name": "GridBoxModel",
      "state": {
       "children": [
        "IPY_MODEL_13f54adbc05e40dca79bda3282537d8b"
       ],
       "layout": "IPY_MODEL_fc3228b22e074191a8cdaa3958c750b1"
      }
     },
     "9ff7713ca530423788a6c85926387abb": {
      "model_module": "@jupyter-widgets/base",
      "model_module_version": "1.2.0",
      "model_name": "LayoutModel",
      "state": {
       "align_items": "center",
       "display": "flex-inline"
      }
     },
     "a1c4e47e58a447d9b9f43f0f6b70342f": {
      "model_module": "@jupyter-widgets/controls",
      "model_module_version": "1.5.0",
      "model_name": "GridBoxModel",
      "state": {
       "children": [
        "IPY_MODEL_6f4dbec3bd16482facd00d95212ae212",
        "IPY_MODEL_4d110924330648aa9e22379654999dcd",
        "IPY_MODEL_8b1628897f9e47b597f7ae16e5fb665c",
        "IPY_MODEL_cc4aaa2f88084fa6946f49ccd7353347"
       ],
       "layout": "IPY_MODEL_82c7c34bde934a46ad5713e779c51bf4"
      }
     },
     "a38fd5a4d1f14a818957c1d085c4ad2c": {
      "model_module": "@jupyter-widgets/base",
      "model_module_version": "1.2.0",
      "model_name": "LayoutModel",
      "state": {
       "grid_gap": "0px 0px",
       "grid_template_areas": "\n                               \"left right right right\"\n                               \"bottom bottom bottom bottom\"\n                               ",
       "grid_template_columns": "31% 23% 23% 23%",
       "grid_template_rows": "auto auto"
      }
     },
     "a77820bdd1e24c4e8626fe3a46406c9f": {
      "model_module": "@jupyter-widgets/controls",
      "model_module_version": "1.5.0",
      "model_name": "HTMLModel",
      "state": {
       "layout": "IPY_MODEL_4922b24a821b4a9e8d859298fb790ef0",
       "style": "IPY_MODEL_a81885f329904fac9851aa4817605af5",
       "value": "<h1 style='color:#ffffff;background-color:#000000;padding-top: 1%;padding-bottom: 1%;padding-left: 1%; margin-top: 0px'>ibmq_lima</h1>"
      }
     },
     "a81885f329904fac9851aa4817605af5": {
      "model_module": "@jupyter-widgets/controls",
      "model_module_version": "1.5.0",
      "model_name": "DescriptionStyleModel",
      "state": {
       "description_width": ""
      }
     },
     "a82040fd6abc4e5ab09cecc8c6c247c2": {
      "model_module": "@jupyter-widgets/controls",
      "model_module_version": "1.5.0",
      "model_name": "ButtonStyleModel",
      "state": {
       "button_color": "white"
      }
     },
     "b70bcd8f353140b9a566b2e52c8ff737": {
      "model_module": "@jupyter-widgets/controls",
      "model_module_version": "1.5.0",
      "model_name": "DescriptionStyleModel",
      "state": {
       "description_width": ""
      }
     },
     "bf70caea69754f9b8f49b9c545c625ef": {
      "model_module": "@jupyter-widgets/base",
      "model_module_version": "1.2.0",
      "model_name": "LayoutModel",
      "state": {
       "width": "190px"
      }
     },
     "c0e19b0aac7d4445b4b6517fa8987445": {
      "model_module": "@jupyter-widgets/controls",
      "model_module_version": "1.5.0",
      "model_name": "HTMLModel",
      "state": {
       "layout": "IPY_MODEL_cd7baf8f449b40278f3ab6f08ed58ca0",
       "style": "IPY_MODEL_9574dc5faef144fea6d7cb4ba04c5f43",
       "value": "<font style='color:#34BC6E'>DONE</font>"
      }
     },
     "c19bd9a3508342bcb32720201739d9a6": {
      "model_module": "@jupyter-widgets/controls",
      "model_module_version": "1.5.0",
      "model_name": "ButtonStyleModel",
      "state": {}
     },
     "c7c8a783bda4465bbe98bc7c6c74759a": {
      "model_module": "@jupyter-widgets/controls",
      "model_module_version": "1.5.0",
      "model_name": "HTMLMathModel",
      "state": {
       "layout": "IPY_MODEL_69f9c49dbbe64bb68f2217389bb328cb",
       "style": "IPY_MODEL_058a0b034663469f967077e1c8094ac0",
       "value": "<table><style>\ntable {\n    border-collapse: collapse;\n    width: auto;\n}\n\nth, td {\n    text-align: left;\n    padding: 8px;\n}\n\ntr:nth-child(even) {background-color: #f6f6f6;}\n</style><tr><th></th><th></th></tr><tr><td>online_date</td><td>2021-01-08 05:00:00+00:00</td></tr><tr><td>meas_kernels</td><td>['hw_boxcar']</td></tr><tr><td>meas_lo_range</td><td>[[6.925143125000001, 7.925143125000001], [6.721646720000001, 7.721646720000001], [6.971842939, 7.971842939], [6.865317232000001, 7.865317232000001], [6.919067567000001, 7.919067567000001]]</td></tr><tr><td>dtm</td><td>0.2222222222222222</td></tr><tr><td>backend_name</td><td>ibmq_lima</td></tr><tr><td>uchannels_enabled</td><td>True</td></tr><tr><td>rep_delay_range</td><td>[0.0, 500.0]</td></tr><tr><td>memory</td><td>True</td></tr><tr><td>pulse_num_channels</td><td>9</td></tr><tr><td>sample_name</td><td>family: Falcon, revision: 4, segment: T</td></tr><tr><td>meas_map</td><td>[[0, 1, 2, 3, 4]]</td></tr><tr><td>channels</td><td>{'acquire0': {'operates': {'qubits': [0]}, 'purpose': 'acquire', 'type': 'acquire'}, 'acquire1': {'operates': {'qubits': [1]}, 'purpose': 'acquire', 'type': 'acquire'}, 'acquire2': {'operates': {'qubits': [2]}, 'purpose': 'acquire', 'type': 'acquire'}, 'acquire3': {'operates': {'qubits': [3]}, 'purpose': 'acquire', 'type': 'acquire'}, 'acquire4': {'operates': {'qubits': [4]}, 'purpose': 'acquire', 'type': 'acquire'}, 'd0': {'operates': {'qubits': [0]}, 'purpose': 'drive', 'type': 'drive'}, 'd1': {'operates': {'qubits': [1]}, 'purpose': 'drive', 'type': 'drive'}, 'd2': {'operates': {'qubits': [2]}, 'purpose': 'drive', 'type': 'drive'}, 'd3': {'operates': {'qubits': [3]}, 'purpose': 'drive', 'type': 'drive'}, 'd4': {'operates': {'qubits': [4]}, 'purpose': 'drive', 'type': 'drive'}, 'm0': {'operates': {'qubits': [0]}, 'purpose': 'measure', 'type': 'measure'}, 'm1': {'operates': {'qubits': [1]}, 'purpose': 'measure', 'type': 'measure'}, 'm2': {'operates': {'qubits': [2]}, 'purpose': 'measure', 'type': 'measure'}, 'm3': {'operates': {'qubits': [3]}, 'purpose': 'measure', 'type': 'measure'}, 'm4': {'operates': {'qubits': [4]}, 'purpose': 'measure', 'type': 'measure'}, 'u0': {'operates': {'qubits': [0, 1]}, 'purpose': 'cross-resonance', 'type': 'control'}, 'u1': {'operates': {'qubits': [1, 0]}, 'purpose': 'cross-resonance', 'type': 'control'}, 'u2': {'operates': {'qubits': [1, 2]}, 'purpose': 'cross-resonance', 'type': 'control'}, 'u3': {'operates': {'qubits': [1, 3]}, 'purpose': 'cross-resonance', 'type': 'control'}, 'u4': {'operates': {'qubits': [2, 1]}, 'purpose': 'cross-resonance', 'type': 'control'}, 'u5': {'operates': {'qubits': [3, 1]}, 'purpose': 'cross-resonance', 'type': 'control'}, 'u6': {'operates': {'qubits': [3, 4]}, 'purpose': 'cross-resonance', 'type': 'control'}, 'u7': {'operates': {'qubits': [4, 3]}, 'purpose': 'cross-resonance', 'type': 'control'}}</td></tr><tr><td>dt</td><td>0.2222222222222222</td></tr><tr><td>qubit_channel_mapping</td><td>[['u0', 'd0', 'm0', 'u1'], ['d1', 'u5', 'u2', 'u1', 'u0', 'm1', 'u3', 'u4'], ['d2', 'm2', 'u2', 'u4'], ['d3', 'u5', 'u6', 'u7', 'u3', 'm3'], ['u6', 'u7', 'd4', 'm4']]</td></tr><tr><td>meas_levels</td><td>[1, 2]</td></tr><tr><td>simulator</td><td>False</td></tr><tr><td>pulse_num_qubits</td><td>3</td></tr><tr><td>processor_type</td><td>{'family': 'Falcon', 'revision': 4, 'segment': 'T'}</td></tr><tr><td>supported_instructions</td><td>['id', 'cx', 'rz', 'u1', 'u2', 'play', 'setf', 'delay', 'u3', 'acquire', 'shiftf', 'measure', 'reset', 'x', 'sx']</td></tr><tr><td>description</td><td>5 qubit device Lima</td></tr><tr><td>allow_object_storage</td><td>True</td></tr><tr><td>discriminators</td><td>['hw_centroid', 'linear_discriminator', 'quadratic_discriminator']</td></tr><tr><td>rep_times</td><td>[1000.0]</td></tr><tr><td>qubit_lo_range</td><td>[[4.529734583965859, 5.529734583965859], [4.627645781301399, 5.627645781301399], [4.747347113554824, 5.747347113554825], [4.802343061911863, 5.802343061911863], [4.592158295486757, 5.592158295486757]]</td></tr><tr><td>dynamic_reprate_enabled</td><td>True</td></tr><tr><td>open_pulse</td><td>False</td></tr><tr><td>multi_meas_enabled</td><td>True</td></tr><tr><td>local</td><td>False</td></tr><tr><td>coupling_map</td><td>[[0, 1], [1, 0], [1, 2], [1, 3], [2, 1], [3, 1], [3, 4], [4, 3]]</td></tr><tr><td>n_registers</td><td>1</td></tr><tr><td>parametric_pulses</td><td>['gaussian', 'gaussian_square', 'drag', 'constant']</td></tr><tr><td>n_uchannels</td><td>8</td></tr><tr><td>default_rep_delay</td><td>250.0</td></tr><tr><td>u_channel_lo</td><td>[[{'q': 1, 'scale': (1+0j)}], [{'q': 0, 'scale': (1+0j)}], [{'q': 2, 'scale': (1+0j)}], [{'q': 3, 'scale': (1+0j)}], [{'q': 1, 'scale': (1+0j)}], [{'q': 1, 'scale': (1+0j)}], [{'q': 4, 'scale': (1+0j)}], [{'q': 3, 'scale': (1+0j)}]]</td></tr><tr><td>conditional_latency</td><td>[]</td></tr><tr><td>conditional</td><td>False</td></tr><tr><td>acquisition_latency</td><td>[]</td></tr><tr><td>credits_required</td><td>True</td></tr><tr><td>measure_esp_enabled</td><td>False</td></tr><tr><td>timing_constraints</td><td>{'acquire_alignment': 16, 'granularity': 16, 'min_length': 64, 'pulse_alignment': 1}</td></tr><tr><td>allow_q_object</td><td>True</td></tr><tr><td>hamiltonian</td><td>$$\\begin{align} \\mathcal{H}/\\hbar = & \\sum_{i=0}^{4}\\left(\\frac{\\omega_{q,i}}{2}(\\mathbb{I}-\\sigma_i^{z})+\\frac{\\Delta_{i}}{2}(O_i^2-O_i)+\\Omega_{d,i}D_i(t)\\sigma_i^{X}\\right) \\\\ & + J_{0,1}(\\sigma_{0}^{+}\\sigma_{1}^{-}+\\sigma_{0}^{-}\\sigma_{1}^{+}) + J_{1,2}(\\sigma_{1}^{+}\\sigma_{2}^{-}+\\sigma_{1}^{-}\\sigma_{2}^{+}) + J_{1,3}(\\sigma_{1}^{+}\\sigma_{3}^{-}+\\sigma_{1}^{-}\\sigma_{3}^{+}) + J_{3,4}(\\sigma_{3}^{+}\\sigma_{4}^{-}+\\sigma_{3}^{-}\\sigma_{4}^{+}) \\\\ & + \\Omega_{d,0}(U_{0}^{(0,1)}(t))\\sigma_{0}^{X} + \\Omega_{d,1}(U_{1}^{(1,0)}(t)+U_{3}^{(1,3)}(t)+U_{2}^{(1,2)}(t))\\sigma_{1}^{X} \\\\ & + \\Omega_{d,2}(U_{4}^{(2,1)}(t))\\sigma_{2}^{X} + \\Omega_{d,3}(U_{6}^{(3,4)}(t)+U_{5}^{(3,1)}(t))\\sigma_{3}^{X} \\\\ & + \\Omega_{d,4}(U_{7}^{(4,3)}(t))\\sigma_{4}^{X} \\\\ \\end{align}$$</td></tr><tr><td>input_allowed</td><td>['job', 'runtime']</td></tr><tr><td>url</td><td>None</td></tr></table>"
      }
     },
     "c9ada81627d444048fcf3c970581a8dc": {
      "model_module": "@jupyter-widgets/controls",
      "model_module_version": "1.5.0",
      "model_name": "DescriptionStyleModel",
      "state": {
       "description_width": ""
      }
     },
     "cc4aaa2f88084fa6946f49ccd7353347": {
      "model_module": "@jupyter-widgets/controls",
      "model_module_version": "1.5.0",
      "model_name": "HTMLModel",
      "state": {
       "layout": "IPY_MODEL_d1f00e06b7c94f5e9c0030740aaa0028",
       "style": "IPY_MODEL_5b5c7f93dbff4f44a57958f15ca3eead",
       "value": "<table><style>\ntable {\n    border-collapse: collapse;\n    width: auto;\n}\n\nth, td {\n    text-align: left;\n    padding: 8px;\n}\n\ntr:nth-child(even) {background-color: #f6f6f6;};\n</style><tr><th></th><th>Type</th><th>Gate error</th></tr><tr><td><font style='font-weight:bold'>cx2_1</font></td><td>cx</td><td>0.005</td></tr><tr><td><font style='font-weight:bold'>cx1_2</font></td><td>cx</td><td>0.005</td></tr></table>"
      }
     },
     "cca213538176446288cf82a6de9aa955": {
      "model_module": "@jupyter-widgets/controls",
      "model_module_version": "1.5.0",
      "model_name": "HTMLModel",
      "state": {
       "layout": "IPY_MODEL_bf70caea69754f9b8f49b9c545c625ef",
       "style": "IPY_MODEL_fac38d22412644868471cd8fb0efc8a5",
       "value": "<h5>Job ID</h5>"
      }
     },
     "cd7baf8f449b40278f3ab6f08ed58ca0": {
      "model_module": "@jupyter-widgets/base",
      "model_module_version": "1.2.0",
      "model_name": "LayoutModel",
      "state": {
       "width": "95px"
      }
     },
     "ce2bcfb7bfe04320bd4e8509b9497bae": {
      "model_module": "@jupyter-widgets/base",
      "model_module_version": "1.2.0",
      "model_name": "LayoutModel",
      "state": {
       "grid_area": "top"
      }
     },
     "d1f00e06b7c94f5e9c0030740aaa0028": {
      "model_module": "@jupyter-widgets/base",
      "model_module_version": "1.2.0",
      "model_name": "LayoutModel",
      "state": {
       "grid_area": "right"
      }
     },
     "d258fc85a6c841dcb66286af4bdb3010": {
      "model_module": "@jupyter-widgets/base",
      "model_module_version": "1.2.0",
      "model_name": "LayoutModel",
      "state": {}
     },
     "db375aed1ba9464f8dd325af55289ac4": {
      "model_module": "@jupyter-widgets/output",
      "model_module_version": "1.0.0",
      "model_name": "OutputModel",
      "state": {
       "layout": "IPY_MODEL_e1fa8fd2052847adb56c8f9dd57954cd",
       "outputs": [
        {
         "data": {
          "image/png": "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\n",
          "text/plain": "<Figure size 360x360 with 1 Axes>"
         },
         "metadata": {},
         "output_type": "display_data"
        }
       ]
      }
     },
     "e15e514dfecc42099f7c8d2bb52cc039": {
      "model_module": "@jupyter-widgets/controls",
      "model_module_version": "1.5.0",
      "model_name": "DescriptionStyleModel",
      "state": {
       "description_width": ""
      }
     },
     "e1fa8fd2052847adb56c8f9dd57954cd": {
      "model_module": "@jupyter-widgets/base",
      "model_module_version": "1.2.0",
      "model_name": "LayoutModel",
      "state": {
       "align_items": "center",
       "display": "flex-inline",
       "grid_area": "right",
       "max_height": "325px",
       "padding": "10px 10px 10px 10px",
       "width": "auto"
      }
     },
     "e545e5eace814b93b8300178ab9bf460": {
      "model_module": "@jupyter-widgets/base",
      "model_module_version": "1.2.0",
      "model_name": "LayoutModel",
      "state": {
       "overflow_y": "scroll"
      }
     },
     "f24815db9e73487d86e966402646865d": {
      "model_module": "@jupyter-widgets/base",
      "model_module_version": "1.2.0",
      "model_name": "LayoutModel",
      "state": {
       "width": "70px"
      }
     },
     "f3aa23d3ce6b4e7eab6cd3aeacc72bb9": {
      "model_module": "@jupyter-widgets/controls",
      "model_module_version": "1.5.0",
      "model_name": "TabModel",
      "state": {
       "_titles": {
        "0": "Configuration",
        "1": "Qubit Properties",
        "2": "Multi-Qubit Gates",
        "3": "Error Map",
        "4": "Job History"
       },
       "children": [
        "IPY_MODEL_6f198a5f21d84e54a9e72be8f664765e",
        "IPY_MODEL_6e43a054049246ef9e5f7e54194e3d46",
        "IPY_MODEL_a1c4e47e58a447d9b9f43f0f6b70342f",
        "IPY_MODEL_0b7f7bc6d77b4addb0c055b1ffd4aa2d",
        "IPY_MODEL_0116c161a56545d6910d6e965dc2f024"
       ],
       "layout": "IPY_MODEL_e545e5eace814b93b8300178ab9bf460"
      }
     },
     "f42dccbd5d504d9683efea87e3d276d6": {
      "model_module": "@jupyter-widgets/base",
      "model_module_version": "1.2.0",
      "model_name": "LayoutModel",
      "state": {
       "max_height": "620px"
      }
     },
     "f5941586c0cb43e6b4dbba28c8e8dd75": {
      "model_module": "@jupyter-widgets/base",
      "model_module_version": "1.2.0",
      "model_name": "LayoutModel",
      "state": {
       "grid_area": "middle"
      }
     },
     "fac38d22412644868471cd8fb0efc8a5": {
      "model_module": "@jupyter-widgets/controls",
      "model_module_version": "1.5.0",
      "model_name": "DescriptionStyleModel",
      "state": {
       "description_width": ""
      }
     },
     "fc3228b22e074191a8cdaa3958c750b1": {
      "model_module": "@jupyter-widgets/base",
      "model_module_version": "1.2.0",
      "model_name": "LayoutModel",
      "state": {
       "grid_template_areas": "\n                                       \". . . . right \"\n                                        ",
       "grid_template_columns": "20% 20% 20% 20% 20%",
       "width": "100%"
      }
     },
     "fe148e83d4e849d3a010636a9ff9cd4c": {
      "model_module": "@jupyter-widgets/controls",
      "model_module_version": "1.5.0",
      "model_name": "HTMLModel",
      "state": {
       "layout": "IPY_MODEL_57ce01bd3d164200a99334d4780c08b5",
       "style": "IPY_MODEL_68b6909c91ff4caabebeb1925ac22a9a",
       "value": "ibmq_lima"
      }
     },
     "fffd8cc3754e4b6689710e70fb05c621": {
      "model_module": "@jupyter-widgets/base",
      "model_module_version": "1.2.0",
      "model_name": "LayoutModel",
      "state": {
       "width": "145px"
      }
     }
    },
    "version_major": 2,
    "version_minor": 0
   }
  }
 },
 "nbformat": 4,
 "nbformat_minor": 5
}
