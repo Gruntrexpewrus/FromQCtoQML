{
 "cells": [
  {
   "cell_type": "markdown",
   "id": "281cea0e-a43d-4ff9-abf2-87760bf36898",
   "metadata": {},
   "source": [
    "# Grover implementation with 5 qubits and 1 marked state"
   ]
  },
  {
   "cell_type": "code",
   "execution_count": 44,
   "id": "ad7bc1ec-2f61-48f0-b6e5-744f849c43e6",
   "metadata": {},
   "outputs": [
    {
     "name": "stderr",
     "output_type": "stream",
     "text": [
      "ibmqfactory.load_account:WARNING:2021-09-18 15:49:17,439: Credentials are already in use. The existing account in the session will be replaced.\n"
     ]
    }
   ],
   "source": [
    "import numpy as np\n",
    "\n",
    "# Importing standard Qiskit libraries\n",
    "from qiskit import QuantumCircuit, transpile, Aer, IBMQ, assemble\n",
    "from qiskit.tools.jupyter import *\n",
    "from qiskit.visualization import *\n",
    "from ibm_quantum_widgets import *\n",
    "from qiskit.providers.aer import QasmSimulator\n",
    "\n",
    "# Loading your IBM Quantum account(s)\n",
    "provider = IBMQ.load_account()"
   ]
  },
  {
   "cell_type": "code",
   "execution_count": 45,
   "id": "6e0ba78a-1737-447e-93a6-e4f198271b17",
   "metadata": {},
   "outputs": [
    {
     "name": "stdout",
     "output_type": "stream",
     "text": [
      "Available backends:\n"
     ]
    },
    {
     "data": {
      "text/plain": [
       "[<IBMQSimulator('ibmq_qasm_simulator') from IBMQ(hub='ibm-q', group='open', project='main')>,\n",
       " <IBMQBackend('ibmq_armonk') from IBMQ(hub='ibm-q', group='open', project='main')>,\n",
       " <IBMQBackend('ibmq_santiago') from IBMQ(hub='ibm-q', group='open', project='main')>,\n",
       " <IBMQBackend('ibmq_bogota') from IBMQ(hub='ibm-q', group='open', project='main')>,\n",
       " <IBMQBackend('ibmq_lima') from IBMQ(hub='ibm-q', group='open', project='main')>,\n",
       " <IBMQBackend('ibmq_belem') from IBMQ(hub='ibm-q', group='open', project='main')>,\n",
       " <IBMQBackend('ibmq_quito') from IBMQ(hub='ibm-q', group='open', project='main')>,\n",
       " <IBMQSimulator('simulator_statevector') from IBMQ(hub='ibm-q', group='open', project='main')>,\n",
       " <IBMQSimulator('simulator_mps') from IBMQ(hub='ibm-q', group='open', project='main')>,\n",
       " <IBMQSimulator('simulator_extended_stabilizer') from IBMQ(hub='ibm-q', group='open', project='main')>,\n",
       " <IBMQSimulator('simulator_stabilizer') from IBMQ(hub='ibm-q', group='open', project='main')>,\n",
       " <IBMQBackend('ibmq_manila') from IBMQ(hub='ibm-q', group='open', project='main')>]"
      ]
     },
     "execution_count": 45,
     "metadata": {},
     "output_type": "execute_result"
    }
   ],
   "source": [
    "print(\"Available backends:\")\n",
    "provider.backends()\n"
   ]
  },
  {
   "cell_type": "code",
   "execution_count": 46,
   "id": "074f0d1a-4a9c-4cc1-8eb3-17ce589efd8e",
   "metadata": {},
   "outputs": [
    {
     "name": "stdout",
     "output_type": "stream",
     "text": [
      "The best backend is ibmq_quito\n"
     ]
    }
   ],
   "source": [
    "from qiskit.providers.ibmq import least_busy\n",
    "\n",
    "large_enough_devices = provider.backends(filters=lambda x: x.configuration().n_qubits > 3 and not x.configuration().simulator)\n",
    "backend = least_busy(large_enough_devices)\n",
    "print(\"The best backend is \" + backend.name())\n"
   ]
  },
  {
   "cell_type": "code",
   "execution_count": 73,
   "id": "5031fbb8-afaf-4786-8ed7-497bda88018d",
   "metadata": {},
   "outputs": [],
   "source": [
    "backend = provider.get_backend('ibmq_lima')"
   ]
  },
  {
   "cell_type": "code",
   "execution_count": 74,
   "id": "d39ce7bc-b357-40d0-be31-0aab3231e945",
   "metadata": {},
   "outputs": [
    {
     "data": {
      "application/vnd.jupyter.widget-view+json": {
       "model_id": "8e0af6c28526439b93a5056cf102ff5b",
       "version_major": 2,
       "version_minor": 0
      },
      "text/plain": [
       "VBox(children=(HTML(value=\"<h1 style='color:#ffffff;background-color:#000000;padding-top: 1%;padding-bottom: 1…"
      ]
     },
     "metadata": {},
     "output_type": "display_data"
    },
    {
     "data": {
      "text/plain": [
       "<IBMQBackend('ibmq_lima') from IBMQ(hub='ibm-q', group='open', project='main')>"
      ]
     },
     "execution_count": 74,
     "metadata": {},
     "output_type": "execute_result"
    }
   ],
   "source": [
    "backend"
   ]
  },
  {
   "cell_type": "markdown",
   "id": "7b8d2470-90d7-410a-bb98-35ce622d0d7c",
   "metadata": {},
   "source": [
    "Here I code Grover's Algorithm with 5 qubits"
   ]
  },
  {
   "cell_type": "code",
   "execution_count": 75,
   "id": "5ed4955d-e07e-4236-9256-d7acd1469191",
   "metadata": {},
   "outputs": [],
   "source": [
    "#def initialization in superposition\n",
    "def initialization(qc, qubits):\n",
    "    for qubit in qubits:\n",
    "        qc.h(qubit)\n",
    "    return qc"
   ]
  },
  {
   "cell_type": "code",
   "execution_count": 76,
   "id": "39361759-022f-4ac9-9fbc-cef1ce307c2c",
   "metadata": {},
   "outputs": [
    {
     "data": {
      "image/png": "[encoded data removed]",
      "text/plain": [
       "<Figure size 146.797x325.08 with 1 Axes>"
      ]
     },
     "execution_count": 76,
     "metadata": {},
     "output_type": "execute_result"
    }
   ],
   "source": [
    "example = QuantumCircuit(5)\n",
    "example_ = initialization(example, range(5))\n",
    "example_.draw('mpl')"
   ]
  },
  {
   "cell_type": "code",
   "execution_count": 77,
   "id": "e27a5f38-f451-4b54-942c-043344eff5ac",
   "metadata": {},
   "outputs": [
    {
     "data": {
      "image/png": "[encoded data removed]",
      "text/plain": [
       "<Figure size 327.397x325.08 with 1 Axes>"
      ]
     },
     "execution_count": 77,
     "metadata": {},
     "output_type": "execute_result"
    }
   ],
   "source": [
    "#def oracle marking state [0,0,.....1]\n",
    "# 1 state marked\n",
    "num_q = 5\n",
    "\n",
    "from numpy import pi\n",
    "qc = QuantumCircuit(num_q)\n",
    "\n",
    "for i in range(num_q -2):\n",
    "    qc.x(i)\n",
    "qc.h(num_q -1)\n",
    "qc.mct(list(range(num_q -2)), num_q -1)  # multi-controlled-toffoli\n",
    "qc.h(num_q -2)\n",
    "#o = [0, 1, 2, 4]\n",
    "qc.mct(list(range(num_q -2)), num_q -2)\n",
    "#qc.mct(o, num_q -2)\n",
    "qc.h(num_q -2)\n",
    "#temp\n",
    "#qc.h(num_q -2)\n",
    "#qc.mct(list(range(num_q -2)), num_q -2)  # multi-controlled-toffoli\n",
    "#qc.h(num_q -2)\n",
    "#fine temp\n",
    "\n",
    "qc.h(num_q -1)\n",
    "for i in range(num_q -2):\n",
    "    qc.x(i)\n",
    "\n",
    "oracle_ = qc.to_gate()\n",
    "oracle_.name = \"Oracle\"\n",
    "qc.draw('mpl')\n"
   ]
  },
  {
   "cell_type": "code",
   "execution_count": 78,
   "id": "b579938f-6f21-4a0b-b8b4-3167dad955b8",
   "metadata": {},
   "outputs": [],
   "source": [
    "#diffuser\n",
    "def diffuser(nqubits):\n",
    "    qc = QuantumCircuit(nqubits)\n",
    "    # Apply transformation |s> -> |00..0> (H-gates)\n",
    "    for qubit in range(nqubits):\n",
    "        qc.h(qubit)\n",
    "    # Apply transformation |00..0> -> |11..1> (X-gates)\n",
    "    for qubit in range(nqubits):\n",
    "        qc.x(qubit)\n",
    "    # Do multi-controlled-Z gate\n",
    "    qc.h(nqubits-1)\n",
    "    qc.mct(list(range(nqubits-1)), nqubits-1)  # multi-controlled-toffoli\n",
    "    qc.h(nqubits-1)\n",
    "    # Apply transformation |11..1> -> |00..0>\n",
    "    for qubit in range(nqubits):\n",
    "        qc.x(qubit)\n",
    "    # Apply transformation |00..0> -> |s>\n",
    "    for qubit in range(nqubits):\n",
    "        qc.h(qubit)\n",
    "    # We will return the diffuser as a gate\n",
    "    U_s = qc.to_gate()\n",
    "    U_s.name = \"V\"\n",
    "    return U_s"
   ]
  },
  {
   "cell_type": "code",
   "execution_count": 79,
   "id": "8734018c-851f-431b-bb62-c4e7b0c44b63",
   "metadata": {},
   "outputs": [
    {
     "data": {
      "image/png": "[encoded data removed]",
      "text/plain": [
       "<Figure size 1080.08x385.28 with 1 Axes>"
      ]
     },
     "execution_count": 79,
     "metadata": {},
     "output_type": "execute_result"
    }
   ],
   "source": [
    "num_qubits = 5\n",
    "grover_circ = QuantumCircuit(num_qubits)\n",
    "grover_circ = initialization(grover_circ, range(num_qubits))\n",
    "for i in range(3):\n",
    "    grover_circ.append(oracle_, range(num_qubits))\n",
    "    grover_circ.append(diffuser(num_qubits), range(num_qubits))\n",
    "grover_circ.measure_all()\n",
    "grover_circ.draw()"
   ]
  },
  {
   "cell_type": "code",
   "execution_count": 80,
   "id": "c2a4c662-a476-4a42-b0fb-e39a7381c327",
   "metadata": {},
   "outputs": [
    {
     "data": {
      "image/png": "[encoded data removed]",
      "text/plain": [
       "<Figure size 1621.88x806.68 with 1 Axes>"
      ]
     },
     "execution_count": 80,
     "metadata": {},
     "output_type": "execute_result"
    }
   ],
   "source": [
    "grover_circ__ = grover_circ.decompose()\n",
    "grover_circ__.draw()"
   ]
  },
  {
   "cell_type": "markdown",
   "id": "bd922ded-17c1-407d-8daa-6549ce861e7e",
   "metadata": {},
   "source": [
    "# Evaluation on classical simulator"
   ]
  },
  {
   "cell_type": "code",
   "execution_count": 81,
   "id": "e53a5dd6-a584-4c3c-a969-12b1426e0676",
   "metadata": {},
   "outputs": [
    {
     "data": {
      "image/png": "[encoded data removed]",
      "text/plain": [
       "<Figure size 504x360 with 1 Axes>"
      ]
     },
     "execution_count": 81,
     "metadata": {},
     "output_type": "execute_result"
    }
   ],
   "source": [
    "aer_sim = Aer.get_backend('aer_simulator')\n",
    "transpiled_grover_circuit = transpile(grover_circ, aer_sim)\n",
    "qobj = assemble(transpiled_grover_circuit)\n",
    "results = aer_sim.run(qobj).result()\n",
    "counts = results.get_counts()\n",
    "plot_histogram(counts)"
   ]
  },
  {
   "cell_type": "code",
   "execution_count": 82,
   "id": "251f2da7-b12b-4230-ae71-f247deaa3b6a",
   "metadata": {},
   "outputs": [
    {
     "name": "stdout",
     "output_type": "stream",
     "text": [
      "Job Status: job has successfully run\n"
     ]
    }
   ],
   "source": [
    "from qiskit.tools.monitor import job_monitor\n",
    "device = backend\n",
    "transpiled_grover_circuit = transpile(grover_circ, device, optimization_level=3)\n",
    "job = device.run(transpiled_grover_circuit, shots = 8000)\n",
    "job_monitor(job, interval=2)"
   ]
  },
  {
   "cell_type": "markdown",
   "id": "86c9b80f-204e-4d30-a5d3-4591d87b8f81",
   "metadata": {},
   "source": [
    "# Results on Quantum Hardware\n",
    "We can see that the noise in the quantum hardware, considering also the lenght of the circuit given the 5 loops, makes impossible to find the correct solution. This problem could be solved simply considering more desired results, then reducing the loops."
   ]
  },
  {
   "cell_type": "code",
   "execution_count": 83,
   "id": "814ae93c-d835-4ca9-92a8-e6a9393ec9e8",
   "metadata": {},
   "outputs": [
    {
     "data": {
      "image/png": "[encoded data removed]",
      "text/plain": [
       "<Figure size 504x360 with 1 Axes>"
      ]
     },
     "execution_count": 83,
     "metadata": {},
     "output_type": "execute_result"
    }
   ],
   "source": [
    "results = job.result()\n",
    "answer = results.get_counts(grover_circ)\n",
    "plot_histogram(answer)"
   ]
  },
  {
   "cell_type": "code",
   "execution_count": null,
   "id": "da05d297-2dab-4d4d-b670-5f033b8f3293",
   "metadata": {},
   "outputs": [],
   "source": []
  },
  {
   "cell_type": "code",
   "execution_count": null,
   "id": "9280c193-376d-4731-ac5d-768c311f537d",
   "metadata": {},
   "outputs": [],
   "source": []
  }
 ],
 "metadata": {
  "kernelspec": {
   "display_name": "Qiskit v0.29.0",
   "language": "python",
   "name": "python3"
  },
  "language_info": {
   "codemirror_mode": {
    "name": "ipython",
    "version": 3
   },
   "file_extension": ".py",
   "mimetype": "text/x-python",
   "name": "python",
   "nbconvert_exporter": "python",
   "pygments_lexer": "ipython3",
   "version": "3.8.10"
  },
  "widgets": {
   "application/vnd.jupyter.widget-state+json": {
    "state": {
     "008945ef0232463ca22ead9384eb0047": {
      "model_module": "@jupyter-widgets/controls",
      "model_module_version": "1.5.0",
      "model_name": "HTMLMathModel",
      "state": {
       "layout": "IPY_MODEL_6347cce1a03846778494da604f80aa7d",
       "style": "IPY_MODEL_c1544b29651842e38305710a42b10b0a",
       "value": "<table><style>\ntable {\n    border-collapse: collapse;\n    width: auto;\n}\n\nth, td {\n    text-align: left;\n    padding: 8px;\n}\n\ntr:nth-child(even) {background-color: #f6f6f6;}\n</style><tr><th></th><th></th></tr><tr><td>credits_required</td><td>True</td></tr><tr><td>memory</td><td>True</td></tr><tr><td>qubit_lo_range</td><td>[[4.529734583965859, 5.529734583965859], [4.627645781301399, 5.627645781301399], [4.747347113554824, 5.747347113554825], [4.802343061911863, 5.802343061911863], [4.592158295486757, 5.592158295486757]]</td></tr><tr><td>pulse_num_channels</td><td>9</td></tr><tr><td>n_uchannels</td><td>8</td></tr><tr><td>pulse_num_qubits</td><td>3</td></tr><tr><td>supported_instructions</td><td>['id', 'cx', 'rz', 'u1', 'u2', 'play', 'setf', 'delay', 'u3', 'acquire', 'shiftf', 'measure', 'reset', 'x', 'sx']</td></tr><tr><td>rep_times</td><td>[1000.0]</td></tr><tr><td>conditional</td><td>False</td></tr><tr><td>coupling_map</td><td>[[0, 1], [1, 0], [1, 2], [1, 3], [2, 1], [3, 1], [3, 4], [4, 3]]</td></tr><tr><td>allow_object_storage</td><td>True</td></tr><tr><td>conditional_latency</td><td>[]</td></tr><tr><td>dynamic_reprate_enabled</td><td>True</td></tr><tr><td>online_date</td><td>2021-01-08 05:00:00+00:00</td></tr><tr><td>u_channel_lo</td><td>[[{'q': 1, 'scale': (1+0j)}], [{'q': 0, 'scale': (1+0j)}], [{'q': 2, 'scale': (1+0j)}], [{'q': 3, 'scale': (1+0j)}], [{'q': 1, 'scale': (1+0j)}], [{'q': 1, 'scale': (1+0j)}], [{'q': 4, 'scale': (1+0j)}], [{'q': 3, 'scale': (1+0j)}]]</td></tr><tr><td>qubit_channel_mapping</td><td>[['u0', 'd0', 'm0', 'u1'], ['d1', 'u5', 'u2', 'u1', 'u0', 'm1', 'u3', 'u4'], ['d2', 'm2', 'u2', 'u4'], ['d3', 'u5', 'u6', 'u7', 'u3', 'm3'], ['u6', 'u7', 'd4', 'm4']]</td></tr><tr><td>channels</td><td>{'acquire0': {'operates': {'qubits': [0]}, 'purpose': 'acquire', 'type': 'acquire'}, 'acquire1': {'operates': {'qubits': [1]}, 'purpose': 'acquire', 'type': 'acquire'}, 'acquire2': {'operates': {'qubits': [2]}, 'purpose': 'acquire', 'type': 'acquire'}, 'acquire3': {'operates': {'qubits': [3]}, 'purpose': 'acquire', 'type': 'acquire'}, 'acquire4': {'operates': {'qubits': [4]}, 'purpose': 'acquire', 'type': 'acquire'}, 'd0': {'operates': {'qubits': [0]}, 'purpose': 'drive', 'type': 'drive'}, 'd1': {'operates': {'qubits': [1]}, 'purpose': 'drive', 'type': 'drive'}, 'd2': {'operates': {'qubits': [2]}, 'purpose': 'drive', 'type': 'drive'}, 'd3': {'operates': {'qubits': [3]}, 'purpose': 'drive', 'type': 'drive'}, 'd4': {'operates': {'qubits': [4]}, 'purpose': 'drive', 'type': 'drive'}, 'm0': {'operates': {'qubits': [0]}, 'purpose': 'measure', 'type': 'measure'}, 'm1': {'operates': {'qubits': [1]}, 'purpose': 'measure', 'type': 'measure'}, 'm2': {'operates': {'qubits': [2]}, 'purpose': 'measure', 'type': 'measure'}, 'm3': {'operates': {'qubits': [3]}, 'purpose': 'measure', 'type': 'measure'}, 'm4': {'operates': {'qubits': [4]}, 'purpose': 'measure', 'type': 'measure'}, 'u0': {'operates': {'qubits': [0, 1]}, 'purpose': 'cross-resonance', 'type': 'control'}, 'u1': {'operates': {'qubits': [1, 0]}, 'purpose': 'cross-resonance', 'type': 'control'}, 'u2': {'operates': {'qubits': [1, 2]}, 'purpose': 'cross-resonance', 'type': 'control'}, 'u3': {'operates': {'qubits': [1, 3]}, 'purpose': 'cross-resonance', 'type': 'control'}, 'u4': {'operates': {'qubits': [2, 1]}, 'purpose': 'cross-resonance', 'type': 'control'}, 'u5': {'operates': {'qubits': [3, 1]}, 'purpose': 'cross-resonance', 'type': 'control'}, 'u6': {'operates': {'qubits': [3, 4]}, 'purpose': 'cross-resonance', 'type': 'control'}, 'u7': {'operates': {'qubits': [4, 3]}, 'purpose': 'cross-resonance', 'type': 'control'}}</td></tr><tr><td>backend_name</td><td>ibmq_lima</td></tr><tr><td>default_rep_delay</td><td>250.0</td></tr><tr><td>timing_constraints</td><td>{'acquire_alignment': 16, 'granularity': 16, 'min_length': 64, 'pulse_alignment': 1}</td></tr><tr><td>discriminators</td><td>['hw_centroid', 'linear_discriminator', 'quadratic_discriminator']</td></tr><tr><td>meas_kernels</td><td>['hw_boxcar']</td></tr><tr><td>dt</td><td>0.2222222222222222</td></tr><tr><td>url</td><td>None</td></tr><tr><td>measure_esp_enabled</td><td>False</td></tr><tr><td>hamiltonian</td><td>$$\\begin{align} \\mathcal{H}/\\hbar = & \\sum_{i=0}^{4}\\left(\\frac{\\omega_{q,i}}{2}(\\mathbb{I}-\\sigma_i^{z})+\\frac{\\Delta_{i}}{2}(O_i^2-O_i)+\\Omega_{d,i}D_i(t)\\sigma_i^{X}\\right) \\\\ & + J_{0,1}(\\sigma_{0}^{+}\\sigma_{1}^{-}+\\sigma_{0}^{-}\\sigma_{1}^{+}) + J_{1,2}(\\sigma_{1}^{+}\\sigma_{2}^{-}+\\sigma_{1}^{-}\\sigma_{2}^{+}) + J_{1,3}(\\sigma_{1}^{+}\\sigma_{3}^{-}+\\sigma_{1}^{-}\\sigma_{3}^{+}) + J_{3,4}(\\sigma_{3}^{+}\\sigma_{4}^{-}+\\sigma_{3}^{-}\\sigma_{4}^{+}) \\\\ & + \\Omega_{d,0}(U_{0}^{(0,1)}(t))\\sigma_{0}^{X} + \\Omega_{d,1}(U_{1}^{(1,0)}(t)+U_{3}^{(1,3)}(t)+U_{2}^{(1,2)}(t))\\sigma_{1}^{X} \\\\ & + \\Omega_{d,2}(U_{4}^{(2,1)}(t))\\sigma_{2}^{X} + \\Omega_{d,3}(U_{6}^{(3,4)}(t)+U_{5}^{(3,1)}(t))\\sigma_{3}^{X} \\\\ & + \\Omega_{d,4}(U_{7}^{(4,3)}(t))\\sigma_{4}^{X} \\\\ \\end{align}$$</td></tr><tr><td>open_pulse</td><td>False</td></tr><tr><td>sample_name</td><td>family: Falcon, revision: 4, segment: T</td></tr><tr><td>uchannels_enabled</td><td>True</td></tr><tr><td>parametric_pulses</td><td>['gaussian', 'gaussian_square', 'drag', 'constant']</td></tr><tr><td>input_allowed</td><td>['job', 'runtime']</td></tr><tr><td>multi_meas_enabled</td><td>True</td></tr><tr><td>meas_levels</td><td>[1, 2]</td></tr><tr><td>dtm</td><td>0.2222222222222222</td></tr><tr><td>allow_q_object</td><td>True</td></tr><tr><td>meas_lo_range</td><td>[[6.925143125000001, 7.925143125000001], [6.721646720000001, 7.721646720000001], [6.971842939, 7.971842939], [6.865317232000001, 7.865317232000001], [6.919067567000001, 7.919067567000001]]</td></tr><tr><td>rep_delay_range</td><td>[0.0, 500.0]</td></tr><tr><td>n_registers</td><td>1</td></tr><tr><td>acquisition_latency</td><td>[]</td></tr><tr><td>local</td><td>False</td></tr><tr><td>processor_type</td><td>{'family': 'Falcon', 'revision': 4, 'segment': 'T'}</td></tr><tr><td>description</td><td>5 qubit device Lima</td></tr><tr><td>meas_map</td><td>[[0, 1, 2, 3, 4]]</td></tr><tr><td>simulator</td><td>False</td></tr></table>"
      }
     },
     "0135537963634fee8328c0ffb41fd581": {
      "model_module": "@jupyter-widgets/controls",
      "model_module_version": "1.5.0",
      "model_name": "DescriptionStyleModel",
      "state": {
       "description_width": ""
      }
     },
     "019ecaa2b86f457faf03e86739c9470e": {
      "model_module": "@jupyter-widgets/controls",
      "model_module_version": "1.5.0",
      "model_name": "DescriptionStyleModel",
      "state": {
       "description_width": ""
      }
     },
     "05eea0d969154804970dbed38528d7ad": {
      "model_module": "@jupyter-widgets/controls",
      "model_module_version": "1.5.0",
      "model_name": "HTMLMathModel",
      "state": {
       "layout": "IPY_MODEL_0d782ffc61f84e829eacedee93d039ce",
       "style": "IPY_MODEL_87cee0c4381f45bbbaff0e5a1ec56f15",
       "value": "<table><style>\ntable {\n    border-collapse: collapse;\n    width: auto;\n}\n\nth, td {\n    text-align: left;\n    padding: 8px;\n}\n\ntr:nth-child(even) {background-color: #f6f6f6;}\n</style><tr><th>Property</th><th>Value</th></tr><tr><td><font style='font-weight:bold'>n_qubits</font></td><td>5</td></tr><tr><td><font style='font-weight:bold'>quantum_volume</font></td><td>16</td></tr><tr><td><font style='font-weight:bold'>operational</font></td><td>True</td></tr><tr><td><font style='font-weight:bold'>status_msg</font></td><td>active</td></tr><tr><td><font style='font-weight:bold'>pending_jobs</font></td><td>5</td></tr><tr><td><font style='font-weight:bold'>backend_version</font></td><td>1.1.10</td></tr><tr><td><font style='font-weight:bold'>basis_gates</font></td><td>['id', 'rz', 'sx', 'x', 'cx', 'reset']</td></tr><tr><td><font style='font-weight:bold'>max_shots</font></td><td>8192</td></tr><tr><td><font style='font-weight:bold'>max_experiments</font></td><td>75</td></tr></table>"
      }
     },
     "068f3be9a03a4625bad3525b985b6fa9": {
      "model_module": "@jupyter-widgets/base",
      "model_module_version": "1.2.0",
      "model_name": "LayoutModel",
      "state": {
       "grid_gap": "0px 0px",
       "grid_template_areas": "\n                               \"left right right right\"\n                               \"bottom bottom bottom bottom\"\n                               ",
       "grid_template_columns": "31% 23% 23% 23%",
       "grid_template_rows": "auto auto"
      }
     },
     "070302e8c33c451da3596c4c6f96f674": {
      "model_module": "@jupyter-widgets/controls",
      "model_module_version": "1.5.0",
      "model_name": "DescriptionStyleModel",
      "state": {
       "description_width": ""
      }
     },
     "0778dd439317482fa3805c59fb108e70": {
      "model_module": "@jupyter-widgets/output",
      "model_module_version": "1.0.0",
      "model_name": "OutputModel",
      "state": {
       "layout": "IPY_MODEL_813abc9ae87347ae8786ecab250c0e21",
       "outputs": [
        {
         "data": {
          "image/png": "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\n",
          "text/plain": "<Figure size 792x648 with 5 Axes>"
         },
         "metadata": {},
         "output_type": "display_data"
        }
       ]
      }
     },
     "08aa69869f0548309b1b7d41c03605e8": {
      "model_module": "@jupyter-widgets/controls",
      "model_module_version": "1.5.0",
      "model_name": "HTMLModel",
      "state": {
       "layout": "IPY_MODEL_7c252545c2a44583b99d1899cb407555",
       "style": "IPY_MODEL_24a0a51d98d8493fbb06462d33d84bd4",
       "value": "<p style='font-family: IBM Plex Sans, Arial, Helvetica, sans-serif; font-size: 20px; font-weight: medium;'>Circuit Properties</p>"
      }
     },
     "0931d3acfd544f879229b96202dcb277": {
      "model_module": "@jupyter-widgets/controls",
      "model_module_version": "1.5.0",
      "model_name": "ButtonStyleModel",
      "state": {}
     },
     "0d782ffc61f84e829eacedee93d039ce": {
      "model_module": "@jupyter-widgets/base",
      "model_module_version": "1.2.0",
      "model_name": "LayoutModel",
      "state": {
       "grid_area": "left",
       "width": "100%"
      }
     },
     "0ed614ef1b4c4137bd79421e21756702": {
      "model_module": "@jupyter-widgets/controls",
      "model_module_version": "1.5.0",
      "model_name": "DescriptionStyleModel",
      "state": {
       "description_width": ""
      }
     },
     "0fa308e2f8cc4d9fb68e410b46f32e9e": {
      "model_module": "@jupyter-widgets/base",
      "model_module_version": "1.2.0",
      "model_name": "LayoutModel",
      "state": {
       "margin": "0px 0px 0px 37px",
       "width": "600px"
      }
     },
     "0fed01ab3b194fa6b11c80ec9ed4a360": {
      "model_module": "@jupyter-widgets/controls",
      "model_module_version": "1.5.0",
      "model_name": "DescriptionStyleModel",
      "state": {
       "description_width": ""
      }
     },
     "10b03af9afb54697b722260f87ac84eb": {
      "model_module": "@jupyter-widgets/controls",
      "model_module_version": "1.5.0",
      "model_name": "DescriptionStyleModel",
      "state": {
       "description_width": ""
      }
     },
     "10d069c1dcce49fba8b82902e430cc79": {
      "model_module": "@jupyter-widgets/base",
      "model_module_version": "1.2.0",
      "model_name": "LayoutModel",
      "state": {
       "margin": "0px 5px 0px 0px",
       "width": "32px"
      }
     },
     "12913906378848d096fb20f2cfe36468": {
      "model_module": "@jupyter-widgets/controls",
      "model_module_version": "1.5.0",
      "model_name": "DescriptionStyleModel",
      "state": {
       "description_width": ""
      }
     },
     "12d42c55714a444081bfe31bc568522c": {
      "model_module": "@jupyter-widgets/base",
      "model_module_version": "1.2.0",
      "model_name": "LayoutModel",
      "state": {
       "width": "70px"
      }
     },
     "143b43cfffb544d3abcd1959ae1cf83f": {
      "model_module": "@jupyter-widgets/controls",
      "model_module_version": "1.5.0",
      "model_name": "HTMLModel",
      "state": {
       "layout": "IPY_MODEL_4e188ae8db5842faa0309a08036f099a",
       "style": "IPY_MODEL_a8cc7138766440eeb8fae2027d645527",
       "value": "61460a966feb7e803a6f8833"
      }
     },
     "15316e445ad24ace8127833ba5f92573": {
      "model_module": "@jupyter-widgets/output",
      "model_module_version": "1.0.0",
      "model_name": "OutputModel",
      "state": {
       "layout": "IPY_MODEL_a72b9b8994b9462a97cb86d7632704b4",
       "outputs": [
        {
         "data": {
          "image/png": "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\n",
          "text/plain": "<Figure size 360x360 with 1 Axes>"
         },
         "metadata": {},
         "output_type": "display_data"
        }
       ]
      }
     },
     "15d7a0899ab9412cb9bc7ace34e4c3a7": {
      "model_module": "@jupyter-widgets/controls",
      "model_module_version": "1.5.0",
      "model_name": "DescriptionStyleModel",
      "state": {
       "description_width": ""
      }
     },
     "16149577a76e469d995b9ce7ecb021c8": {
      "model_module": "@jupyter-widgets/base",
      "model_module_version": "1.2.0",
      "model_name": "LayoutModel",
      "state": {
       "margin": "0px 5px 0px 0px",
       "width": "32px"
      }
     },
     "17b566fb2cd04a28a92930e4e37bb3c2": {
      "model_module": "@jupyter-widgets/controls",
      "model_module_version": "1.5.0",
      "model_name": "HTMLModel",
      "state": {
       "layout": "IPY_MODEL_84ecb780eb624d11a907bd3f4996c4ce",
       "style": "IPY_MODEL_ed2c0f6c5ad24f5190fe5a1a90b97fa8",
       "value": "<font style='color:#34BC6E'>DONE</font>"
      }
     },
     "1ab49efd80d14bc595d5de215bc92261": {
      "model_module": "@jupyter-widgets/base",
      "model_module_version": "1.2.0",
      "model_name": "LayoutModel",
      "state": {
       "width": "145px"
      }
     },
     "1b6d6607a4554a34aef7173a0972526e": {
      "model_module": "@jupyter-widgets/base",
      "model_module_version": "1.2.0",
      "model_name": "LayoutModel",
      "state": {
       "grid_area": "left"
      }
     },
     "1d0b7caf3a7244979f3450911bda25aa": {
      "model_module": "@jupyter-widgets/controls",
      "model_module_version": "1.5.0",
      "model_name": "HBoxModel",
      "state": {
       "children": [
        "IPY_MODEL_941a29def293464caf2ebb249d822024",
        "IPY_MODEL_7df73bcf42e8447e85f6fdc2c6c72318",
        "IPY_MODEL_f4a53a46a2444cdca00e4736c3b8ac56",
        "IPY_MODEL_17b566fb2cd04a28a92930e4e37bb3c2",
        "IPY_MODEL_78cce16d543243a48c7c42b426a4f68f",
        "IPY_MODEL_9b67ac2066ab44c899dc05f37a6eb540"
       ],
       "layout": "IPY_MODEL_ce1e8d12b8cb45d7b37dfd9e88a42c07"
      }
     },
     "1d12d3d7e7324cfa943f10c8e92c630b": {
      "model_module": "@jupyter-widgets/controls",
      "model_module_version": "1.5.0",
      "model_name": "HTMLModel",
      "state": {
       "layout": "IPY_MODEL_c62d4d49d3e648d1bc363b6d179eb419",
       "style": "IPY_MODEL_15d7a0899ab9412cb9bc7ace34e4c3a7",
       "value": "job has successfully run"
      }
     },
     "1f2957da7a8447dda27549e68648a381": {
      "model_module": "@jupyter-widgets/base",
      "model_module_version": "1.2.0",
      "model_name": "LayoutModel",
      "state": {
       "grid_area": "middle"
      }
     },
     "23b44e6cc86e4db4a3b27662b7425d02": {
      "model_module": "@jupyter-widgets/controls",
      "model_module_version": "1.5.0",
      "model_name": "ButtonStyleModel",
      "state": {
       "button_color": "white"
      }
     },
     "245fcb9da4ed457385ab974d2e7d4a4f": {
      "model_module": "@jupyter-widgets/controls",
      "model_module_version": "1.5.0",
      "model_name": "ButtonStyleModel",
      "state": {
       "button_color": "white"
      }
     },
     "24a0a51d98d8493fbb06462d33d84bd4": {
      "model_module": "@jupyter-widgets/controls",
      "model_module_version": "1.5.0",
      "model_name": "DescriptionStyleModel",
      "state": {
       "description_width": ""
      }
     },
     "26dda221b20c461bbcebd902b7b5b192": {
      "model_module": "@jupyter-widgets/base",
      "model_module_version": "1.2.0",
      "model_name": "LayoutModel",
      "state": {
       "margin": "0px 5px 0px 0px",
       "width": "32px"
      }
     },
     "27d10c38bbc946f482be52ab9443560a": {
      "model_module": "@jupyter-widgets/controls",
      "model_module_version": "1.5.0",
      "model_name": "HTMLModel",
      "state": {
       "layout": "IPY_MODEL_fa0d9e06d4434661a6dbe794e9ca663b",
       "style": "IPY_MODEL_52949ce50b2d498f92098673eda4233f",
       "value": "<table><style>\ntable {\n    border-collapse: collapse;\n    width: auto;\n}\n\nth, td {\n    text-align: left;\n    padding: 8px;\n}\n\ntr:nth-child(even) {background-color: #f6f6f6;};\n</style><tr><th></th><th>Type</th><th>Gate error</th></tr><tr><td><font style='font-weight:bold'>cx3_4</font></td><td>cx</td><td>0.01937</td></tr><tr><td><font style='font-weight:bold'>cx4_3</font></td><td>cx</td><td>0.01937</td></tr><tr><td><font style='font-weight:bold'>cx1_3</font></td><td>cx</td><td>0.00801</td></tr></table>"
      }
     },
     "27e644a6860147f39c815fe357987822": {
      "model_module": "@jupyter-widgets/controls",
      "model_module_version": "1.5.0",
      "model_name": "HTMLModel",
      "state": {
       "layout": "IPY_MODEL_acf73a94bceb4c2cb9fe26853acbdba8",
       "style": "IPY_MODEL_d079f6bcea644cd6bd3233f409c6e346",
       "value": "<div><font style='font-weight:bold'>last_update_date</font>: 2021-09-18 04:32:20+00:00</div>"
      }
     },
     "28b2ec8e2328433a92475327fc0ad40f": {
      "model_module": "@jupyter-widgets/controls",
      "model_module_version": "1.5.0",
      "model_name": "DescriptionStyleModel",
      "state": {
       "description_width": ""
      }
     },
     "28defdecc52746cf9ea4dc12b300cf35": {
      "model_module": "@jupyter-widgets/base",
      "model_module_version": "1.2.0",
      "model_name": "LayoutModel",
      "state": {
       "grid_area": "left",
       "width": "100%"
      }
     },
     "296dbf2957fc424da57e9f7916f0e82d": {
      "model_module": "@jupyter-widgets/base",
      "model_module_version": "1.2.0",
      "model_name": "LayoutModel",
      "state": {
       "overflow_y": "scroll"
      }
     },
     "2a150969cf364a5eb901dbdea69977ce": {
      "model_module": "@jupyter-widgets/controls",
      "model_module_version": "1.5.0",
      "model_name": "GridBoxModel",
      "state": {
       "children": [
        "IPY_MODEL_cf5b8e00e98b4f89a7d3177a18a73f33",
        "IPY_MODEL_e6e3475f50e741a18b62cc8bf66fb528",
        "IPY_MODEL_008945ef0232463ca22ead9384eb0047"
       ],
       "layout": "IPY_MODEL_5520b8a735094d29bbc855566dd334fa"
      }
     },
     "2b08e6b9564746da8f68bef3659aae18": {
      "model_module": "@jupyter-widgets/controls",
      "model_module_version": "1.5.0",
      "model_name": "HTMLModel",
      "state": {
       "layout": "IPY_MODEL_cd9c86e805904e2d840ebd3640fbae3f",
       "style": "IPY_MODEL_52ca40ad34a547c7ad4c7745e672e3f1",
       "value": "<div><font style='font-weight:bold'>last_update_date</font>: Sat 18 September 2021 at 04:40 UTC</div>"
      }
     },
     "2bdea63538244bc0bda0428066ab6296": {
      "model_module": "@jupyter-widgets/controls",
      "model_module_version": "1.5.0",
      "model_name": "DescriptionStyleModel",
      "state": {
       "description_width": ""
      }
     },
     "2e3b27c29d4844b2accc6d7a6c2af72c": {
      "model_module": "@jupyter-widgets/controls",
      "model_module_version": "1.5.0",
      "model_name": "TabModel",
      "state": {
       "_titles": {
        "0": "Configuration",
        "1": "Qubit Properties",
        "2": "Multi-Qubit Gates",
        "3": "Error Map",
        "4": "Job History"
       },
       "children": [
        "IPY_MODEL_e925bd317cb74657ab1991fcf9b33acc",
        "IPY_MODEL_ffac309007d648e89585766d626ef418",
        "IPY_MODEL_5fa7a840c6b54b9a82c530b1016f8f0d",
        "IPY_MODEL_0778dd439317482fa3805c59fb108e70",
        "IPY_MODEL_bb192a43851345b7a2d6ec9a5d4a8c98"
       ],
       "layout": "IPY_MODEL_296dbf2957fc424da57e9f7916f0e82d"
      }
     },
     "2f87829dece44e3096888ae422271216": {
      "model_module": "@jupyter-widgets/controls",
      "model_module_version": "1.5.0",
      "model_name": "HBoxModel",
      "state": {
       "children": [
        "IPY_MODEL_6638280a02ad49dfa20eaf312afc34f9",
        "IPY_MODEL_6924f3413d91464aa14c26a17c6bb1b2",
        "IPY_MODEL_5f40263f5acd429bb32de41dd31dfdf0",
        "IPY_MODEL_80533da3e1204ee78231fb571927afd8",
        "IPY_MODEL_a4dfcc0f0474420696d016372147731e",
        "IPY_MODEL_d0a31582ac6b4098900af8f2153fbfbf"
       ],
       "layout": "IPY_MODEL_6672603cb2ca4e4a88aeec50aff05690"
      }
     },
     "3021d50ae7bc46548a328deb81cbf5cd": {
      "model_module": "@jupyter-widgets/base",
      "model_module_version": "1.2.0",
      "model_name": "LayoutModel",
      "state": {}
     },
     "30750a975f0243b4a5d4a4534135718f": {
      "model_module": "@jupyter-widgets/controls",
      "model_module_version": "1.5.0",
      "model_name": "DescriptionStyleModel",
      "state": {
       "description_width": ""
      }
     },
     "3095ce5101db4eec963014ae0346f9fb": {
      "model_module": "@jupyter-widgets/controls",
      "model_module_version": "1.5.0",
      "model_name": "HTMLModel",
      "state": {
       "layout": "IPY_MODEL_3021d50ae7bc46548a328deb81cbf5cd",
       "style": "IPY_MODEL_bfb97091c10c49dbbc105bc1b11ae52f",
       "value": "<h5>Message</h5>"
      }
     },
     "3128111f523b42b2812ea2a7ea603e45": {
      "model_module": "@jupyter-widgets/base",
      "model_module_version": "1.2.0",
      "model_name": "LayoutModel",
      "state": {
       "width": "190px"
      }
     },
     "312b5c67e3bc410ba897ab4118bd1057": {
      "model_module": "@jupyter-widgets/controls",
      "model_module_version": "1.5.0",
      "model_name": "HBoxModel",
      "state": {
       "children": [
        "IPY_MODEL_68921ec5f90140259ac460e10573d68d",
        "IPY_MODEL_d742ad6bbc4242b0b156c555f4cf3346",
        "IPY_MODEL_42f4c30ea0e94a54b8c47cf8179f1233",
        "IPY_MODEL_b0fd7f92390a4a918baf92a9d47864fe",
        "IPY_MODEL_e234e5ce458946b184098bb2c75c3ee1",
        "IPY_MODEL_49c74b62a6b84791a3de0a0620f2ea64"
       ],
       "layout": "IPY_MODEL_6e3a115fb7ec4b3bb4a370e0225ea96f"
      }
     },
     "31b019846eba41e6b91584fb8bfa2bdc": {
      "model_module": "@jupyter-widgets/base",
      "model_module_version": "1.2.0",
      "model_name": "LayoutModel",
      "state": {
       "max_width": "700px",
       "min_width": "700px"
      }
     },
     "3216a5539ca145e9b5917690bfe17e2f": {
      "model_module": "@jupyter-widgets/controls",
      "model_module_version": "1.5.0",
      "model_name": "DescriptionStyleModel",
      "state": {
       "description_width": ""
      }
     },
     "3274398584d8469cba22ce7f65c080ff": {
      "model_module": "@jupyter-widgets/controls",
      "model_module_version": "1.5.0",
      "model_name": "DescriptionStyleModel",
      "state": {
       "description_width": ""
      }
     },
     "33d4d88fcfa848d680bd195875b4efd4": {
      "model_module": "@jupyter-widgets/controls",
      "model_module_version": "1.5.0",
      "model_name": "HTMLModel",
      "state": {
       "layout": "IPY_MODEL_b35a5b1b0fed4d17a87248399f34c932",
       "style": "IPY_MODEL_12913906378848d096fb20f2cfe36468",
       "value": "ibmq_lima"
      }
     },
     "34ae7fe620ac4bde8e5d6251383f9cd1": {
      "model_module": "@jupyter-widgets/base",
      "model_module_version": "1.2.0",
      "model_name": "LayoutModel",
      "state": {
       "grid_area": "top"
      }
     },
     "3521706bec3e406ebd88cc9a33e1aacb": {
      "model_module": "@jupyter-widgets/base",
      "model_module_version": "1.2.0",
      "model_name": "LayoutModel",
      "state": {
       "grid_area": "bottom",
       "width": "auto"
      }
     },
     "362bd1eeaef143319cca38f42282842f": {
      "model_module": "@jupyter-widgets/controls",
      "model_module_version": "1.5.0",
      "model_name": "DescriptionStyleModel",
      "state": {
       "description_width": ""
      }
     },
     "370423418f6646adafb9d06020b9afd3": {
      "model_module": "@jupyter-widgets/controls",
      "model_module_version": "1.5.0",
      "model_name": "HTMLModel",
      "state": {
       "layout": "IPY_MODEL_51d15aa36d5b4860a840a5724d208267",
       "style": "IPY_MODEL_d9ee3315aede4855b8039a028c355049",
       "value": "61460ea76d2d52436553842d"
      }
     },
     "37f44a7cf2dd4d96b1adbb6264368672": {
      "model_module": "@jupyter-widgets/controls",
      "model_module_version": "1.5.0",
      "model_name": "DescriptionStyleModel",
      "state": {
       "description_width": ""
      }
     },
     "3b811e9ba2b340c4a33ca31b22e7d04c": {
      "model_module": "@jupyter-widgets/controls",
      "model_module_version": "1.5.0",
      "model_name": "HTMLModel",
      "state": {
       "layout": "IPY_MODEL_1f2957da7a8447dda27549e68648a381",
       "style": "IPY_MODEL_fd649bc99f3a487faacf61db81831dc7",
       "value": "<table><style>\ntable {\n    border-collapse: collapse;\n    width: auto;\n}\n\nth, td {\n    text-align: left;\n    padding: 8px;\n}\n\ntr:nth-child(even) {background-color: #f6f6f6;};\n</style><tr><th></th><th>Type</th><th>Gate error</th></tr><tr><td><font style='font-weight:bold'>cx3_1</font></td><td>cx</td><td>0.00801</td></tr><tr><td><font style='font-weight:bold'>cx2_1</font></td><td>cx</td><td>0.00881</td></tr><tr><td><font style='font-weight:bold'>cx1_2</font></td><td>cx</td><td>0.00881</td></tr></table>"
      }
     },
     "3c5e8a32f1b347399300544d2a621fa5": {
      "model_module": "@jupyter-widgets/controls",
      "model_module_version": "1.5.0",
      "model_name": "HTMLModel",
      "state": {
       "layout": "IPY_MODEL_3e1b4e421dbd43f682ab67ad5f7cb5d9",
       "style": "IPY_MODEL_30750a975f0243b4a5d4a4534135718f",
       "value": "<table><style>\ntable {\n    border-collapse: collapse;\n    width: auto;\n}\n\nth, td {\n    text-align: left;\n    padding: 8px;\n}\n\ntr:nth-child(even) {background-color: #f6f6f6;}\n</style><tr><th></th><th>Frequency</th><th>T1</th><th>T2</th><th>RZ</th><th>SX</th><th>X</th><th>Readout error</th></tr><tr><td><font style='font-weight:bold'>Q0</font></td><td>5.30064 GHz</td><td>78.81051 us</td><td>114.09816 us</td><td>0</td><td>0.00077</td><td>0.00077</td><td>0.0359 </td><tr><td><font style='font-weight:bold'>Q1</font></td><td>5.08064 GHz</td><td>67.25556 us</td><td>154.79299 us</td><td>0</td><td>0.00031</td><td>0.00031</td><td>0.0175 </td><tr><td><font style='font-weight:bold'>Q2</font></td><td>5.32213 GHz</td><td>106.64213 us</td><td>150.9202 us</td><td>0</td><td>0.00035</td><td>0.00035</td><td>0.0293 </td><tr><td><font style='font-weight:bold'>Q3</font></td><td>5.16362 GHz</td><td>92.99734 us</td><td>22.67036 us</td><td>0</td><td>0.00028</td><td>0.00028</td><td>0.027 </td><tr><td><font style='font-weight:bold'>Q4</font></td><td>5.0524 GHz</td><td>127.30183 us</td><td>184.00977 us</td><td>0</td><td>0.00027</td><td>0.00027</td><td>0.0213 </td></table>"
      }
     },
     "3e1b4e421dbd43f682ab67ad5f7cb5d9": {
      "model_module": "@jupyter-widgets/base",
      "model_module_version": "1.2.0",
      "model_name": "LayoutModel",
      "state": {}
     },
     "3f59b444999b4e758c11d595f50afe5c": {
      "model_module": "@jupyter-widgets/controls",
      "model_module_version": "1.5.0",
      "model_name": "DescriptionStyleModel",
      "state": {
       "description_width": ""
      }
     },
     "40d2782e33bc4a39b05f0e0c35aaacbc": {
      "model_module": "@jupyter-widgets/controls",
      "model_module_version": "1.5.0",
      "model_name": "DescriptionStyleModel",
      "state": {
       "description_width": ""
      }
     },
     "42cb0cee203347caa7adaee6b2101ad4": {
      "model_module": "@jupyter-widgets/controls",
      "model_module_version": "1.5.0",
      "model_name": "HBoxModel",
      "state": {
       "children": [
        "IPY_MODEL_edfa0d502ed54dc19f53863256cc056d",
        "IPY_MODEL_143b43cfffb544d3abcd1959ae1cf83f",
        "IPY_MODEL_8c4f29b5a5784e2eb48b1bc3184617c3",
        "IPY_MODEL_9bb8d9710b12455392aea957ac06cf89",
        "IPY_MODEL_f88ba23317474564bc9372b5420ae9e9",
        "IPY_MODEL_fd17f5575a8d4a9db32034cece6385eb"
       ],
       "layout": "IPY_MODEL_a392d43530dc4e91b988bfb38f2b3301"
      }
     },
     "42f4c30ea0e94a54b8c47cf8179f1233": {
      "model_module": "@jupyter-widgets/controls",
      "model_module_version": "1.5.0",
      "model_name": "HTMLModel",
      "state": {
       "layout": "IPY_MODEL_6892f0d9182e48a58eba743ad8afbc96",
       "style": "IPY_MODEL_d95172a56bf84166b61b0bd39147cdba",
       "value": "ibmq_bogota"
      }
     },
     "44fda3b4bce548d2a6a5720b2e932ad7": {
      "model_module": "@jupyter-widgets/controls",
      "model_module_version": "1.5.0",
      "model_name": "DescriptionStyleModel",
      "state": {
       "description_width": ""
      }
     },
     "45d3d1747f7149359f515fcfed18e09d": {
      "model_module": "@jupyter-widgets/base",
      "model_module_version": "1.2.0",
      "model_name": "LayoutModel",
      "state": {
       "margin": "0px 0px 0px 0px"
      }
     },
     "477962866ce34a76bcb0ba5735b400f8": {
      "model_module": "@jupyter-widgets/base",
      "model_module_version": "1.2.0",
      "model_name": "LayoutModel",
      "state": {
       "grid_template_areas": "\n                                       \". . . . right \"\n                                        ",
       "grid_template_columns": "20% 20% 20% 20% 20%",
       "width": "100%"
      }
     },
     "49c74b62a6b84791a3de0a0620f2ea64": {
      "model_module": "@jupyter-widgets/controls",
      "model_module_version": "1.5.0",
      "model_name": "HTMLModel",
      "state": {
       "layout": "IPY_MODEL_c3c3e5b375f54c9c84e70e1feb96dc0e",
       "style": "IPY_MODEL_5dc52ddb16b44f4383d9115dc4699892",
       "value": "job incurred error"
      }
     },
     "4c466b3c6dbe4edcbddd84fc17038859": {
      "model_module": "@jupyter-widgets/base",
      "model_module_version": "1.2.0",
      "model_name": "LayoutModel",
      "state": {
       "margin": "0px 5px 0px 0px",
       "width": "32px"
      }
     },
     "4e188ae8db5842faa0309a08036f099a": {
      "model_module": "@jupyter-widgets/base",
      "model_module_version": "1.2.0",
      "model_name": "LayoutModel",
      "state": {
       "width": "190px"
      }
     },
     "4e484c7cab93400ead1307cd7b733c46": {
      "model_module": "@jupyter-widgets/controls",
      "model_module_version": "1.5.0",
      "model_name": "GridBoxModel",
      "state": {
       "children": [
        "IPY_MODEL_f2c5f76dc0054f7a8024db6ba889edb4",
        "IPY_MODEL_a902c789e132439aa14c0f24e8a40ce9",
        "IPY_MODEL_e1a48eacad8c448e9f3873fb331ae748",
        "IPY_MODEL_fe3d894a8e8c49599dec48b0413d09b5"
       ],
       "layout": "IPY_MODEL_fc55a06834fa4706bf5b3ef5db216250"
      }
     },
     "507a598749f4479ebc5e999bfb62a7b3": {
      "model_module": "@jupyter-widgets/base",
      "model_module_version": "1.2.0",
      "model_name": "LayoutModel",
      "state": {
       "width": "95px"
      }
     },
     "50cc2a5bf6844b38b6ccca689a981b36": {
      "model_module": "@jupyter-widgets/controls",
      "model_module_version": "1.5.0",
      "model_name": "HTMLModel",
      "state": {
       "layout": "IPY_MODEL_a0ede7916a054f76a177f64ffc59fdc8",
       "style": "IPY_MODEL_019ecaa2b86f457faf03e86739c9470e",
       "value": "<table><style>\ntable {\n    border-collapse: collapse;\n    width: auto;\n}\n\nth, td {\n    text-align: left;\n    padding: 8px;\n}\n\ntr:nth-child(even) {background-color: #f6f6f6;};\n</style><tr><th></th><th>Type</th><th>Gate error</th></tr><tr><td><font style='font-weight:bold'>cx0_1</font></td><td>cx</td><td>0.01688</td></tr><tr><td><font style='font-weight:bold'>cx1_0</font></td><td>cx</td><td>0.01688</td></tr></table>"
      }
     },
     "51d15aa36d5b4860a840a5724d208267": {
      "model_module": "@jupyter-widgets/base",
      "model_module_version": "1.2.0",
      "model_name": "LayoutModel",
      "state": {
       "width": "190px"
      }
     },
     "52949ce50b2d498f92098673eda4233f": {
      "model_module": "@jupyter-widgets/controls",
      "model_module_version": "1.5.0",
      "model_name": "DescriptionStyleModel",
      "state": {
       "description_width": ""
      }
     },
     "52ca40ad34a547c7ad4c7745e672e3f1": {
      "model_module": "@jupyter-widgets/controls",
      "model_module_version": "1.5.0",
      "model_name": "DescriptionStyleModel",
      "state": {
       "description_width": ""
      }
     },
     "5353767a2aeb413898719f9e49a66e71": {
      "model_module": "@jupyter-widgets/output",
      "model_module_version": "1.0.0",
      "model_name": "OutputModel",
      "state": {
       "layout": "IPY_MODEL_fd3ba9597c2b4088b331ce736d421814",
       "outputs": [
        {
         "data": {
          "image/png": "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\n",
          "text/plain": "<Figure size 792x648 with 5 Axes>"
         },
         "metadata": {},
         "output_type": "display_data"
        }
       ]
      }
     },
     "537e4064ce754ad58e3591e49dbe464a": {
      "model_module": "@jupyter-widgets/base",
      "model_module_version": "1.2.0",
      "model_name": "LayoutModel",
      "state": {}
     },
     "5520b8a735094d29bbc855566dd334fa": {
      "model_module": "@jupyter-widgets/base",
      "model_module_version": "1.2.0",
      "model_name": "LayoutModel",
      "state": {
       "grid_gap": "0px 0px",
       "grid_template_areas": "\n                               \"left right right right\"\n                               \"bottom bottom bottom bottom\"\n                               ",
       "grid_template_columns": "31% 23% 23% 23%",
       "grid_template_rows": "auto auto"
      }
     },
     "5dc52ddb16b44f4383d9115dc4699892": {
      "model_module": "@jupyter-widgets/controls",
      "model_module_version": "1.5.0",
      "model_name": "DescriptionStyleModel",
      "state": {
       "description_width": ""
      }
     },
     "5e34c92caed54c098ca2e599c8140dd7": {
      "model_module": "@jupyter-widgets/base",
      "model_module_version": "1.2.0",
      "model_name": "LayoutModel",
      "state": {
       "overflow_y": "scroll"
      }
     },
     "5e90b458a5a24e0da00832be8d9c9712": {
      "model_module": "@jupyter-widgets/base",
      "model_module_version": "1.2.0",
      "model_name": "LayoutModel",
      "state": {
       "width": "95px"
      }
     },
     "5eae3c57b1d94e01adbefca389ae86df": {
      "model_module": "@jupyter-widgets/controls",
      "model_module_version": "1.5.0",
      "model_name": "DescriptionStyleModel",
      "state": {
       "description_width": ""
      }
     },
     "5f40263f5acd429bb32de41dd31dfdf0": {
      "model_module": "@jupyter-widgets/controls",
      "model_module_version": "1.5.0",
      "model_name": "HTMLModel",
      "state": {
       "layout": "IPY_MODEL_8190d62265df42fd80267f0134ae7758",
       "style": "IPY_MODEL_3f59b444999b4e758c11d595f50afe5c",
       "value": "ibmq_quito"
      }
     },
     "5f6c22c29e51472b98bee5c159f24954": {
      "model_module": "@jupyter-widgets/controls",
      "model_module_version": "1.5.0",
      "model_name": "HTMLModel",
      "state": {
       "layout": "IPY_MODEL_507a598749f4479ebc5e999bfb62a7b3",
       "style": "IPY_MODEL_66098d007fde400094926c9055f84d8f",
       "value": "<font style='color:#DC267F'>ERROR</font>"
      }
     },
     "5f6c351d3628412ca838007534227753": {
      "model_module": "@jupyter-widgets/controls",
      "model_module_version": "1.5.0",
      "model_name": "HTMLModel",
      "state": {
       "layout": "IPY_MODEL_94fcb5db046b40c68afa1e6cbcbd6617",
       "style": "IPY_MODEL_bfcabcf21ed14cdea996f8cbaa802d46",
       "value": "<h5>Queue</h5>"
      }
     },
     "5fa7a840c6b54b9a82c530b1016f8f0d": {
      "model_module": "@jupyter-widgets/controls",
      "model_module_version": "1.5.0",
      "model_name": "GridBoxModel",
      "state": {
       "children": [
        "IPY_MODEL_27e644a6860147f39c815fe357987822",
        "IPY_MODEL_27d10c38bbc946f482be52ab9443560a",
        "IPY_MODEL_3b811e9ba2b340c4a33ca31b22e7d04c",
        "IPY_MODEL_50cc2a5bf6844b38b6ccca689a981b36"
       ],
       "layout": "IPY_MODEL_8c672192941e43e8904ddc06c3ce35bd"
      }
     },
     "6057d558fdf24c6ea41d3d99ef038da9": {
      "model_module": "@jupyter-widgets/base",
      "model_module_version": "1.2.0",
      "model_name": "LayoutModel",
      "state": {
       "overflow_x": "scroll"
      }
     },
     "6347cce1a03846778494da604f80aa7d": {
      "model_module": "@jupyter-widgets/base",
      "model_module_version": "1.2.0",
      "model_name": "LayoutModel",
      "state": {
       "grid_area": "bottom",
       "width": "auto"
      }
     },
     "64353d43de83492e93f137260ddbc646": {
      "model_module": "@jupyter-widgets/base",
      "model_module_version": "1.2.0",
      "model_name": "LayoutModel",
      "state": {}
     },
     "650813516465410ca997301d4d9085a8": {
      "model_module": "@jupyter-widgets/base",
      "model_module_version": "1.2.0",
      "model_name": "LayoutModel",
      "state": {
       "width": "95px"
      }
     },
     "66098d007fde400094926c9055f84d8f": {
      "model_module": "@jupyter-widgets/controls",
      "model_module_version": "1.5.0",
      "model_name": "DescriptionStyleModel",
      "state": {
       "description_width": ""
      }
     },
     "6638280a02ad49dfa20eaf312afc34f9": {
      "model_module": "@jupyter-widgets/controls",
      "model_module_version": "1.5.0",
      "model_name": "ButtonModel",
      "state": {
       "icon": "close",
       "layout": "IPY_MODEL_ebdc7628a21b48bf95d316fc45821d04",
       "style": "IPY_MODEL_245fcb9da4ed457385ab974d2e7d4a4f"
      }
     },
     "6672603cb2ca4e4a88aeec50aff05690": {
      "model_module": "@jupyter-widgets/base",
      "model_module_version": "1.2.0",
      "model_name": "LayoutModel",
      "state": {
       "max_width": "700px",
       "min_width": "700px"
      }
     },
     "66b1e6c549f543828550bf0175343d65": {
      "model_module": "@jupyter-widgets/base",
      "model_module_version": "1.2.0",
      "model_name": "LayoutModel",
      "state": {
       "width": "95px"
      }
     },
     "68921ec5f90140259ac460e10573d68d": {
      "model_module": "@jupyter-widgets/controls",
      "model_module_version": "1.5.0",
      "model_name": "ButtonModel",
      "state": {
       "icon": "close",
       "layout": "IPY_MODEL_26dda221b20c461bbcebd902b7b5b192",
       "style": "IPY_MODEL_23b44e6cc86e4db4a3b27662b7425d02"
      }
     },
     "6892f0d9182e48a58eba743ad8afbc96": {
      "model_module": "@jupyter-widgets/base",
      "model_module_version": "1.2.0",
      "model_name": "LayoutModel",
      "state": {
       "width": "145px"
      }
     },
     "6924f3413d91464aa14c26a17c6bb1b2": {
      "model_module": "@jupyter-widgets/controls",
      "model_module_version": "1.5.0",
      "model_name": "HTMLModel",
      "state": {
       "layout": "IPY_MODEL_8edddd3a66844963904b42aa9c0679f6",
       "style": "IPY_MODEL_d8e396161846433286615c548cb92f73",
       "value": "61460be62be369948c58700f"
      }
     },
     "6a5827f77063417cae57e429b5811ffc": {
      "model_module": "@jupyter-widgets/base",
      "model_module_version": "1.2.0",
      "model_name": "LayoutModel",
      "state": {
       "max_height": "620px"
      }
     },
     "6d6a0d84788a4c6f865c8fc8adec0bb0": {
      "model_module": "@jupyter-widgets/controls",
      "model_module_version": "1.5.0",
      "model_name": "DescriptionStyleModel",
      "state": {
       "description_width": ""
      }
     },
     "6e3a115fb7ec4b3bb4a370e0225ea96f": {
      "model_module": "@jupyter-widgets/base",
      "model_module_version": "1.2.0",
      "model_name": "LayoutModel",
      "state": {
       "max_width": "700px",
       "min_width": "700px"
      }
     },
     "7414b8df4db443fb90492103121ad916": {
      "model_module": "@jupyter-widgets/controls",
      "model_module_version": "1.5.0",
      "model_name": "TabModel",
      "state": {
       "layout": "IPY_MODEL_6a5827f77063417cae57e429b5811ffc"
      }
     },
     "743218c0970c491caf6685907ff2910c": {
      "model_module": "@jupyter-widgets/controls",
      "model_module_version": "1.5.0",
      "model_name": "DescriptionStyleModel",
      "state": {
       "description_width": ""
      }
     },
     "753daff02d204f508bbe97c5d4b60039": {
      "model_module": "@jupyter-widgets/base",
      "model_module_version": "1.2.0",
      "model_name": "LayoutModel",
      "state": {
       "overflow_x": "scroll"
      }
     },
     "7870b13d467a43a5ae7c26c2acdce167": {
      "model_module": "@jupyter-widgets/controls",
      "model_module_version": "1.5.0",
      "model_name": "DescriptionStyleModel",
      "state": {
       "description_width": ""
      }
     },
     "78cce16d543243a48c7c42b426a4f68f": {
      "model_module": "@jupyter-widgets/controls",
      "model_module_version": "1.5.0",
      "model_name": "HTMLModel",
      "state": {
       "layout": "IPY_MODEL_12d42c55714a444081bfe31bc568522c",
       "style": "IPY_MODEL_3274398584d8469cba22ce7f65c080ff",
       "value": "-"
      }
     },
     "78d0bf1c416a4c1bb526e6ffac8f256a": {
      "model_module": "@jupyter-widgets/controls",
      "model_module_version": "1.5.0",
      "model_name": "VBoxModel",
      "state": {
       "children": [
        "IPY_MODEL_2b08e6b9564746da8f68bef3659aae18",
        "IPY_MODEL_8cb45fe6443c468a98194aafa092f12e"
       ],
       "layout": "IPY_MODEL_64353d43de83492e93f137260ddbc646"
      }
     },
     "7c252545c2a44583b99d1899cb407555": {
      "model_module": "@jupyter-widgets/base",
      "model_module_version": "1.2.0",
      "model_name": "LayoutModel",
      "state": {
       "margin": "0px 0px 10px 0px"
      }
     },
     "7df73bcf42e8447e85f6fdc2c6c72318": {
      "model_module": "@jupyter-widgets/controls",
      "model_module_version": "1.5.0",
      "model_name": "HTMLModel",
      "state": {
       "layout": "IPY_MODEL_3128111f523b42b2812ea2a7ea603e45",
       "style": "IPY_MODEL_7870b13d467a43a5ae7c26c2acdce167",
       "value": "61460c6a6d2d52cf6a538416"
      }
     },
     "7ee1cfdaba774df08ae623837e841528": {
      "model_module": "@jupyter-widgets/controls",
      "model_module_version": "1.5.0",
      "model_name": "HBoxModel",
      "state": {
       "children": [
        "IPY_MODEL_effd1dd007bb4335a0c8135f88602a55",
        "IPY_MODEL_370423418f6646adafb9d06020b9afd3",
        "IPY_MODEL_33d4d88fcfa848d680bd195875b4efd4",
        "IPY_MODEL_e1b4687af2c24822a4bb9c9ef1a0ee07",
        "IPY_MODEL_a513f4e3d5e14f58bcf3eb52d11d3537",
        "IPY_MODEL_1d12d3d7e7324cfa943f10c8e92c630b"
       ],
       "layout": "IPY_MODEL_912e89a06b454857a7d2189248a5887a"
      }
     },
     "80533da3e1204ee78231fb571927afd8": {
      "model_module": "@jupyter-widgets/controls",
      "model_module_version": "1.5.0",
      "model_name": "HTMLModel",
      "state": {
       "layout": "IPY_MODEL_650813516465410ca997301d4d9085a8",
       "style": "IPY_MODEL_6d6a0d84788a4c6f865c8fc8adec0bb0",
       "value": "<font style='color:#34BC6E'>DONE</font>"
      }
     },
     "8054f45150514d04b8f7997467e3bb6f": {
      "model_module": "@jupyter-widgets/base",
      "model_module_version": "1.2.0",
      "model_name": "LayoutModel",
      "state": {}
     },
     "813abc9ae87347ae8786ecab250c0e21": {
      "model_module": "@jupyter-widgets/base",
      "model_module_version": "1.2.0",
      "model_name": "LayoutModel",
      "state": {
       "align_items": "center",
       "display": "flex-inline"
      }
     },
     "8190d62265df42fd80267f0134ae7758": {
      "model_module": "@jupyter-widgets/base",
      "model_module_version": "1.2.0",
      "model_name": "LayoutModel",
      "state": {
       "width": "145px"
      }
     },
     "84ecb780eb624d11a907bd3f4996c4ce": {
      "model_module": "@jupyter-widgets/base",
      "model_module_version": "1.2.0",
      "model_name": "LayoutModel",
      "state": {
       "width": "95px"
      }
     },
     "85aedd62f462458f9168502674f0a52f": {
      "model_module": "@jupyter-widgets/base",
      "model_module_version": "1.2.0",
      "model_name": "LayoutModel",
      "state": {
       "width": "95px"
      }
     },
     "87cde5ccc67d4fd5be4a967f65422494": {
      "model_module": "@jupyter-widgets/controls",
      "model_module_version": "1.5.0",
      "model_name": "DescriptionStyleModel",
      "state": {
       "description_width": ""
      }
     },
     "87cee0c4381f45bbbaff0e5a1ec56f15": {
      "model_module": "@jupyter-widgets/controls",
      "model_module_version": "1.5.0",
      "model_name": "DescriptionStyleModel",
      "state": {
       "description_width": ""
      }
     },
     "8c4f29b5a5784e2eb48b1bc3184617c3": {
      "model_module": "@jupyter-widgets/controls",
      "model_module_version": "1.5.0",
      "model_name": "HTMLModel",
      "state": {
       "layout": "IPY_MODEL_c4fc3646012043d991913543383eb8a7",
       "style": "IPY_MODEL_37f44a7cf2dd4d96b1adbb6264368672",
       "value": "ibmq_quito"
      }
     },
     "8c672192941e43e8904ddc06c3ce35bd": {
      "model_module": "@jupyter-widgets/base",
      "model_module_version": "1.2.0",
      "model_name": "LayoutModel",
      "state": {
       "grid_gap": "0px 0px",
       "grid_template_areas": "\n                                                   \"top top top\"\n                                                   \"left middle right\"\n                                                   ",
       "grid_template_columns": "33% 33% 33%",
       "grid_template_rows": "auto auto"
      }
     },
     "8cb45fe6443c468a98194aafa092f12e": {
      "model_module": "@jupyter-widgets/controls",
      "model_module_version": "1.5.0",
      "model_name": "HTMLModel",
      "state": {
       "layout": "IPY_MODEL_537e4064ce754ad58e3591e49dbe464a",
       "style": "IPY_MODEL_ce24c7de56534ed8bdfbc52103216627",
       "value": "<table><style>\ntable {\n    border-collapse: collapse;\n    width: auto;\n}\n\nth, td {\n    text-align: left;\n    padding: 8px;\n}\n\ntr:nth-child(even) {background-color: #f6f6f6;}\n</style><tr><th></th><th>Frequency</th><th>T1</th><th>T2</th><th>RZ</th><th>SX</th><th>X</th><th>Readout error</th></tr><tr><td><font style='font-weight:bold'>Q0</font></td><td>5.02973 GHz</td><td>71.87563 us</td><td>98.83851 us</td><td>0</td><td>0.00021</td><td>0.00021</td><td>0.0207 </td><tr><td><font style='font-weight:bold'>Q1</font></td><td>5.12765 GHz</td><td>116.87116 us</td><td>126.61827 us</td><td>0</td><td>0.00023</td><td>0.00023</td><td>0.0169 </td><tr><td><font style='font-weight:bold'>Q2</font></td><td>5.24735 GHz</td><td>123.9668 us</td><td>142.67307 us</td><td>0</td><td>0.00018</td><td>0.00018</td><td>0.0179 </td><tr><td><font style='font-weight:bold'>Q3</font></td><td>5.30234 GHz</td><td>94.51295 us</td><td>89.68434 us</td><td>0</td><td>0.00049</td><td>0.00049</td><td>0.0277 </td><tr><td><font style='font-weight:bold'>Q4</font></td><td>5.09216 GHz</td><td>22.93488 us</td><td>19.35208 us</td><td>0</td><td>0.00065</td><td>0.00065</td><td>0.0507 </td></table>"
      }
     },
     "8e0af6c28526439b93a5056cf102ff5b": {
      "model_module": "@jupyter-widgets/controls",
      "model_module_version": "1.5.0",
      "model_name": "VBoxModel",
      "state": {
       "children": [
        "IPY_MODEL_f3ac0387fffc436bb966634e04b2f4da",
        "IPY_MODEL_c9e7b9ba06414ff79229c8b862386326"
       ],
       "layout": "IPY_MODEL_cd8f9cbe605a4442a1b882595b69808b"
      }
     },
     "8e42b88425634eef94496a2da4eaa00b": {
      "model_module": "@jupyter-widgets/controls",
      "model_module_version": "1.5.0",
      "model_name": "DescriptionStyleModel",
      "state": {
       "description_width": ""
      }
     },
     "8edddd3a66844963904b42aa9c0679f6": {
      "model_module": "@jupyter-widgets/base",
      "model_module_version": "1.2.0",
      "model_name": "LayoutModel",
      "state": {
       "width": "190px"
      }
     },
     "912e89a06b454857a7d2189248a5887a": {
      "model_module": "@jupyter-widgets/base",
      "model_module_version": "1.2.0",
      "model_name": "LayoutModel",
      "state": {
       "max_width": "700px",
       "min_width": "700px"
      }
     },
     "92b83260228b49d7a037fba840fb7327": {
      "model_module": "@jupyter-widgets/controls",
      "model_module_version": "1.5.0",
      "model_name": "HTMLModel",
      "state": {
       "layout": "IPY_MODEL_e2bce5925afc4f7eb2099c7704f7759e",
       "style": "IPY_MODEL_a23f7a74bb124478b5d37972fb42ceb2",
       "value": "<div><font style='font-weight:bold'>last_update_date</font>: Sat 18 September 2021 at 04:32 UTC</div>"
      }
     },
     "941a29def293464caf2ebb249d822024": {
      "model_module": "@jupyter-widgets/controls",
      "model_module_version": "1.5.0",
      "model_name": "ButtonModel",
      "state": {
       "icon": "close",
       "layout": "IPY_MODEL_16149577a76e469d995b9ce7ecb021c8",
       "style": "IPY_MODEL_fdc27fd463d84aa7a0513cb6be464839"
      }
     },
     "946b7cb4a3094fb3899741449cdcb77c": {
      "model_module": "@jupyter-widgets/controls",
      "model_module_version": "1.5.0",
      "model_name": "HTMLModel",
      "state": {
       "layout": "IPY_MODEL_ee073372a1b14efcb648458c024d91af",
       "style": "IPY_MODEL_d6bb1428970c408f8fe0b7c31f32b883",
       "value": "ibmq_bogota"
      }
     },
     "94f953f3e7704a75b83b96e86a0e15ca": {
      "model_module": "@jupyter-widgets/base",
      "model_module_version": "1.2.0",
      "model_name": "LayoutModel",
      "state": {
       "width": "190px"
      }
     },
     "94fcb5db046b40c68afa1e6cbcbd6617": {
      "model_module": "@jupyter-widgets/base",
      "model_module_version": "1.2.0",
      "model_name": "LayoutModel",
      "state": {
       "width": "70px"
      }
     },
     "961216f200104648b86bd3d03587bdab": {
      "model_module": "@jupyter-widgets/base",
      "model_module_version": "1.2.0",
      "model_name": "LayoutModel",
      "state": {
       "grid_area": "right",
       "padding": "0px 0px 0px 0px",
       "width": "70px"
      }
     },
     "96709e1508ca4fc0b63c4b4875aec834": {
      "model_module": "@jupyter-widgets/controls",
      "model_module_version": "1.5.0",
      "model_name": "VBoxModel",
      "state": {
       "children": [
        "IPY_MODEL_b482faf6c42849a0b98d605946dde2eb",
        "IPY_MODEL_2e3b27c29d4844b2accc6d7a6c2af72c"
       ],
       "layout": "IPY_MODEL_e102180c05fd4eee93fd43100a5517d9"
      }
     },
     "967ca0b91cc24428ac8612326cf8ebf0": {
      "model_module": "@jupyter-widgets/controls",
      "model_module_version": "1.5.0",
      "model_name": "HTMLModel",
      "state": {
       "layout": "IPY_MODEL_ed96f765b91d4ddea0f59c5ac9d4e361",
       "style": "IPY_MODEL_3216a5539ca145e9b5917690bfe17e2f",
       "value": "job incurred error"
      }
     },
     "96d530f912e24ac5b9500e8892ce7955": {
      "model_module": "@jupyter-widgets/controls",
      "model_module_version": "1.5.0",
      "model_name": "DescriptionStyleModel",
      "state": {
       "description_width": ""
      }
     },
     "97cbfb28a4054832859f07335a79dbfa": {
      "model_module": "@jupyter-widgets/controls",
      "model_module_version": "1.5.0",
      "model_name": "HBoxModel",
      "state": {
       "children": [
        "IPY_MODEL_ce18ed05ec854b50bd279f459d311860",
        "IPY_MODEL_f3f523f318d84de8af75f360614d400b",
        "IPY_MODEL_f979e69715e947148b9904081cd159a8",
        "IPY_MODEL_5f6c351d3628412ca838007534227753",
        "IPY_MODEL_3095ce5101db4eec963014ae0346f9fb"
       ],
       "layout": "IPY_MODEL_0fa308e2f8cc4d9fb68e410b46f32e9e"
      }
     },
     "9b67ac2066ab44c899dc05f37a6eb540": {
      "model_module": "@jupyter-widgets/controls",
      "model_module_version": "1.5.0",
      "model_name": "HTMLModel",
      "state": {
       "layout": "IPY_MODEL_6057d558fdf24c6ea41d3d99ef038da9",
       "style": "IPY_MODEL_44fda3b4bce548d2a6a5720b2e932ad7",
       "value": "job has successfully run"
      }
     },
     "9bb8d9710b12455392aea957ac06cf89": {
      "model_module": "@jupyter-widgets/controls",
      "model_module_version": "1.5.0",
      "model_name": "HTMLModel",
      "state": {
       "layout": "IPY_MODEL_85aedd62f462458f9168502674f0a52f",
       "style": "IPY_MODEL_ee8b8b89f26f4bcb8b0825a4681b4cfe",
       "value": "<font style='color:#34BC6E'>DONE</font>"
      }
     },
     "9bbbb1f3c274468187d8ac484321ae97": {
      "model_module": "@jupyter-widgets/base",
      "model_module_version": "1.2.0",
      "model_name": "LayoutModel",
      "state": {
       "width": "190px"
      }
     },
     "9bc846a8fb61468388c3b62b5d7e5c36": {
      "model_module": "@jupyter-widgets/controls",
      "model_module_version": "1.5.0",
      "model_name": "DescriptionStyleModel",
      "state": {
       "description_width": ""
      }
     },
     "9e4d64f815634a28bd06804e3b7bb733": {
      "model_module": "@jupyter-widgets/controls",
      "model_module_version": "1.5.0",
      "model_name": "ButtonStyleModel",
      "state": {
       "button_color": "white"
      }
     },
     "9e6bf13bc27b4a7b8bdb3da12d5eec35": {
      "model_module": "@jupyter-widgets/controls",
      "model_module_version": "1.5.0",
      "model_name": "ButtonStyleModel",
      "state": {
       "button_color": "white"
      }
     },
     "9f6b8435f7184de582047b3192a6485f": {
      "model_module": "@jupyter-widgets/base",
      "model_module_version": "1.2.0",
      "model_name": "LayoutModel",
      "state": {
       "width": "190px"
      }
     },
     "a0ede7916a054f76a177f64ffc59fdc8": {
      "model_module": "@jupyter-widgets/base",
      "model_module_version": "1.2.0",
      "model_name": "LayoutModel",
      "state": {
       "grid_area": "right"
      }
     },
     "a12e795ab3214861af44a9fbd3d71fe8": {
      "model_module": "@jupyter-widgets/base",
      "model_module_version": "1.2.0",
      "model_name": "LayoutModel",
      "state": {
       "align_items": "center",
       "display": "flex-inline",
       "grid_area": "right",
       "max_height": "325px",
       "padding": "10px 10px 10px 10px",
       "width": "auto"
      }
     },
     "a1bd51c3d15f4744afecf0359b290d2c": {
      "model_module": "@jupyter-widgets/controls",
      "model_module_version": "1.5.0",
      "model_name": "HTMLModel",
      "state": {
       "layout": "IPY_MODEL_94f953f3e7704a75b83b96e86a0e15ca",
       "style": "IPY_MODEL_ffa141e5547c4b98940fd13d03bc743a",
       "value": "61460a696d2d5262655383fe"
      }
     },
     "a23f7a74bb124478b5d37972fb42ceb2": {
      "model_module": "@jupyter-widgets/controls",
      "model_module_version": "1.5.0",
      "model_name": "DescriptionStyleModel",
      "state": {
       "description_width": ""
      }
     },
     "a392d43530dc4e91b988bfb38f2b3301": {
      "model_module": "@jupyter-widgets/base",
      "model_module_version": "1.2.0",
      "model_name": "LayoutModel",
      "state": {
       "max_width": "700px",
       "min_width": "700px"
      }
     },
     "a4dfcc0f0474420696d016372147731e": {
      "model_module": "@jupyter-widgets/controls",
      "model_module_version": "1.5.0",
      "model_name": "HTMLModel",
      "state": {
       "layout": "IPY_MODEL_c3ffaa0e5276461f831fdef36574c98b",
       "style": "IPY_MODEL_0fed01ab3b194fa6b11c80ec9ed4a360",
       "value": "-"
      }
     },
     "a513f4e3d5e14f58bcf3eb52d11d3537": {
      "model_module": "@jupyter-widgets/controls",
      "model_module_version": "1.5.0",
      "model_name": "HTMLModel",
      "state": {
       "layout": "IPY_MODEL_bae7522bfc5e4b73b9f95ef31f6312f6",
       "style": "IPY_MODEL_aa0902ffbe464d84a553fffd4e031ae1",
       "value": "-"
      }
     },
     "a72b9b8994b9462a97cb86d7632704b4": {
      "model_module": "@jupyter-widgets/base",
      "model_module_version": "1.2.0",
      "model_name": "LayoutModel",
      "state": {
       "align_items": "center",
       "display": "flex-inline",
       "grid_area": "right",
       "max_height": "325px",
       "padding": "10px 10px 10px 10px",
       "width": "auto"
      }
     },
     "a8cc7138766440eeb8fae2027d645527": {
      "model_module": "@jupyter-widgets/controls",
      "model_module_version": "1.5.0",
      "model_name": "DescriptionStyleModel",
      "state": {
       "description_width": ""
      }
     },
     "a902c789e132439aa14c0f24e8a40ce9": {
      "model_module": "@jupyter-widgets/controls",
      "model_module_version": "1.5.0",
      "model_name": "HTMLModel",
      "state": {
       "layout": "IPY_MODEL_1b6d6607a4554a34aef7173a0972526e",
       "style": "IPY_MODEL_362bd1eeaef143319cca38f42282842f",
       "value": "<table><style>\ntable {\n    border-collapse: collapse;\n    width: auto;\n}\n\nth, td {\n    text-align: left;\n    padding: 8px;\n}\n\ntr:nth-child(even) {background-color: #f6f6f6;};\n</style><tr><th></th><th>Type</th><th>Gate error</th></tr><tr><td><font style='font-weight:bold'>cx4_3</font></td><td>cx</td><td>0.0184</td></tr><tr><td><font style='font-weight:bold'>cx3_4</font></td><td>cx</td><td>0.0184</td></tr><tr><td><font style='font-weight:bold'>cx0_1</font></td><td>cx</td><td>0.00511</td></tr></table>"
      }
     },
     "aa0902ffbe464d84a553fffd4e031ae1": {
      "model_module": "@jupyter-widgets/controls",
      "model_module_version": "1.5.0",
      "model_name": "DescriptionStyleModel",
      "state": {
       "description_width": ""
      }
     },
     "aaea2dcc31f3422ea10dd06dfcd1338f": {
      "model_module": "@jupyter-widgets/controls",
      "model_module_version": "1.5.0",
      "model_name": "ButtonModel",
      "state": {
       "button_style": "primary",
       "description": "Clear",
       "layout": "IPY_MODEL_961216f200104648b86bd3d03587bdab",
       "style": "IPY_MODEL_0931d3acfd544f879229b96202dcb277"
      }
     },
     "aaf1aa74b6374af782442a8b4cb4668d": {
      "model_module": "@jupyter-widgets/controls",
      "model_module_version": "1.5.0",
      "model_name": "ButtonStyleModel",
      "state": {
       "button_color": "white"
      }
     },
     "acf73a94bceb4c2cb9fe26853acbdba8": {
      "model_module": "@jupyter-widgets/base",
      "model_module_version": "1.2.0",
      "model_name": "LayoutModel",
      "state": {
       "grid_area": "top"
      }
     },
     "b02c4c210e504ef08b5f9a3b448ba552": {
      "model_module": "@jupyter-widgets/controls",
      "model_module_version": "1.5.0",
      "model_name": "DescriptionStyleModel",
      "state": {
       "description_width": ""
      }
     },
     "b06f19f336734565abccf4151ff37b63": {
      "model_module": "@jupyter-widgets/base",
      "model_module_version": "1.2.0",
      "model_name": "LayoutModel",
      "state": {
       "width": "70px"
      }
     },
     "b0fd7f92390a4a918baf92a9d47864fe": {
      "model_module": "@jupyter-widgets/controls",
      "model_module_version": "1.5.0",
      "model_name": "HTMLModel",
      "state": {
       "layout": "IPY_MODEL_5e90b458a5a24e0da00832be8d9c9712",
       "style": "IPY_MODEL_28b2ec8e2328433a92475327fc0ad40f",
       "value": "<font style='color:#DC267F'>ERROR</font>"
      }
     },
     "b35a5b1b0fed4d17a87248399f34c932": {
      "model_module": "@jupyter-widgets/base",
      "model_module_version": "1.2.0",
      "model_name": "LayoutModel",
      "state": {
       "width": "145px"
      }
     },
     "b482faf6c42849a0b98d605946dde2eb": {
      "model_module": "@jupyter-widgets/controls",
      "model_module_version": "1.5.0",
      "model_name": "HTMLModel",
      "state": {
       "layout": "IPY_MODEL_c12adfb3663d4387abe759224da6f5f4",
       "style": "IPY_MODEL_96d530f912e24ac5b9500e8892ce7955",
       "value": "<h1 style='color:#ffffff;background-color:#000000;padding-top: 1%;padding-bottom: 1%;padding-left: 1%; margin-top: 0px'>ibmq_quito</h1>"
      }
     },
     "bae7522bfc5e4b73b9f95ef31f6312f6": {
      "model_module": "@jupyter-widgets/base",
      "model_module_version": "1.2.0",
      "model_name": "LayoutModel",
      "state": {
       "width": "70px"
      }
     },
     "bb192a43851345b7a2d6ec9a5d4a8c98": {
      "model_module": "@jupyter-widgets/controls",
      "model_module_version": "1.5.0",
      "model_name": "TabModel",
      "state": {
       "layout": "IPY_MODEL_f936f6a83bf8497ea9a9c3d3cf6dd3e7"
      }
     },
     "be4dc9719b564338bf55d91b4924b989": {
      "model_module": "@jupyter-widgets/controls",
      "model_module_version": "1.5.0",
      "model_name": "GridBoxModel",
      "state": {
       "children": [
        "IPY_MODEL_aaea2dcc31f3422ea10dd06dfcd1338f"
       ],
       "layout": "IPY_MODEL_477962866ce34a76bcb0ba5735b400f8"
      }
     },
     "bfb97091c10c49dbbc105bc1b11ae52f": {
      "model_module": "@jupyter-widgets/controls",
      "model_module_version": "1.5.0",
      "model_name": "DescriptionStyleModel",
      "state": {
       "description_width": ""
      }
     },
     "bfcabcf21ed14cdea996f8cbaa802d46": {
      "model_module": "@jupyter-widgets/controls",
      "model_module_version": "1.5.0",
      "model_name": "DescriptionStyleModel",
      "state": {
       "description_width": ""
      }
     },
     "c12adfb3663d4387abe759224da6f5f4": {
      "model_module": "@jupyter-widgets/base",
      "model_module_version": "1.2.0",
      "model_name": "LayoutModel",
      "state": {
       "margin": "0px 0px 0px 0px"
      }
     },
     "c1544b29651842e38305710a42b10b0a": {
      "model_module": "@jupyter-widgets/controls",
      "model_module_version": "1.5.0",
      "model_name": "DescriptionStyleModel",
      "state": {
       "description_width": ""
      }
     },
     "c3c3e5b375f54c9c84e70e1feb96dc0e": {
      "model_module": "@jupyter-widgets/base",
      "model_module_version": "1.2.0",
      "model_name": "LayoutModel",
      "state": {
       "overflow_x": "scroll"
      }
     },
     "c3ffaa0e5276461f831fdef36574c98b": {
      "model_module": "@jupyter-widgets/base",
      "model_module_version": "1.2.0",
      "model_name": "LayoutModel",
      "state": {
       "width": "70px"
      }
     },
     "c4fc3646012043d991913543383eb8a7": {
      "model_module": "@jupyter-widgets/base",
      "model_module_version": "1.2.0",
      "model_name": "LayoutModel",
      "state": {
       "width": "145px"
      }
     },
     "c62d4d49d3e648d1bc363b6d179eb419": {
      "model_module": "@jupyter-widgets/base",
      "model_module_version": "1.2.0",
      "model_name": "LayoutModel",
      "state": {
       "overflow_x": "scroll"
      }
     },
     "c668e43468de409c83801424da4fa112": {
      "model_module": "@jupyter-widgets/controls",
      "model_module_version": "1.5.0",
      "model_name": "DescriptionStyleModel",
      "state": {
       "description_width": ""
      }
     },
     "c9e7b9ba06414ff79229c8b862386326": {
      "model_module": "@jupyter-widgets/controls",
      "model_module_version": "1.5.0",
      "model_name": "TabModel",
      "state": {
       "_titles": {
        "0": "Configuration",
        "1": "Qubit Properties",
        "2": "Multi-Qubit Gates",
        "3": "Error Map",
        "4": "Job History"
       },
       "children": [
        "IPY_MODEL_2a150969cf364a5eb901dbdea69977ce",
        "IPY_MODEL_78d0bf1c416a4c1bb526e6ffac8f256a",
        "IPY_MODEL_4e484c7cab93400ead1307cd7b733c46",
        "IPY_MODEL_5353767a2aeb413898719f9e49a66e71",
        "IPY_MODEL_7414b8df4db443fb90492103121ad916"
       ],
       "layout": "IPY_MODEL_5e34c92caed54c098ca2e599c8140dd7"
      }
     },
     "cd87d6be9cc74e669d67882686c42c01": {
      "model_module": "@jupyter-widgets/controls",
      "model_module_version": "1.5.0",
      "model_name": "DescriptionStyleModel",
      "state": {
       "description_width": ""
      }
     },
     "cd8f9cbe605a4442a1b882595b69808b": {
      "model_module": "@jupyter-widgets/base",
      "model_module_version": "1.2.0",
      "model_name": "LayoutModel",
      "state": {
       "border": "4px solid #000000",
       "max_height": "650px",
       "min_height": "650px",
       "overflow_y": "hidden"
      }
     },
     "cd9c86e805904e2d840ebd3640fbae3f": {
      "model_module": "@jupyter-widgets/base",
      "model_module_version": "1.2.0",
      "model_name": "LayoutModel",
      "state": {}
     },
     "ce18ed05ec854b50bd279f459d311860": {
      "model_module": "@jupyter-widgets/controls",
      "model_module_version": "1.5.0",
      "model_name": "HTMLModel",
      "state": {
       "layout": "IPY_MODEL_9bbbb1f3c274468187d8ac484321ae97",
       "style": "IPY_MODEL_0ed614ef1b4c4137bd79421e21756702",
       "value": "<h5>Job ID</h5>"
      }
     },
     "ce1e8d12b8cb45d7b37dfd9e88a42c07": {
      "model_module": "@jupyter-widgets/base",
      "model_module_version": "1.2.0",
      "model_name": "LayoutModel",
      "state": {
       "max_width": "700px",
       "min_width": "700px"
      }
     },
     "ce24c7de56534ed8bdfbc52103216627": {
      "model_module": "@jupyter-widgets/controls",
      "model_module_version": "1.5.0",
      "model_name": "DescriptionStyleModel",
      "state": {
       "description_width": ""
      }
     },
     "cf5b8e00e98b4f89a7d3177a18a73f33": {
      "model_module": "@jupyter-widgets/controls",
      "model_module_version": "1.5.0",
      "model_name": "HTMLMathModel",
      "state": {
       "layout": "IPY_MODEL_28defdecc52746cf9ea4dc12b300cf35",
       "style": "IPY_MODEL_c668e43468de409c83801424da4fa112",
       "value": "<table><style>\ntable {\n    border-collapse: collapse;\n    width: auto;\n}\n\nth, td {\n    text-align: left;\n    padding: 8px;\n}\n\ntr:nth-child(even) {background-color: #f6f6f6;}\n</style><tr><th>Property</th><th>Value</th></tr><tr><td><font style='font-weight:bold'>n_qubits</font></td><td>5</td></tr><tr><td><font style='font-weight:bold'>quantum_volume</font></td><td>8</td></tr><tr><td><font style='font-weight:bold'>operational</font></td><td>True</td></tr><tr><td><font style='font-weight:bold'>status_msg</font></td><td>active</td></tr><tr><td><font style='font-weight:bold'>pending_jobs</font></td><td>7</td></tr><tr><td><font style='font-weight:bold'>backend_version</font></td><td>1.0.17</td></tr><tr><td><font style='font-weight:bold'>basis_gates</font></td><td>['id', 'rz', 'sx', 'x', 'cx', 'reset']</td></tr><tr><td><font style='font-weight:bold'>max_shots</font></td><td>8192</td></tr><tr><td><font style='font-weight:bold'>max_experiments</font></td><td>75</td></tr></table>"
      }
     },
     "cff955e7287f43c799b97e5eebe9be3c": {
      "model_module": "@jupyter-widgets/base",
      "model_module_version": "1.2.0",
      "model_name": "LayoutModel",
      "state": {
       "grid_area": "right"
      }
     },
     "d037facab78a4eaeb7a9a97d6db0070a": {
      "model_module": "@jupyter-widgets/controls",
      "model_module_version": "1.5.0",
      "model_name": "DescriptionStyleModel",
      "state": {
       "description_width": ""
      }
     },
     "d079f6bcea644cd6bd3233f409c6e346": {
      "model_module": "@jupyter-widgets/controls",
      "model_module_version": "1.5.0",
      "model_name": "DescriptionStyleModel",
      "state": {
       "description_width": ""
      }
     },
     "d0a31582ac6b4098900af8f2153fbfbf": {
      "model_module": "@jupyter-widgets/controls",
      "model_module_version": "1.5.0",
      "model_name": "HTMLModel",
      "state": {
       "layout": "IPY_MODEL_753daff02d204f508bbe97c5d4b60039",
       "style": "IPY_MODEL_87cde5ccc67d4fd5be4a967f65422494",
       "value": "job has successfully run"
      }
     },
     "d59ffe01d89146e1901092a060daea12": {
      "model_module": "@jupyter-widgets/controls",
      "model_module_version": "1.5.0",
      "model_name": "HBoxModel",
      "state": {
       "children": [
        "IPY_MODEL_fef31e89700a4b94bccb1a6fcaa2a282",
        "IPY_MODEL_a1bd51c3d15f4744afecf0359b290d2c",
        "IPY_MODEL_946b7cb4a3094fb3899741449cdcb77c",
        "IPY_MODEL_5f6c22c29e51472b98bee5c159f24954",
        "IPY_MODEL_e25dfab7e1134c1c857dd6ab1aa9f3c3",
        "IPY_MODEL_967ca0b91cc24428ac8612326cf8ebf0"
       ],
       "layout": "IPY_MODEL_31b019846eba41e6b91584fb8bfa2bdc"
      }
     },
     "d5b15d8a57984073b85929943319a242": {
      "model_module": "@jupyter-widgets/base",
      "model_module_version": "1.2.0",
      "model_name": "LayoutModel",
      "state": {
       "width": "70px"
      }
     },
     "d6bb1428970c408f8fe0b7c31f32b883": {
      "model_module": "@jupyter-widgets/controls",
      "model_module_version": "1.5.0",
      "model_name": "DescriptionStyleModel",
      "state": {
       "description_width": ""
      }
     },
     "d742ad6bbc4242b0b156c555f4cf3346": {
      "model_module": "@jupyter-widgets/controls",
      "model_module_version": "1.5.0",
      "model_name": "HTMLModel",
      "state": {
       "layout": "IPY_MODEL_9f6b8435f7184de582047b3192a6485f",
       "style": "IPY_MODEL_cd87d6be9cc74e669d67882686c42c01",
       "value": "61460a362be369b10c587000"
      }
     },
     "d8e396161846433286615c548cb92f73": {
      "model_module": "@jupyter-widgets/controls",
      "model_module_version": "1.5.0",
      "model_name": "DescriptionStyleModel",
      "state": {
       "description_width": ""
      }
     },
     "d95172a56bf84166b61b0bd39147cdba": {
      "model_module": "@jupyter-widgets/controls",
      "model_module_version": "1.5.0",
      "model_name": "DescriptionStyleModel",
      "state": {
       "description_width": ""
      }
     },
     "d9ee3315aede4855b8039a028c355049": {
      "model_module": "@jupyter-widgets/controls",
      "model_module_version": "1.5.0",
      "model_name": "DescriptionStyleModel",
      "state": {
       "description_width": ""
      }
     },
     "dc4344dfafb949ae94f2cc598a0d5f60": {
      "model_module": "@jupyter-widgets/controls",
      "model_module_version": "1.5.0",
      "model_name": "DescriptionStyleModel",
      "state": {
       "description_width": ""
      }
     },
     "dce59ed277754a63b0f6204c07b03907": {
      "model_module": "@jupyter-widgets/controls",
      "model_module_version": "1.5.0",
      "model_name": "DescriptionStyleModel",
      "state": {
       "description_width": ""
      }
     },
     "de96be4e44274d3cb815c2e5984ad5ba": {
      "model_module": "@jupyter-widgets/base",
      "model_module_version": "1.2.0",
      "model_name": "LayoutModel",
      "state": {
       "margin": "0px 5px 0px 0px",
       "width": "32px"
      }
     },
     "e102180c05fd4eee93fd43100a5517d9": {
      "model_module": "@jupyter-widgets/base",
      "model_module_version": "1.2.0",
      "model_name": "LayoutModel",
      "state": {
       "border": "4px solid #000000",
       "max_height": "650px",
       "min_height": "650px",
       "overflow_y": "hidden"
      }
     },
     "e1a48eacad8c448e9f3873fb331ae748": {
      "model_module": "@jupyter-widgets/controls",
      "model_module_version": "1.5.0",
      "model_name": "HTMLModel",
      "state": {
       "layout": "IPY_MODEL_fddd7d17becf49979af62a62633b40ca",
       "style": "IPY_MODEL_d037facab78a4eaeb7a9a97d6db0070a",
       "value": "<table><style>\ntable {\n    border-collapse: collapse;\n    width: auto;\n}\n\nth, td {\n    text-align: left;\n    padding: 8px;\n}\n\ntr:nth-child(even) {background-color: #f6f6f6;};\n</style><tr><th></th><th>Type</th><th>Gate error</th></tr><tr><td><font style='font-weight:bold'>cx1_0</font></td><td>cx</td><td>0.00511</td></tr><tr><td><font style='font-weight:bold'>cx3_1</font></td><td>cx</td><td>0.01415</td></tr><tr><td><font style='font-weight:bold'>cx1_3</font></td><td>cx</td><td>0.01415</td></tr></table>"
      }
     },
     "e1b4687af2c24822a4bb9c9ef1a0ee07": {
      "model_module": "@jupyter-widgets/controls",
      "model_module_version": "1.5.0",
      "model_name": "HTMLModel",
      "state": {
       "layout": "IPY_MODEL_66b1e6c549f543828550bf0175343d65",
       "style": "IPY_MODEL_5eae3c57b1d94e01adbefca389ae86df",
       "value": "<font style='color:#34BC6E'>DONE</font>"
      }
     },
     "e234e5ce458946b184098bb2c75c3ee1": {
      "model_module": "@jupyter-widgets/controls",
      "model_module_version": "1.5.0",
      "model_name": "HTMLModel",
      "state": {
       "layout": "IPY_MODEL_febabb52d53b40c8bc342ac180edbd86",
       "style": "IPY_MODEL_8e42b88425634eef94496a2da4eaa00b",
       "value": "-"
      }
     },
     "e25dfab7e1134c1c857dd6ab1aa9f3c3": {
      "model_module": "@jupyter-widgets/controls",
      "model_module_version": "1.5.0",
      "model_name": "HTMLModel",
      "state": {
       "layout": "IPY_MODEL_d5b15d8a57984073b85929943319a242",
       "style": "IPY_MODEL_743218c0970c491caf6685907ff2910c",
       "value": "-"
      }
     },
     "e2bce5925afc4f7eb2099c7704f7759e": {
      "model_module": "@jupyter-widgets/base",
      "model_module_version": "1.2.0",
      "model_name": "LayoutModel",
      "state": {}
     },
     "e5f05917f4b44b6dbe130954357b3167": {
      "model_module": "@jupyter-widgets/base",
      "model_module_version": "1.2.0",
      "model_name": "LayoutModel",
      "state": {
       "width": "145px"
      }
     },
     "e6e3475f50e741a18b62cc8bf66fb528": {
      "model_module": "@jupyter-widgets/output",
      "model_module_version": "1.0.0",
      "model_name": "OutputModel",
      "state": {
       "layout": "IPY_MODEL_a12e795ab3214861af44a9fbd3d71fe8",
       "outputs": [
        {
         "data": {
          "image/png": "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\n",
          "text/plain": "<Figure size 360x360 with 1 Axes>"
         },
         "metadata": {},
         "output_type": "display_data"
        }
       ]
      }
     },
     "e925bd317cb74657ab1991fcf9b33acc": {
      "model_module": "@jupyter-widgets/controls",
      "model_module_version": "1.5.0",
      "model_name": "GridBoxModel",
      "state": {
       "children": [
        "IPY_MODEL_05eea0d969154804970dbed38528d7ad",
        "IPY_MODEL_15316e445ad24ace8127833ba5f92573",
        "IPY_MODEL_f46083db8430473e8a2e7fb420046b4d"
       ],
       "layout": "IPY_MODEL_068f3be9a03a4625bad3525b985b6fa9"
      }
     },
     "ebdc7628a21b48bf95d316fc45821d04": {
      "model_module": "@jupyter-widgets/base",
      "model_module_version": "1.2.0",
      "model_name": "LayoutModel",
      "state": {
       "margin": "0px 5px 0px 0px",
       "width": "32px"
      }
     },
     "ed2c0f6c5ad24f5190fe5a1a90b97fa8": {
      "model_module": "@jupyter-widgets/controls",
      "model_module_version": "1.5.0",
      "model_name": "DescriptionStyleModel",
      "state": {
       "description_width": ""
      }
     },
     "ed96f765b91d4ddea0f59c5ac9d4e361": {
      "model_module": "@jupyter-widgets/base",
      "model_module_version": "1.2.0",
      "model_name": "LayoutModel",
      "state": {
       "overflow_x": "scroll"
      }
     },
     "edfa0d502ed54dc19f53863256cc056d": {
      "model_module": "@jupyter-widgets/controls",
      "model_module_version": "1.5.0",
      "model_name": "ButtonModel",
      "state": {
       "icon": "close",
       "layout": "IPY_MODEL_10d069c1dcce49fba8b82902e430cc79",
       "style": "IPY_MODEL_aaf1aa74b6374af782442a8b4cb4668d"
      }
     },
     "ee073372a1b14efcb648458c024d91af": {
      "model_module": "@jupyter-widgets/base",
      "model_module_version": "1.2.0",
      "model_name": "LayoutModel",
      "state": {
       "width": "145px"
      }
     },
     "ee8b8b89f26f4bcb8b0825a4681b4cfe": {
      "model_module": "@jupyter-widgets/controls",
      "model_module_version": "1.5.0",
      "model_name": "DescriptionStyleModel",
      "state": {
       "description_width": ""
      }
     },
     "efed89fb45334b6c96498b39451e5784": {
      "model_module": "@jupyter-widgets/base",
      "model_module_version": "1.2.0",
      "model_name": "LayoutModel",
      "state": {
       "width": "95px"
      }
     },
     "effd1dd007bb4335a0c8135f88602a55": {
      "model_module": "@jupyter-widgets/controls",
      "model_module_version": "1.5.0",
      "model_name": "ButtonModel",
      "state": {
       "icon": "close",
       "layout": "IPY_MODEL_de96be4e44274d3cb815c2e5984ad5ba",
       "style": "IPY_MODEL_9e6bf13bc27b4a7b8bdb3da12d5eec35"
      }
     },
     "f2c5f76dc0054f7a8024db6ba889edb4": {
      "model_module": "@jupyter-widgets/controls",
      "model_module_version": "1.5.0",
      "model_name": "HTMLModel",
      "state": {
       "layout": "IPY_MODEL_34ae7fe620ac4bde8e5d6251383f9cd1",
       "style": "IPY_MODEL_10b03af9afb54697b722260f87ac84eb",
       "value": "<div><font style='font-weight:bold'>last_update_date</font>: 2021-09-18 04:40:36+00:00</div>"
      }
     },
     "f3ac0387fffc436bb966634e04b2f4da": {
      "model_module": "@jupyter-widgets/controls",
      "model_module_version": "1.5.0",
      "model_name": "HTMLModel",
      "state": {
       "layout": "IPY_MODEL_45d3d1747f7149359f515fcfed18e09d",
       "style": "IPY_MODEL_9bc846a8fb61468388c3b62b5d7e5c36",
       "value": "<h1 style='color:#ffffff;background-color:#000000;padding-top: 1%;padding-bottom: 1%;padding-left: 1%; margin-top: 0px'>ibmq_lima</h1>"
      }
     },
     "f3f523f318d84de8af75f360614d400b": {
      "model_module": "@jupyter-widgets/controls",
      "model_module_version": "1.5.0",
      "model_name": "HTMLModel",
      "state": {
       "layout": "IPY_MODEL_1ab49efd80d14bc595d5de215bc92261",
       "style": "IPY_MODEL_dc4344dfafb949ae94f2cc598a0d5f60",
       "value": "<h5>Backend</h5>"
      }
     },
     "f46083db8430473e8a2e7fb420046b4d": {
      "model_module": "@jupyter-widgets/controls",
      "model_module_version": "1.5.0",
      "model_name": "HTMLMathModel",
      "state": {
       "layout": "IPY_MODEL_3521706bec3e406ebd88cc9a33e1aacb",
       "style": "IPY_MODEL_dce59ed277754a63b0f6204c07b03907",
       "value": "<table><style>\ntable {\n    border-collapse: collapse;\n    width: auto;\n}\n\nth, td {\n    text-align: left;\n    padding: 8px;\n}\n\ntr:nth-child(even) {background-color: #f6f6f6;}\n</style><tr><th></th><th></th></tr><tr><td>credits_required</td><td>True</td></tr><tr><td>memory</td><td>True</td></tr><tr><td>qubit_lo_range</td><td>[[4.800640460881038, 5.800640460881038], [4.580635137802772, 5.580635137802772], [4.822132065053979, 5.822132065053979], [4.663618882226781, 5.663618882226781], [4.55239783094609, 5.55239783094609]]</td></tr><tr><td>pulse_num_channels</td><td>9</td></tr><tr><td>n_uchannels</td><td>8</td></tr><tr><td>pulse_num_qubits</td><td>3</td></tr><tr><td>supported_instructions</td><td>['shiftf', 'u3', 'setf', 'reset', 'play', 'cx', 'delay', 'sx', 'measure', 'id', 'u2', 'x', 'acquire', 'u1', 'rz']</td></tr><tr><td>rep_times</td><td>[1000.0]</td></tr><tr><td>conditional</td><td>False</td></tr><tr><td>coupling_map</td><td>[[0, 1], [1, 0], [1, 2], [1, 3], [2, 1], [3, 1], [3, 4], [4, 3]]</td></tr><tr><td>allow_object_storage</td><td>True</td></tr><tr><td>conditional_latency</td><td>[]</td></tr><tr><td>dynamic_reprate_enabled</td><td>True</td></tr><tr><td>online_date</td><td>2021-01-08 05:00:00+00:00</td></tr><tr><td>u_channel_lo</td><td>[[{'q': 1, 'scale': (1+0j)}], [{'q': 0, 'scale': (1+0j)}], [{'q': 2, 'scale': (1+0j)}], [{'q': 3, 'scale': (1+0j)}], [{'q': 1, 'scale': (1+0j)}], [{'q': 1, 'scale': (1+0j)}], [{'q': 4, 'scale': (1+0j)}], [{'q': 3, 'scale': (1+0j)}]]</td></tr><tr><td>qubit_channel_mapping</td><td>[['u1', 'd0', 'u0', 'm0'], ['u3', 'u0', 'd1', 'u5', 'u2', 'u4', 'u1', 'm1'], ['u2', 'm2', 'd2', 'u4'], ['u3', 'u7', 'm3', 'u5', 'd3', 'u6'], ['u7', 'm4', 'u6', 'd4']]</td></tr><tr><td>channels</td><td>{'acquire0': {'operates': {'qubits': [0]}, 'purpose': 'acquire', 'type': 'acquire'}, 'acquire1': {'operates': {'qubits': [1]}, 'purpose': 'acquire', 'type': 'acquire'}, 'acquire2': {'operates': {'qubits': [2]}, 'purpose': 'acquire', 'type': 'acquire'}, 'acquire3': {'operates': {'qubits': [3]}, 'purpose': 'acquire', 'type': 'acquire'}, 'acquire4': {'operates': {'qubits': [4]}, 'purpose': 'acquire', 'type': 'acquire'}, 'd0': {'operates': {'qubits': [0]}, 'purpose': 'drive', 'type': 'drive'}, 'd1': {'operates': {'qubits': [1]}, 'purpose': 'drive', 'type': 'drive'}, 'd2': {'operates': {'qubits': [2]}, 'purpose': 'drive', 'type': 'drive'}, 'd3': {'operates': {'qubits': [3]}, 'purpose': 'drive', 'type': 'drive'}, 'd4': {'operates': {'qubits': [4]}, 'purpose': 'drive', 'type': 'drive'}, 'm0': {'operates': {'qubits': [0]}, 'purpose': 'measure', 'type': 'measure'}, 'm1': {'operates': {'qubits': [1]}, 'purpose': 'measure', 'type': 'measure'}, 'm2': {'operates': {'qubits': [2]}, 'purpose': 'measure', 'type': 'measure'}, 'm3': {'operates': {'qubits': [3]}, 'purpose': 'measure', 'type': 'measure'}, 'm4': {'operates': {'qubits': [4]}, 'purpose': 'measure', 'type': 'measure'}, 'u0': {'operates': {'qubits': [0, 1]}, 'purpose': 'cross-resonance', 'type': 'control'}, 'u1': {'operates': {'qubits': [1, 0]}, 'purpose': 'cross-resonance', 'type': 'control'}, 'u2': {'operates': {'qubits': [1, 2]}, 'purpose': 'cross-resonance', 'type': 'control'}, 'u3': {'operates': {'qubits': [1, 3]}, 'purpose': 'cross-resonance', 'type': 'control'}, 'u4': {'operates': {'qubits': [2, 1]}, 'purpose': 'cross-resonance', 'type': 'control'}, 'u5': {'operates': {'qubits': [3, 1]}, 'purpose': 'cross-resonance', 'type': 'control'}, 'u6': {'operates': {'qubits': [3, 4]}, 'purpose': 'cross-resonance', 'type': 'control'}, 'u7': {'operates': {'qubits': [4, 3]}, 'purpose': 'cross-resonance', 'type': 'control'}}</td></tr><tr><td>backend_name</td><td>ibmq_quito</td></tr><tr><td>default_rep_delay</td><td>250.0</td></tr><tr><td>timing_constraints</td><td>{'acquire_alignment': 16, 'granularity': 16, 'min_length': 64, 'pulse_alignment': 1}</td></tr><tr><td>discriminators</td><td>['linear_discriminator', 'hw_centroid', 'quadratic_discriminator']</td></tr><tr><td>meas_kernels</td><td>['hw_boxcar']</td></tr><tr><td>dt</td><td>0.2222222222222222</td></tr><tr><td>url</td><td>None</td></tr><tr><td>measure_esp_enabled</td><td>False</td></tr><tr><td>hamiltonian</td><td>$$\\begin{align} \\mathcal{H}/\\hbar = & \\sum_{i=0}^{4}\\left(\\frac{\\omega_{q,i}}{2}(\\mathbb{I}-\\sigma_i^{z})+\\frac{\\Delta_{i}}{2}(O_i^2-O_i)+\\Omega_{d,i}D_i(t)\\sigma_i^{X}\\right) \\\\ & + J_{0,1}(\\sigma_{0}^{+}\\sigma_{1}^{-}+\\sigma_{0}^{-}\\sigma_{1}^{+}) + J_{1,2}(\\sigma_{1}^{+}\\sigma_{2}^{-}+\\sigma_{1}^{-}\\sigma_{2}^{+}) + J_{1,3}(\\sigma_{1}^{+}\\sigma_{3}^{-}+\\sigma_{1}^{-}\\sigma_{3}^{+}) + J_{3,4}(\\sigma_{3}^{+}\\sigma_{4}^{-}+\\sigma_{3}^{-}\\sigma_{4}^{+}) \\\\ & + \\Omega_{d,0}(U_{0}^{(0,1)}(t))\\sigma_{0}^{X} + \\Omega_{d,1}(U_{1}^{(1,0)}(t)+U_{3}^{(1,3)}(t)+U_{2}^{(1,2)}(t))\\sigma_{1}^{X} \\\\ & + \\Omega_{d,2}(U_{4}^{(2,1)}(t))\\sigma_{2}^{X} + \\Omega_{d,3}(U_{6}^{(3,4)}(t)+U_{5}^{(3,1)}(t))\\sigma_{3}^{X} \\\\ & + \\Omega_{d,4}(U_{7}^{(4,3)}(t))\\sigma_{4}^{X} \\\\ \\end{align}$$</td></tr><tr><td>open_pulse</td><td>False</td></tr><tr><td>sample_name</td><td>family: Falcon, revision: 4, segment: T</td></tr><tr><td>uchannels_enabled</td><td>True</td></tr><tr><td>parametric_pulses</td><td>['gaussian', 'gaussian_square', 'drag', 'constant']</td></tr><tr><td>input_allowed</td><td>['job', 'runtime']</td></tr><tr><td>multi_meas_enabled</td><td>True</td></tr><tr><td>meas_levels</td><td>[1, 2]</td></tr><tr><td>dtm</td><td>0.2222222222222222</td></tr><tr><td>allow_q_object</td><td>True</td></tr><tr><td>meas_lo_range</td><td>[[6.807868157000001, 7.807868157000001], [6.7292695270000005, 7.7292695270000005], [6.991060108, 7.991060108], [6.8547510460000005, 7.8547510460000005], [6.904365522000001, 7.904365522000001]]</td></tr><tr><td>rep_delay_range</td><td>[0.0, 500.0]</td></tr><tr><td>n_registers</td><td>1</td></tr><tr><td>acquisition_latency</td><td>[]</td></tr><tr><td>local</td><td>False</td></tr><tr><td>processor_type</td><td>{'family': 'Falcon', 'revision': 4, 'segment': 'T'}</td></tr><tr><td>description</td><td>5 qubit device Quito</td></tr><tr><td>meas_map</td><td>[[0, 1, 2, 3, 4]]</td></tr><tr><td>simulator</td><td>False</td></tr></table>"
      }
     },
     "f4a53a46a2444cdca00e4736c3b8ac56": {
      "model_module": "@jupyter-widgets/controls",
      "model_module_version": "1.5.0",
      "model_name": "HTMLModel",
      "state": {
       "layout": "IPY_MODEL_e5f05917f4b44b6dbe130954357b3167",
       "style": "IPY_MODEL_0135537963634fee8328c0ffb41fd581",
       "value": "ibmq_quito"
      }
     },
     "f63ac09b6a8644299e0c44fc29022433": {
      "model_module": "@jupyter-widgets/base",
      "model_module_version": "1.2.0",
      "model_name": "LayoutModel",
      "state": {
       "overflow_x": "scroll"
      }
     },
     "f88ba23317474564bc9372b5420ae9e9": {
      "model_module": "@jupyter-widgets/controls",
      "model_module_version": "1.5.0",
      "model_name": "HTMLModel",
      "state": {
       "layout": "IPY_MODEL_b06f19f336734565abccf4151ff37b63",
       "style": "IPY_MODEL_2bdea63538244bc0bda0428066ab6296",
       "value": "-"
      }
     },
     "f936f6a83bf8497ea9a9c3d3cf6dd3e7": {
      "model_module": "@jupyter-widgets/base",
      "model_module_version": "1.2.0",
      "model_name": "LayoutModel",
      "state": {
       "max_height": "620px"
      }
     },
     "f979e69715e947148b9904081cd159a8": {
      "model_module": "@jupyter-widgets/controls",
      "model_module_version": "1.5.0",
      "model_name": "HTMLModel",
      "state": {
       "layout": "IPY_MODEL_efed89fb45334b6c96498b39451e5784",
       "style": "IPY_MODEL_40d2782e33bc4a39b05f0e0c35aaacbc",
       "value": "<h5>Status</h5>"
      }
     },
     "fa0d9e06d4434661a6dbe794e9ca663b": {
      "model_module": "@jupyter-widgets/base",
      "model_module_version": "1.2.0",
      "model_name": "LayoutModel",
      "state": {
       "grid_area": "left"
      }
     },
     "fc55a06834fa4706bf5b3ef5db216250": {
      "model_module": "@jupyter-widgets/base",
      "model_module_version": "1.2.0",
      "model_name": "LayoutModel",
      "state": {
       "grid_gap": "0px 0px",
       "grid_template_areas": "\n                                                   \"top top top\"\n                                                   \"left middle right\"\n                                                   ",
       "grid_template_columns": "33% 33% 33%",
       "grid_template_rows": "auto auto"
      }
     },
     "fd17f5575a8d4a9db32034cece6385eb": {
      "model_module": "@jupyter-widgets/controls",
      "model_module_version": "1.5.0",
      "model_name": "HTMLModel",
      "state": {
       "layout": "IPY_MODEL_f63ac09b6a8644299e0c44fc29022433",
       "style": "IPY_MODEL_070302e8c33c451da3596c4c6f96f674",
       "value": "job has successfully run"
      }
     },
     "fd3ba9597c2b4088b331ce736d421814": {
      "model_module": "@jupyter-widgets/base",
      "model_module_version": "1.2.0",
      "model_name": "LayoutModel",
      "state": {
       "align_items": "center",
       "display": "flex-inline"
      }
     },
     "fd649bc99f3a487faacf61db81831dc7": {
      "model_module": "@jupyter-widgets/controls",
      "model_module_version": "1.5.0",
      "model_name": "DescriptionStyleModel",
      "state": {
       "description_width": ""
      }
     },
     "fdc27fd463d84aa7a0513cb6be464839": {
      "model_module": "@jupyter-widgets/controls",
      "model_module_version": "1.5.0",
      "model_name": "ButtonStyleModel",
      "state": {
       "button_color": "white"
      }
     },
     "fddd7d17becf49979af62a62633b40ca": {
      "model_module": "@jupyter-widgets/base",
      "model_module_version": "1.2.0",
      "model_name": "LayoutModel",
      "state": {
       "grid_area": "middle"
      }
     },
     "fe3d894a8e8c49599dec48b0413d09b5": {
      "model_module": "@jupyter-widgets/controls",
      "model_module_version": "1.5.0",
      "model_name": "HTMLModel",
      "state": {
       "layout": "IPY_MODEL_cff955e7287f43c799b97e5eebe9be3c",
       "style": "IPY_MODEL_b02c4c210e504ef08b5f9a3b448ba552",
       "value": "<table><style>\ntable {\n    border-collapse: collapse;\n    width: auto;\n}\n\nth, td {\n    text-align: left;\n    padding: 8px;\n}\n\ntr:nth-child(even) {background-color: #f6f6f6;};\n</style><tr><th></th><th>Type</th><th>Gate error</th></tr><tr><td><font style='font-weight:bold'>cx2_1</font></td><td>cx</td><td>0.005</td></tr><tr><td><font style='font-weight:bold'>cx1_2</font></td><td>cx</td><td>0.005</td></tr></table>"
      }
     },
     "febabb52d53b40c8bc342ac180edbd86": {
      "model_module": "@jupyter-widgets/base",
      "model_module_version": "1.2.0",
      "model_name": "LayoutModel",
      "state": {
       "width": "70px"
      }
     },
     "fef31e89700a4b94bccb1a6fcaa2a282": {
      "model_module": "@jupyter-widgets/controls",
      "model_module_version": "1.5.0",
      "model_name": "ButtonModel",
      "state": {
       "icon": "close",
       "layout": "IPY_MODEL_4c466b3c6dbe4edcbddd84fc17038859",
       "style": "IPY_MODEL_9e4d64f815634a28bd06804e3b7bb733"
      }
     },
     "ffa141e5547c4b98940fd13d03bc743a": {
      "model_module": "@jupyter-widgets/controls",
      "model_module_version": "1.5.0",
      "model_name": "DescriptionStyleModel",
      "state": {
       "description_width": ""
      }
     },
     "ffac309007d648e89585766d626ef418": {
      "model_module": "@jupyter-widgets/controls",
      "model_module_version": "1.5.0",
      "model_name": "VBoxModel",
      "state": {
       "children": [
        "IPY_MODEL_92b83260228b49d7a037fba840fb7327",
        "IPY_MODEL_3c5e8a32f1b347399300544d2a621fa5"
       ],
       "layout": "IPY_MODEL_8054f45150514d04b8f7997467e3bb6f"
      }
     }
    },
    "version_major": 2,
    "version_minor": 0
   }
  }
 },
 "nbformat": 4,
 "nbformat_minor": 5
}
