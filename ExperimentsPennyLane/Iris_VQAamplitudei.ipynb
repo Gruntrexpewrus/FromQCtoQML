{
 "cells": [
  {
   "cell_type": "code",
   "execution_count": 1,
   "source": [
    "pip install pennylane --upgrade"
   ],
   "outputs": [
    {
     "output_type": "stream",
     "name": "stdout",
     "text": [
      "Collecting pennylane\n",
      "  Downloading PennyLane-0.18.0-py3-none-any.whl (631 kB)\n",
      "\u001b[K     |████████████████████████████████| 631 kB 5.2 MB/s \n",
      "\u001b[?25hRequirement already satisfied: scipy in /usr/local/lib/python3.7/dist-packages (from pennylane) (1.4.1)\n",
      "Collecting pennylane-lightning>=0.18\n",
      "  Downloading PennyLane_Lightning-0.18.0-cp37-cp37m-manylinux2010_x86_64.whl (4.4 MB)\n",
      "\u001b[K     |████████████████████████████████| 4.4 MB 33.7 MB/s \n",
      "\u001b[?25hCollecting semantic-version==2.6\n",
      "  Downloading semantic_version-2.6.0-py3-none-any.whl (14 kB)\n",
      "Collecting autoray\n",
      "  Downloading autoray-0.2.5-py3-none-any.whl (16 kB)\n",
      "Requirement already satisfied: autograd in /usr/local/lib/python3.7/dist-packages (from pennylane) (1.3)\n",
      "Requirement already satisfied: toml in /usr/local/lib/python3.7/dist-packages (from pennylane) (0.10.2)\n",
      "Requirement already satisfied: cachetools in /usr/local/lib/python3.7/dist-packages (from pennylane) (4.2.2)\n",
      "Requirement already satisfied: appdirs in /usr/local/lib/python3.7/dist-packages (from pennylane) (1.4.4)\n",
      "Requirement already satisfied: networkx in /usr/local/lib/python3.7/dist-packages (from pennylane) (2.6.3)\n",
      "Requirement already satisfied: numpy in /usr/local/lib/python3.7/dist-packages (from pennylane) (1.19.5)\n",
      "Requirement already satisfied: future>=0.15.2 in /usr/local/lib/python3.7/dist-packages (from autograd->pennylane) (0.16.0)\n",
      "Installing collected packages: semantic-version, pennylane-lightning, autoray, pennylane\n",
      "Successfully installed autoray-0.2.5 pennylane-0.18.0 pennylane-lightning-0.18.0 semantic-version-2.6.0\n"
     ]
    }
   ],
   "metadata": {
    "colab": {
     "base_uri": "https://localhost:8080/"
    },
    "id": "xhBtxz2p24iH",
    "outputId": "36a8d295-5bc6-4a97-a2db-4bf615f04281"
   }
  },
  {
   "cell_type": "code",
   "execution_count": 2,
   "source": [
    "#general import\r\n",
    "import numpy as np\r\n",
    "import torch\r\n",
    "from torch.nn.functional import relu\r\n",
    "\r\n",
    "from sklearn.svm import SVC\r\n",
    "from sklearn.datasets import load_iris\r\n",
    "from sklearn.preprocessing import StandardScaler\r\n",
    "from sklearn.model_selection import train_test_split\r\n",
    "from sklearn.metrics import accuracy_score\r\n",
    "\r\n",
    "import pennylane as qml\r\n",
    "from pennylane.templates import AngleEmbedding, StronglyEntanglingLayers\r\n",
    "from pennylane.operation import Tensor\r\n",
    "\r\n",
    "import matplotlib.pyplot as plt\r\n",
    "\r\n",
    "np.random.seed(42)"
   ],
   "outputs": [],
   "metadata": {
    "id": "loO8530k28vW"
   }
  },
  {
   "cell_type": "code",
   "execution_count": 3,
   "source": [
    "X, y = load_iris(return_X_y=True)\r\n",
    "\r\n",
    "# pick inputs and labels from the first two classes only,\r\n",
    "# corresponding to the first 100 samples\r\n",
    "X = X[:100]\r\n",
    "y = y[:100]\r\n",
    "\r\n",
    "# For now a Standard Scaler always applied, if not will be specified\r\n",
    "scaler = StandardScaler().fit(X)\r\n",
    "X_scaled = scaler.transform(X)\r\n",
    "\r\n",
    "# scaling the labels to -1, 1 is important for the SVM and the\r\n",
    "# definition of a hinge loss\r\n",
    "#This will change in some cases, KEEP AN EYE!\r\n",
    "y_scaled = 2 * (y - 0.5)\r\n",
    "\r\n",
    "X_train, X_test, y_train, y_test = train_test_split(X_scaled, y_scaled)"
   ],
   "outputs": [],
   "metadata": {
    "id": "lniLOqRU3DAI"
   }
  },
  {
   "cell_type": "code",
   "execution_count": 4,
   "source": [
    "print('Shape X_train:', X_train.shape)\r\n",
    "print('Shape Y_train', y_train.shape)\r\n",
    "print('Shape X_test:', X_test.shape)\r\n",
    "print('Shape Y_test:', y_test.shape)"
   ],
   "outputs": [
    {
     "output_type": "stream",
     "name": "stdout",
     "text": [
      "Shape X_train: (75, 4)\n",
      "Shape Y_train (75,)\n",
      "Shape X_test: (25, 4)\n",
      "Shape Y_test: (25,)\n"
     ]
    }
   ],
   "metadata": {
    "colab": {
     "base_uri": "https://localhost:8080/"
    },
    "id": "CZXa7KPo3FdZ",
    "outputId": "3ff5bb80-969f-466a-dfbc-cd10c16ba27b"
   }
  },
  {
   "cell_type": "code",
   "execution_count": 5,
   "source": [
    "y_test"
   ],
   "outputs": [
    {
     "output_type": "execute_result",
     "data": {
      "text/plain": [
       "array([ 1.,  1.,  1., -1., -1., -1., -1.,  1., -1., -1., -1., -1.,  1.,\n",
       "       -1.,  1., -1.,  1.,  1., -1., -1.,  1.,  1., -1., -1.,  1.])"
      ]
     },
     "metadata": {},
     "execution_count": 5
    }
   ],
   "metadata": {
    "colab": {
     "base_uri": "https://localhost:8080/"
    },
    "id": "fw11vz4B3HGp",
    "outputId": "5e128f50-2b10-439a-b9fd-bfd8a58de7bd"
   }
  },
  {
   "cell_type": "markdown",
   "source": [
    "# Model 4: Amplitude Encoding and desperate trials to improve the basic"
   ],
   "metadata": {
    "id": "oxLDUR553NCt"
   }
  },
  {
   "cell_type": "markdown",
   "source": [
    "Let's propose again the Amplitude embedding. 2 qubits should be a much better execution cost, but let's see the final accuracy!"
   ],
   "metadata": {
    "id": "N6gLefAX6Zm7"
   }
  },
  {
   "cell_type": "code",
   "execution_count": 16,
   "source": [
    "from pennylane.templates import AmplitudeEmbedding, BasisEmbedding, DisplacementEmbedding"
   ],
   "outputs": [],
   "metadata": {
    "id": "F3peEcoI6n7h"
   }
  },
  {
   "cell_type": "code",
   "execution_count": 17,
   "source": [
    "n_qubits = 2\r\n",
    "dev_var = qml.device(\"default.qubit\", wires=n_qubits)\r\n",
    "\r\n",
    "@qml.qnode(dev_var, interface=\"torch\", diff_method=\"parameter-shift\")\r\n",
    "def quantum_model(x, params):\r\n",
    "    \"\"\"A variational quantum model.\"\"\"\r\n",
    "\r\n",
    "    # embedding\r\n",
    "    AmplitudeEmbedding(x, wires=range(n_qubits), normalize = True)\r\n",
    "\r\n",
    "    # trainable measurement\r\n",
    "    StronglyEntanglingLayers(params, wires=range(n_qubits))\r\n",
    "    return qml.expval(qml.PauliZ(0))\r\n",
    "\r\n",
    "def quantum_model_plus_bias(x, params, bias):\r\n",
    "    \"\"\"Adding a bias.\"\"\"\r\n",
    "    return quantum_model(x, params) + bias\r\n",
    "\r\n",
    "def hinge_loss(predictions, targets):\r\n",
    "    \"\"\"Implements the hinge loss.\"\"\"\r\n",
    "    all_ones = torch.ones_like(targets)\r\n",
    "    hinge_loss = all_ones - predictions * targets\r\n",
    "    # trick: since the max(0,x) function is not differentiable,\r\n",
    "    # use the mathematically equivalent relu instead\r\n",
    "    hinge_loss = relu(hinge_loss)\r\n",
    "    return hinge_loss"
   ],
   "outputs": [],
   "metadata": {
    "id": "EdKg_lth4-2f"
   }
  },
  {
   "cell_type": "code",
   "execution_count": 18,
   "source": [
    "def quantum_model_train(n_layers, steps, batch_size):\r\n",
    "    \"\"\"Train the quantum model defined above.\"\"\"\r\n",
    "\r\n",
    "    params = np.random.random((n_layers, n_qubits, 3))\r\n",
    "    params_torch = torch.tensor(params, requires_grad=True)\r\n",
    "    bias_torch = torch.tensor(0.0)\r\n",
    "\r\n",
    "    opt = torch.optim.Adam([params_torch, bias_torch], lr=0.1)\r\n",
    "\r\n",
    "    loss_history = []\r\n",
    "    for i in range(steps):\r\n",
    "\r\n",
    "        batch_ids = np.random.choice(len(X_train), batch_size)\r\n",
    "\r\n",
    "        X_batch = X_train[batch_ids]\r\n",
    "        y_batch = y_train[batch_ids]\r\n",
    "\r\n",
    "        X_batch_torch = torch.tensor(X_batch, requires_grad=False)\r\n",
    "        y_batch_torch = torch.tensor(y_batch, requires_grad=False)\r\n",
    "\r\n",
    "        def closure():\r\n",
    "            opt.zero_grad()\r\n",
    "            preds = torch.stack(\r\n",
    "                [quantum_model_plus_bias(x, params_torch, bias_torch) for x in X_batch_torch]\r\n",
    "            )\r\n",
    "            loss = torch.mean(hinge_loss(preds, y_batch_torch))\r\n",
    "\r\n",
    "            # bookkeeping\r\n",
    "            current_loss = loss.detach().numpy().item()\r\n",
    "            loss_history.append(current_loss)\r\n",
    "            if i % 10 == 0:\r\n",
    "                print(\"step\", i, \", loss\", current_loss)\r\n",
    "\r\n",
    "            loss.backward()\r\n",
    "            return loss\r\n",
    "\r\n",
    "        opt.step(closure)\r\n",
    "\r\n",
    "    return params_torch, bias_torch, loss_history\r\n",
    "\r\n",
    "\r\n",
    "def quantum_model_predict(X_pred, trained_params, trained_bias):\r\n",
    "    \"\"\"Predict using the quantum model defined above.\"\"\"\r\n",
    "\r\n",
    "    p = []\r\n",
    "    for x in X_pred:\r\n",
    "\r\n",
    "        x_torch = torch.tensor(x)\r\n",
    "        pred_torch = quantum_model_plus_bias(x_torch, trained_params, trained_bias)\r\n",
    "        pred = pred_torch.detach().numpy().item()\r\n",
    "        if pred > 0:\r\n",
    "            pred = 1\r\n",
    "        else:\r\n",
    "            pred = -1\r\n",
    "\r\n",
    "        p.append(pred)\r\n",
    "    return p"
   ],
   "outputs": [],
   "metadata": {
    "id": "PvXJc4fH5A_E"
   }
  },
  {
   "cell_type": "code",
   "execution_count": 12,
   "source": [
    "n_layers = 2\r\n",
    "batch_size = 20\r\n",
    "steps = 100\r\n",
    "trained_params, trained_bias, loss_history = quantum_model_train(n_layers, steps, batch_size)\r\n",
    "\r\n",
    "pred_test = quantum_model_predict(X_test, trained_params, trained_bias)\r\n",
    "print(\"accuracy on test set:\", accuracy_score(pred_test, y_test))\r\n",
    "\r\n",
    "plt.plot(loss_history)\r\n",
    "plt.ylim((0, 1))\r\n",
    "plt.xlabel(\"steps\")\r\n",
    "plt.ylabel(\"cost\")\r\n",
    "plt.show()"
   ],
   "outputs": [
    {
     "output_type": "stream",
     "name": "stdout",
     "text": [
      "step 0 , loss 0.9000715881154738\n",
      "step 10 , loss 0.9720120846965464\n",
      "step 20 , loss 0.9141499044229171\n",
      "step 30 , loss 0.9200706683637566\n",
      "step 40 , loss 1.0822483491759538\n",
      "step 50 , loss 1.031378465640286\n",
      "step 60 , loss 1.0553209809196922\n",
      "step 70 , loss 0.8631176512813333\n",
      "step 80 , loss 1.1339472616986035\n",
      "step 90 , loss 1.0298319588280758\n",
      "accuracy on test set: 0.56\n"
     ]
    },
    {
     "output_type": "display_data",
     "data": {
      "image/png": "[encoded data removed]",
      "text/plain": [
       "<Figure size 432x288 with 1 Axes>"
      ]
     },
     "metadata": {
      "needs_background": "light"
     }
    }
   ],
   "metadata": {
    "colab": {
     "base_uri": "https://localhost:8080/",
     "height": 470
    },
    "id": "zyrlMKsP5HTG",
    "outputId": "f779aa1e-6ac5-4b64-ac36-29b34e575996"
   }
  },
  {
   "cell_type": "markdown",
   "source": [
    "The iterations are way more than the kernel method!"
   ],
   "metadata": {
    "id": "1PmlavdQ5TKj"
   }
  },
  {
   "cell_type": "code",
   "execution_count": 13,
   "source": [
    "dev_var.num_executions"
   ],
   "outputs": [
    {
     "output_type": "execute_result",
     "data": {
      "text/plain": [
       "50025"
      ]
     },
     "metadata": {},
     "execution_count": 13
    }
   ],
   "metadata": {
    "colab": {
     "base_uri": "https://localhost:8080/"
    },
    "id": "EbMgbPif5TdF",
    "outputId": "80c84466-cdb6-4f76-fc54-6a39a358680a"
   }
  },
  {
   "cell_type": "markdown",
   "source": [
    "maybe is a matter of number of layers... let's try"
   ],
   "metadata": {
    "id": "CItUehQt6uyl"
   }
  },
  {
   "cell_type": "code",
   "execution_count": 19,
   "source": [
    "#BEFORE RUNNING THIS CELL YOU HAVE TO REDECLARE THE MODEL IN THE CELLS ABOVE OR IT WILL BE A MESS\r\n",
    "n_layers = 4\r\n",
    "batch_size = 20\r\n",
    "steps = 100\r\n",
    "trained_params, trained_bias, loss_history = quantum_model_train(n_layers, steps, batch_size)\r\n",
    "\r\n",
    "pred_test = quantum_model_predict(X_test, trained_params, trained_bias)\r\n",
    "print(\"accuracy on test set:\", accuracy_score(pred_test, y_test))\r\n",
    "\r\n",
    "plt.plot(loss_history)\r\n",
    "plt.ylim((0, 1))\r\n",
    "plt.xlabel(\"steps\")\r\n",
    "plt.ylabel(\"cost\")\r\n",
    "plt.show()"
   ],
   "outputs": [
    {
     "output_type": "stream",
     "name": "stdout",
     "text": [
      "step 0 , loss 0.8420291987076203\n",
      "step 10 , loss 0.8452588679238524\n",
      "step 20 , loss 0.9134622729039134\n",
      "step 30 , loss 1.1888325464312754\n",
      "step 40 , loss 1.0232441963311691\n",
      "step 50 , loss 0.8220454499473437\n",
      "step 60 , loss 0.8452221994629541\n",
      "step 70 , loss 0.8492819097375444\n",
      "step 80 , loss 0.940207116636628\n",
      "step 90 , loss 0.9777765697684421\n",
      "accuracy on test set: 0.56\n"
     ]
    },
    {
     "output_type": "display_data",
     "data": {
      "image/png": "[encoded data removed]",
      "text/plain": [
       "<Figure size 432x288 with 1 Axes>"
      ]
     },
     "metadata": {
      "needs_background": "light"
     }
    }
   ],
   "metadata": {
    "colab": {
     "base_uri": "https://localhost:8080/",
     "height": 470
    },
    "id": "4sC9PLzl6vVZ",
    "outputId": "5a124640-77fd-4237-b4ff-2bcbb480b615"
   }
  },
  {
   "cell_type": "code",
   "execution_count": 20,
   "source": [
    "dev_var.num_executions"
   ],
   "outputs": [
    {
     "output_type": "execute_result",
     "data": {
      "text/plain": [
       "98025"
      ]
     },
     "metadata": {},
     "execution_count": 20
    }
   ],
   "metadata": {
    "colab": {
     "base_uri": "https://localhost:8080/"
    },
    "id": "E25sDEWj6zFL",
    "outputId": "779dc730-372c-4911-d2a5-9d35246cfda7"
   }
  },
  {
   "cell_type": "markdown",
   "source": [
    "Those are too many evaluations on the quantum device! It seems that the encoding actually does a difference!!!"
   ],
   "metadata": {
    "id": "NI5OgOcs61iR"
   }
  }
 ],
 "metadata": {
  "colab": {
   "collapsed_sections": [],
   "name": "Iris_VQAamplitudeipynb",
   "provenance": []
  },
  "kernelspec": {
   "display_name": "Python 3",
   "language": "python",
   "name": "python3"
  },
  "language_info": {
   "codemirror_mode": {
    "name": "ipython",
    "version": 3
   },
   "file_extension": ".py",
   "mimetype": "text/x-python",
   "name": "python",
   "nbconvert_exporter": "python",
   "pygments_lexer": "ipython3",
   "version": "3.8.5"
  }
 },
 "nbformat": 4,
 "nbformat_minor": 1
}