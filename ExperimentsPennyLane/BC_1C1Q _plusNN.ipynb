{
 "cells": [
  {
   "cell_type": "code",
   "execution_count": 1,
   "metadata": {
    "colab": {
     "base_uri": "https://localhost:8080/"
    },
    "id": "xhBtxz2p24iH",
    "outputId": "033592b1-549b-4787-f7fa-ff7247155423"
   },
   "outputs": [
    {
     "name": "stdout",
     "output_type": "stream",
     "text": [
      "Collecting pennylane\n",
      "  Downloading PennyLane-0.18.0-py3-none-any.whl (631 kB)\n",
      "\u001b[?25l\r",
      "\u001b[K     |▌                               | 10 kB 15.9 MB/s eta 0:00:01\r",
      "\u001b[K     |█                               | 20 kB 16.5 MB/s eta 0:00:01\r",
      "\u001b[K     |█▋                              | 30 kB 18.5 MB/s eta 0:00:01\r",
      "\u001b[K     |██                              | 40 kB 20.7 MB/s eta 0:00:01\r",
      "\u001b[K     |██▋                             | 51 kB 23.3 MB/s eta 0:00:01\r",
      "\u001b[K     |███▏                            | 61 kB 25.8 MB/s eta 0:00:01\r",
      "\u001b[K     |███▋                            | 71 kB 27.0 MB/s eta 0:00:01\r",
      "\u001b[K     |████▏                           | 81 kB 28.6 MB/s eta 0:00:01\r",
      "\u001b[K     |████▊                           | 92 kB 28.5 MB/s eta 0:00:01\r",
      "\u001b[K     |█████▏                          | 102 kB 30.1 MB/s eta 0:00:01\r",
      "\u001b[K     |█████▊                          | 112 kB 30.1 MB/s eta 0:00:01\r",
      "\u001b[K     |██████▎                         | 122 kB 30.1 MB/s eta 0:00:01\r",
      "\u001b[K     |██████▊                         | 133 kB 30.1 MB/s eta 0:00:01\r",
      "\u001b[K     |███████▎                        | 143 kB 30.1 MB/s eta 0:00:01\r",
      "\u001b[K     |███████▉                        | 153 kB 30.1 MB/s eta 0:00:01\r",
      "\u001b[K     |████████▎                       | 163 kB 30.1 MB/s eta 0:00:01\r",
      "\u001b[K     |████████▉                       | 174 kB 30.1 MB/s eta 0:00:01\r",
      "\u001b[K     |█████████▍                      | 184 kB 30.1 MB/s eta 0:00:01\r",
      "\u001b[K     |█████████▉                      | 194 kB 30.1 MB/s eta 0:00:01\r",
      "\u001b[K     |██████████▍                     | 204 kB 30.1 MB/s eta 0:00:01\r",
      "\u001b[K     |███████████                     | 215 kB 30.1 MB/s eta 0:00:01\r",
      "\u001b[K     |███████████▍                    | 225 kB 30.1 MB/s eta 0:00:01\r",
      "\u001b[K     |████████████                    | 235 kB 30.1 MB/s eta 0:00:01\r",
      "\u001b[K     |████████████▌                   | 245 kB 30.1 MB/s eta 0:00:01\r",
      "\u001b[K     |█████████████                   | 256 kB 30.1 MB/s eta 0:00:01\r",
      "\u001b[K     |█████████████▌                  | 266 kB 30.1 MB/s eta 0:00:01\r",
      "\u001b[K     |██████████████                  | 276 kB 30.1 MB/s eta 0:00:01\r",
      "\u001b[K     |██████████████▌                 | 286 kB 30.1 MB/s eta 0:00:01\r",
      "\u001b[K     |███████████████                 | 296 kB 30.1 MB/s eta 0:00:01\r",
      "\u001b[K     |███████████████▋                | 307 kB 30.1 MB/s eta 0:00:01\r",
      "\u001b[K     |████████████████                | 317 kB 30.1 MB/s eta 0:00:01\r",
      "\u001b[K     |████████████████▋               | 327 kB 30.1 MB/s eta 0:00:01\r",
      "\u001b[K     |█████████████████▏              | 337 kB 30.1 MB/s eta 0:00:01\r",
      "\u001b[K     |█████████████████▋              | 348 kB 30.1 MB/s eta 0:00:01\r",
      "\u001b[K     |██████████████████▏             | 358 kB 30.1 MB/s eta 0:00:01\r",
      "\u001b[K     |██████████████████▊             | 368 kB 30.1 MB/s eta 0:00:01\r",
      "\u001b[K     |███████████████████▏            | 378 kB 30.1 MB/s eta 0:00:01\r",
      "\u001b[K     |███████████████████▊            | 389 kB 30.1 MB/s eta 0:00:01\r",
      "\u001b[K     |████████████████████▎           | 399 kB 30.1 MB/s eta 0:00:01\r",
      "\u001b[K     |████████████████████▊           | 409 kB 30.1 MB/s eta 0:00:01\r",
      "\u001b[K     |█████████████████████▎          | 419 kB 30.1 MB/s eta 0:00:01\r",
      "\u001b[K     |█████████████████████▉          | 430 kB 30.1 MB/s eta 0:00:01\r",
      "\u001b[K     |██████████████████████▎         | 440 kB 30.1 MB/s eta 0:00:01\r",
      "\u001b[K     |██████████████████████▉         | 450 kB 30.1 MB/s eta 0:00:01\r",
      "\u001b[K     |███████████████████████▍        | 460 kB 30.1 MB/s eta 0:00:01\r",
      "\u001b[K     |███████████████████████▉        | 471 kB 30.1 MB/s eta 0:00:01\r",
      "\u001b[K     |████████████████████████▍       | 481 kB 30.1 MB/s eta 0:00:01\r",
      "\u001b[K     |█████████████████████████       | 491 kB 30.1 MB/s eta 0:00:01\r",
      "\u001b[K     |█████████████████████████▍      | 501 kB 30.1 MB/s eta 0:00:01\r",
      "\u001b[K     |██████████████████████████      | 512 kB 30.1 MB/s eta 0:00:01\r",
      "\u001b[K     |██████████████████████████▌     | 522 kB 30.1 MB/s eta 0:00:01\r",
      "\u001b[K     |███████████████████████████     | 532 kB 30.1 MB/s eta 0:00:01\r",
      "\u001b[K     |███████████████████████████▌    | 542 kB 30.1 MB/s eta 0:00:01\r",
      "\u001b[K     |████████████████████████████    | 552 kB 30.1 MB/s eta 0:00:01\r",
      "\u001b[K     |████████████████████████████▌   | 563 kB 30.1 MB/s eta 0:00:01\r",
      "\u001b[K     |█████████████████████████████   | 573 kB 30.1 MB/s eta 0:00:01\r",
      "\u001b[K     |█████████████████████████████▋  | 583 kB 30.1 MB/s eta 0:00:01\r",
      "\u001b[K     |██████████████████████████████  | 593 kB 30.1 MB/s eta 0:00:01\r",
      "\u001b[K     |██████████████████████████████▋ | 604 kB 30.1 MB/s eta 0:00:01\r",
      "\u001b[K     |███████████████████████████████▏| 614 kB 30.1 MB/s eta 0:00:01\r",
      "\u001b[K     |███████████████████████████████▋| 624 kB 30.1 MB/s eta 0:00:01\r",
      "\u001b[K     |████████████████████████████████| 631 kB 30.1 MB/s \n",
      "\u001b[?25hRequirement already satisfied: autograd in /usr/local/lib/python3.7/dist-packages (from pennylane) (1.3)\n",
      "Requirement already satisfied: networkx in /usr/local/lib/python3.7/dist-packages (from pennylane) (2.6.3)\n",
      "Requirement already satisfied: cachetools in /usr/local/lib/python3.7/dist-packages (from pennylane) (4.2.4)\n",
      "Collecting pennylane-lightning>=0.18\n",
      "  Downloading PennyLane_Lightning-0.18.0-cp37-cp37m-manylinux2010_x86_64.whl (4.4 MB)\n",
      "\u001b[K     |████████████████████████████████| 4.4 MB 40.2 MB/s \n",
      "\u001b[?25hCollecting autoray\n",
      "  Downloading autoray-0.2.5-py3-none-any.whl (16 kB)\n",
      "Requirement already satisfied: scipy in /usr/local/lib/python3.7/dist-packages (from pennylane) (1.4.1)\n",
      "Collecting semantic-version==2.6\n",
      "  Downloading semantic_version-2.6.0-py3-none-any.whl (14 kB)\n",
      "Requirement already satisfied: appdirs in /usr/local/lib/python3.7/dist-packages (from pennylane) (1.4.4)\n",
      "Requirement already satisfied: toml in /usr/local/lib/python3.7/dist-packages (from pennylane) (0.10.2)\n",
      "Requirement already satisfied: numpy in /usr/local/lib/python3.7/dist-packages (from pennylane) (1.19.5)\n",
      "Requirement already satisfied: future>=0.15.2 in /usr/local/lib/python3.7/dist-packages (from autograd->pennylane) (0.16.0)\n",
      "Installing collected packages: semantic-version, pennylane-lightning, autoray, pennylane\n",
      "Successfully installed autoray-0.2.5 pennylane-0.18.0 pennylane-lightning-0.18.0 semantic-version-2.6.0\n"
     ]
    }
   ],
   "source": [
    "pip install pennylane --upgrade"
   ]
  },
  {
   "cell_type": "code",
   "execution_count": 2,
   "metadata": {
    "id": "loO8530k28vW"
   },
   "outputs": [],
   "source": [
    "#general import\n",
    "import numpy as np\n",
    "import torch\n",
    "from torch.nn.functional import relu\n",
    "\n",
    "from sklearn.svm import SVC\n",
    "from sklearn.datasets import load_iris\n",
    "from sklearn.preprocessing import StandardScaler\n",
    "from sklearn.model_selection import train_test_split\n",
    "from sklearn.metrics import accuracy_score\n",
    "\n",
    "import pennylane as qml\n",
    "from pennylane.templates import AngleEmbedding, StronglyEntanglingLayers\n",
    "from pennylane.operation import Tensor\n",
    "\n",
    "import matplotlib.pyplot as plt\n",
    "\n",
    "np.random.seed(42)"
   ]
  },
  {
   "cell_type": "code",
   "execution_count": 3,
   "metadata": {
    "id": "msrS-oCsZKLQ"
   },
   "outputs": [],
   "source": [
    "from sklearn.datasets import load_breast_cancer\n",
    "X, y = load_breast_cancer(return_X_y=True)\n",
    "\n",
    "# scaling the inputs \n",
    "scaler = StandardScaler().fit(X)\n",
    "X_scaled = scaler.transform(X)\n",
    "\n",
    "y_scaled = y \n",
    "\n",
    "X_train, X_test, y_train, y_test = train_test_split(X_scaled, y_scaled, test_size=0.3,random_state=109)"
   ]
  },
  {
   "cell_type": "code",
   "execution_count": 4,
   "metadata": {
    "colab": {
     "base_uri": "https://localhost:8080/"
    },
    "id": "aVbuMHPSZQcK",
    "outputId": "12edd450-7c9b-4e24-f064-03ae35a98c16"
   },
   "outputs": [
    {
     "name": "stdout",
     "output_type": "stream",
     "text": [
      "Shape X_train: (398, 30)\n",
      "Shape Y_train (398,)\n",
      "Shape X_test: (171, 30)\n",
      "Shape Y_test: (171,)\n"
     ]
    }
   ],
   "source": [
    "print('Shape X_train:', X_train.shape)\n",
    "print('Shape Y_train', y_train.shape)\n",
    "print('Shape X_test:', X_test.shape)\n",
    "print('Shape Y_test:', y_test.shape)"
   ]
  },
  {
   "cell_type": "markdown",
   "metadata": {
    "id": "sz3vNzY5ZUCw"
   },
   "source": [
    "# Hybrid: 1 Classical + 1 Quantum layer"
   ]
  },
  {
   "cell_type": "code",
   "execution_count": null,
   "metadata": {
    "id": "MQEENS6JfIDQ"
   },
   "outputs": [],
   "source": [
    "n_qubits = 5\n",
    "dev = qml.device(\"default.qubit\", wires=n_qubits)\n",
    "\n",
    "@qml.qnode(dev)\n",
    "def qnode(inputs, weights):\n",
    "    qml.templates.QAOAEmbedding(inputs, wires=range(n_qubits), weights = weights)\n",
    "    return [qml.expval(qml.PauliZ(0)), qml.expval(qml.PauliZ(4))]"
   ]
  },
  {
   "cell_type": "code",
   "execution_count": null,
   "metadata": {
    "id": "SSIcr-rmfSBV"
   },
   "outputs": [],
   "source": [
    "n_layers = 2\n",
    "weight_shapes = {\"weights\": (n_layers, 2*n_qubits)}\n",
    "qlayer = qml.qnn.TorchLayer(qnode, weight_shapes)\n",
    "clayer_1 = torch.nn.Linear(30,5)   \n",
    "softmax = torch.nn.Softmax(dim=1)\n",
    "layers = [clayer_1, qlayer, softmax]\n",
    "model = torch.nn.Sequential(*layers)\n",
    "\n",
    "opt = torch.optim.SGD(model.parameters(), lr=0.1) \n",
    "loss = torch.nn.L1Loss()"
   ]
  },
  {
   "cell_type": "code",
   "execution_count": null,
   "metadata": {
    "colab": {
     "base_uri": "https://localhost:8080/"
    },
    "id": "zSJf-8rLfUBG",
    "outputId": "3dac4e2c-d7b7-4edd-cd1f-4df3f776fe3a"
   },
   "outputs": [
    {
     "name": "stderr",
     "output_type": "stream",
     "text": [
      "/usr/local/lib/python3.7/dist-packages/torch/autograd/__init__.py:149: UserWarning: Casting complex values to real discards the imaginary part (Triggered internally at  /pytorch/aten/src/ATen/native/Copy.cpp:240.)\n",
      "  allow_unreachable=True, accumulate_grad=True)  # allow_unreachable flag\n"
     ]
    },
    {
     "name": "stdout",
     "output_type": "stream",
     "text": [
      "Average loss over epoch 1: 0.4356\n",
      "Accuracy: 94.73684210526315%\n",
      "Average loss over epoch 2: 0.3034\n",
      "Accuracy: 98.24561403508771%\n",
      "Average loss over epoch 3: 0.2456\n",
      "Accuracy: 97.6608187134503%\n",
      "Average loss over epoch 4: 0.2206\n",
      "Accuracy: 98.24561403508771%\n",
      "Average loss over epoch 5: 0.2083\n",
      "Accuracy: 98.24561403508771%\n",
      "Average loss over epoch 6: 0.2018\n",
      "Accuracy: 98.24561403508771%\n",
      "Average loss over epoch 7: 0.1988\n",
      "Accuracy: 98.24561403508771%\n",
      "Average loss over epoch 8: 0.1933\n",
      "Accuracy: 98.24561403508771%\n",
      "Average loss over epoch 9: 0.1911\n",
      "Accuracy: 98.83040935672514%\n",
      "Average loss over epoch 10: 0.1915\n",
      "Accuracy: 98.24561403508771%\n",
      "Average loss over epoch 11: 0.1903\n",
      "Accuracy: 98.83040935672514%\n",
      "Average loss over epoch 12: 0.1866\n",
      "Accuracy: 98.83040935672514%\n",
      "Average loss over epoch 13: 0.1856\n",
      "Accuracy: 98.24561403508771%\n",
      "Average loss over epoch 14: 0.1875\n",
      "Accuracy: 98.24561403508771%\n",
      "Average loss over epoch 15: 0.1857\n",
      "Accuracy: 98.83040935672514%\n",
      "Average loss over epoch 16: 0.1846\n",
      "Accuracy: 98.83040935672514%\n",
      "Average loss over epoch 17: 0.1828\n",
      "Accuracy: 98.83040935672514%\n",
      "Average loss over epoch 18: 0.1833\n",
      "Accuracy: 98.83040935672514%\n",
      "Average loss over epoch 19: 0.1832\n",
      "Accuracy: 98.24561403508771%\n",
      "Average loss over epoch 20: 0.1804\n",
      "Accuracy: 98.24561403508771%\n"
     ]
    }
   ],
   "source": [
    "def Check_acc(X_test, y_test):   \n",
    "  X_t = torch.tensor(X_test, requires_grad=True).float()\n",
    "  y_pred = model(X_t)\n",
    "  predictions = torch.argmax(y_pred, axis=1).detach().numpy()\n",
    "  #print(predictions)\n",
    "  correct = [1 if p == p_true else 0 for p, p_true in zip(predictions, y_test)]\n",
    "  accuracy = sum(correct) / len(correct)\n",
    "  print(f\"Accuracy: {accuracy * 100}%\")\n",
    "  return accuracy\n",
    "\n",
    "X = torch.tensor(X_train, requires_grad=True).float()\n",
    "\n",
    "batch_size = 5\n",
    "batches = 398 // batch_size\n",
    "\n",
    "data_loader = torch.utils.data.DataLoader(\n",
    "    list(zip(X, y_train)), batch_size=5, shuffle=True, drop_last=True\n",
    ")\n",
    "\n",
    "epochs = 20\n",
    "loss_vec = []\n",
    "acc_vec = []\n",
    "for epoch in range(epochs):\n",
    "\n",
    "    running_loss = 0\n",
    "\n",
    "    for xs, ys in data_loader:\n",
    "        opt.zero_grad()\n",
    "        #print(xs)\n",
    "        #print(model(xs))\n",
    "        loss_evaluated = loss(model(xs)[:, 1], ys)\n",
    "        loss_evaluated.backward()\n",
    "        \n",
    "        opt.step()\n",
    "        \n",
    "        running_loss += loss_evaluated\n",
    "\n",
    "    avg_loss = running_loss / batches\n",
    "    print(\"Average loss over epoch {}: {:.4f}\".format(epoch + 1, avg_loss))\n",
    "    acc_vec.append(Check_acc(X_test, y_test))\n",
    "    loss_vec.append(avg_loss)"
   ]
  },
  {
   "cell_type": "code",
   "execution_count": null,
   "metadata": {
    "colab": {
     "base_uri": "https://localhost:8080/",
     "height": 295
    },
    "id": "NmYhuFY4fYq6",
    "outputId": "a6661a14-a14f-4727-cac2-795f460bd2c6"
   },
   "outputs": [
    {
     "data": {
      "image/png": "[encoded data removed]",
      "text/plain": [
       "<Figure size 432x288 with 1 Axes>"
      ]
     },
     "metadata": {
      "needs_background": "light"
     },
     "output_type": "display_data"
    }
   ],
   "source": [
    "plt.plot(range(20), loss_vec)\n",
    "plt.plot(range(20), acc_vec, 'red')\n",
    "plt.ylim((0, 1))\n",
    "plt.xlabel(\"steps\")\n",
    "plt.ylabel(\"cost\")\n",
    "plt.title('Loss plot')\n",
    "plt.show()"
   ]
  },
  {
   "cell_type": "markdown",
   "metadata": {
    "id": "TAZgQKKkgRUV"
   },
   "source": [
    "At the end it gives the right accuracy as the classical but it takes much more! Yes we have now parametrized weights but is not at all a great result! It is to note that here at least, with just 1 layers NN the following does not reach more than 80% accuracy. So this model is at least better than with only the classical part."
   ]
  },
  {
   "cell_type": "markdown",
   "metadata": {
    "id": "REwcIdS46uqT"
   },
   "source": [
    "# Take out the quantum and check the performance"
   ]
  },
  {
   "cell_type": "code",
   "execution_count": 11,
   "metadata": {
    "id": "63KvOO9W5_B4"
   },
   "outputs": [],
   "source": [
    "n_layers = 2\n",
    "clayer_1 = torch.nn.Linear(30,5)   \n",
    "softmax = torch.nn.Softmax(dim=1)\n",
    "layers = [clayer_1, softmax]\n",
    "model = torch.nn.Sequential(*layers)\n",
    "\n",
    "opt = torch.optim.SGD(model.parameters(), lr=0.1) \n",
    "loss = torch.nn.L1Loss()"
   ]
  },
  {
   "cell_type": "code",
   "execution_count": 12,
   "metadata": {
    "colab": {
     "base_uri": "https://localhost:8080/"
    },
    "id": "vKtl64Kh6BY0",
    "outputId": "e13afb08-7e74-48ca-e6d0-7040f1801a63"
   },
   "outputs": [
    {
     "name": "stdout",
     "output_type": "stream",
     "text": [
      "Average loss over epoch 1: 0.2112\n",
      "Accuracy: 73.68421052631578%\n",
      "Average loss over epoch 2: 0.1033\n",
      "Accuracy: 76.0233918128655%\n",
      "Average loss over epoch 3: 0.0826\n",
      "Accuracy: 77.77777777777779%\n",
      "Average loss over epoch 4: 0.0699\n",
      "Accuracy: 78.3625730994152%\n",
      "Average loss over epoch 5: 0.0602\n",
      "Accuracy: 79.53216374269006%\n",
      "Average loss over epoch 6: 0.0554\n",
      "Accuracy: 80.11695906432749%\n",
      "Average loss over epoch 7: 0.0517\n",
      "Accuracy: 80.11695906432749%\n",
      "Average loss over epoch 8: 0.0485\n",
      "Accuracy: 80.11695906432749%\n",
      "Average loss over epoch 9: 0.0449\n",
      "Accuracy: 80.11695906432749%\n",
      "Average loss over epoch 10: 0.0449\n",
      "Accuracy: 80.11695906432749%\n",
      "Average loss over epoch 11: 0.0432\n",
      "Accuracy: 80.7017543859649%\n",
      "Average loss over epoch 12: 0.0418\n",
      "Accuracy: 80.7017543859649%\n",
      "Average loss over epoch 13: 0.0404\n",
      "Accuracy: 80.7017543859649%\n",
      "Average loss over epoch 14: 0.0395\n",
      "Accuracy: 80.7017543859649%\n",
      "Average loss over epoch 15: 0.0385\n",
      "Accuracy: 80.7017543859649%\n",
      "Average loss over epoch 16: 0.0375\n",
      "Accuracy: 81.28654970760235%\n",
      "Average loss over epoch 17: 0.0368\n",
      "Accuracy: 81.28654970760235%\n",
      "Average loss over epoch 18: 0.0361\n",
      "Accuracy: 81.28654970760235%\n",
      "Average loss over epoch 19: 0.0354\n",
      "Accuracy: 80.7017543859649%\n",
      "Average loss over epoch 20: 0.0346\n",
      "Accuracy: 80.7017543859649%\n",
      "Average loss over epoch 21: 0.0327\n",
      "Accuracy: 80.7017543859649%\n",
      "Average loss over epoch 22: 0.0336\n",
      "Accuracy: 80.7017543859649%\n",
      "Average loss over epoch 23: 0.0330\n",
      "Accuracy: 80.7017543859649%\n",
      "Average loss over epoch 24: 0.0312\n",
      "Accuracy: 80.7017543859649%\n",
      "Average loss over epoch 25: 0.0322\n",
      "Accuracy: 80.7017543859649%\n",
      "Average loss over epoch 26: 0.0317\n",
      "Accuracy: 80.7017543859649%\n",
      "Average loss over epoch 27: 0.0313\n",
      "Accuracy: 81.28654970760235%\n",
      "Average loss over epoch 28: 0.0310\n",
      "Accuracy: 81.28654970760235%\n",
      "Average loss over epoch 29: 0.0306\n",
      "Accuracy: 81.28654970760235%\n",
      "Average loss over epoch 30: 0.0300\n",
      "Accuracy: 81.28654970760235%\n",
      "Average loss over epoch 31: 0.0295\n",
      "Accuracy: 81.28654970760235%\n",
      "Average loss over epoch 32: 0.0296\n",
      "Accuracy: 81.28654970760235%\n",
      "Average loss over epoch 33: 0.0293\n",
      "Accuracy: 81.28654970760235%\n",
      "Average loss over epoch 34: 0.0290\n",
      "Accuracy: 81.28654970760235%\n",
      "Average loss over epoch 35: 0.0285\n",
      "Accuracy: 81.28654970760235%\n",
      "Average loss over epoch 36: 0.0284\n",
      "Accuracy: 80.7017543859649%\n",
      "Average loss over epoch 37: 0.0282\n",
      "Accuracy: 80.7017543859649%\n",
      "Average loss over epoch 38: 0.0280\n",
      "Accuracy: 80.7017543859649%\n",
      "Average loss over epoch 39: 0.0277\n",
      "Accuracy: 80.7017543859649%\n",
      "Average loss over epoch 40: 0.0275\n",
      "Accuracy: 80.7017543859649%\n"
     ]
    }
   ],
   "source": [
    "def Check_acc(X_test, y_test):   \n",
    "  X_t = torch.tensor(X_test, requires_grad=True).float()\n",
    "  y_pred = model(X_t)\n",
    "  predictions = torch.argmax(y_pred, axis=1).detach().numpy()\n",
    "  #print(predictions)\n",
    "  correct = [1 if p == p_true else 0 for p, p_true in zip(predictions, y_test)]\n",
    "  accuracy = sum(correct) / len(correct)\n",
    "  print(f\"Accuracy: {accuracy * 100}%\")\n",
    "  return accuracy\n",
    "\n",
    "X = torch.tensor(X_train, requires_grad=True).float()\n",
    "\n",
    "batch_size = 5\n",
    "batches = 398 // batch_size\n",
    "\n",
    "data_loader = torch.utils.data.DataLoader(\n",
    "    list(zip(X, y_train)), batch_size=5, shuffle=True, drop_last=True\n",
    ")\n",
    "\n",
    "epochs = 40\n",
    "loss_vec = []\n",
    "acc_vec = []\n",
    "for epoch in range(epochs):\n",
    "\n",
    "    running_loss = 0\n",
    "\n",
    "    for xs, ys in data_loader:\n",
    "        opt.zero_grad()\n",
    "        #print(xs)\n",
    "        #print(model(xs))\n",
    "        loss_evaluated = loss(model(xs)[:, 1], ys)\n",
    "        loss_evaluated.backward()\n",
    "        \n",
    "        opt.step()\n",
    "        \n",
    "        running_loss += loss_evaluated\n",
    "\n",
    "    avg_loss = running_loss / batches\n",
    "    print(\"Average loss over epoch {}: {:.4f}\".format(epoch + 1, avg_loss))\n",
    "    acc_vec.append(Check_acc(X_test, y_test))\n",
    "    loss_vec.append(avg_loss)"
   ]
  },
  {
   "cell_type": "code",
   "execution_count": 14,
   "metadata": {
    "colab": {
     "base_uri": "https://localhost:8080/",
     "height": 295
    },
    "id": "ZGLjrBXZ6FKe",
    "outputId": "c99af6e6-76ec-475c-cb29-9d8379e8b563"
   },
   "outputs": [
    {
     "data": {
      "image/png": "[encoded data removed]",
      "text/plain": [
       "<Figure size 432x288 with 1 Axes>"
      ]
     },
     "metadata": {
      "needs_background": "light"
     },
     "output_type": "display_data"
    }
   ],
   "source": [
    "plt.plot(range(40), loss_vec)\n",
    "plt.plot(range(40), acc_vec, 'red')\n",
    "plt.ylim((0, 1))\n",
    "plt.xlabel(\"steps\")\n",
    "plt.ylabel(\"cost\")\n",
    "plt.title('Loss plot')\n",
    "plt.show()"
   ]
  }
 ],
 "metadata": {
  "colab": {
   "collapsed_sections": [],
   "name": "BC_1C1Q",
   "provenance": []
  },
  "kernelspec": {
   "display_name": "Python 3",
   "language": "python",
   "name": "python3"
  },
  "language_info": {
   "codemirror_mode": {
    "name": "ipython",
    "version": 3
   },
   "file_extension": ".py",
   "mimetype": "text/x-python",
   "name": "python",
   "nbconvert_exporter": "python",
   "pygments_lexer": "ipython3",
   "version": "3.8.5"
  }
 },
 "nbformat": 4,
 "nbformat_minor": 1
}
