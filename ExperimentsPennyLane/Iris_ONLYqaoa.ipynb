{
 "cells": [
  {
   "cell_type": "code",
   "execution_count": 25,
   "metadata": {
    "colab": {
     "base_uri": "https://localhost:8080/"
    },
    "id": "xhBtxz2p24iH",
    "outputId": "093c92bf-f04b-40bc-cea1-bb0047ad1723"
   },
   "outputs": [
    {
     "name": "stdout",
     "output_type": "stream",
     "text": [
      "Requirement already satisfied: pennylane in /usr/local/lib/python3.7/dist-packages (0.18.0)\n",
      "Requirement already satisfied: networkx in /usr/local/lib/python3.7/dist-packages (from pennylane) (2.6.3)\n",
      "Requirement already satisfied: appdirs in /usr/local/lib/python3.7/dist-packages (from pennylane) (1.4.4)\n",
      "Requirement already satisfied: autoray in /usr/local/lib/python3.7/dist-packages (from pennylane) (0.2.5)\n",
      "Requirement already satisfied: cachetools in /usr/local/lib/python3.7/dist-packages (from pennylane) (4.2.2)\n",
      "Requirement already satisfied: scipy in /usr/local/lib/python3.7/dist-packages (from pennylane) (1.4.1)\n",
      "Requirement already satisfied: autograd in /usr/local/lib/python3.7/dist-packages (from pennylane) (1.3)\n",
      "Requirement already satisfied: semantic-version==2.6 in /usr/local/lib/python3.7/dist-packages (from pennylane) (2.6.0)\n",
      "Requirement already satisfied: pennylane-lightning>=0.18 in /usr/local/lib/python3.7/dist-packages (from pennylane) (0.18.0)\n",
      "Requirement already satisfied: numpy in /usr/local/lib/python3.7/dist-packages (from pennylane) (1.19.5)\n",
      "Requirement already satisfied: toml in /usr/local/lib/python3.7/dist-packages (from pennylane) (0.10.2)\n",
      "Requirement already satisfied: future>=0.15.2 in /usr/local/lib/python3.7/dist-packages (from autograd->pennylane) (0.16.0)\n"
     ]
    }
   ],
   "source": [
    "pip install pennylane --upgrade"
   ]
  },
  {
   "cell_type": "code",
   "execution_count": 26,
   "metadata": {
    "id": "loO8530k28vW"
   },
   "outputs": [],
   "source": [
    "#general import\n",
    "import numpy as np\n",
    "import torch\n",
    "from torch.nn.functional import relu\n",
    "\n",
    "from sklearn.svm import SVC\n",
    "from sklearn.datasets import load_iris\n",
    "from sklearn.preprocessing import StandardScaler\n",
    "from sklearn.model_selection import train_test_split\n",
    "from sklearn.metrics import accuracy_score\n",
    "\n",
    "import pennylane as qml\n",
    "from pennylane.templates import AngleEmbedding, StronglyEntanglingLayers\n",
    "from pennylane.operation import Tensor\n",
    "\n",
    "import matplotlib.pyplot as plt\n",
    "\n",
    "np.random.seed(42)"
   ]
  },
  {
   "cell_type": "code",
   "execution_count": 27,
   "metadata": {
    "id": "lniLOqRU3DAI"
   },
   "outputs": [],
   "source": [
    "X, y = load_iris(return_X_y=True)\n",
    "\n",
    "# pick inputs and labels from the first two classes only,\n",
    "# corresponding to the first 100 samples\n",
    "X = X[:100]\n",
    "y = y[:100]\n",
    "\n",
    "# For now a Standard Scaler always applied, if not will be specified\n",
    "scaler = StandardScaler().fit(X)\n",
    "X_scaled = scaler.transform(X)\n",
    "\n",
    "# scaling the labels to -1, 1 is important for the SVM and the\n",
    "# definition of a hinge loss\n",
    "#This will change in some cases, KEEP AN EYE!\n",
    "y_scaled = 2 * (y - 0.5)\n",
    "\n",
    "X_train, X_test, y_train, y_test = train_test_split(X_scaled, y_scaled)"
   ]
  },
  {
   "cell_type": "code",
   "execution_count": 28,
   "metadata": {
    "colab": {
     "base_uri": "https://localhost:8080/"
    },
    "id": "CZXa7KPo3FdZ",
    "outputId": "3f5deb26-a4f8-4d82-ba0d-ed43890843a2"
   },
   "outputs": [
    {
     "name": "stdout",
     "output_type": "stream",
     "text": [
      "Shape X_train: (75, 4)\n",
      "Shape Y_train (75,)\n",
      "Shape X_test: (25, 4)\n",
      "Shape Y_test: (25,)\n"
     ]
    }
   ],
   "source": [
    "print('Shape X_train:', X_train.shape)\n",
    "print('Shape Y_train', y_train.shape)\n",
    "print('Shape X_test:', X_test.shape)\n",
    "print('Shape Y_test:', y_test.shape)"
   ]
  },
  {
   "cell_type": "code",
   "execution_count": 29,
   "metadata": {
    "colab": {
     "base_uri": "https://localhost:8080/"
    },
    "id": "fw11vz4B3HGp",
    "outputId": "b8648e60-16e4-4f42-95b7-3da3a6425bcf"
   },
   "outputs": [
    {
     "data": {
      "text/plain": [
       "array([ 1.,  1.,  1., -1., -1., -1., -1.,  1., -1., -1., -1., -1.,  1.,\n",
       "       -1.,  1., -1.,  1.,  1., -1., -1.,  1.,  1., -1., -1.,  1.])"
      ]
     },
     "execution_count": 29,
     "metadata": {},
     "output_type": "execute_result"
    }
   ],
   "source": [
    "y_test"
   ]
  },
  {
   "cell_type": "markdown",
   "metadata": {
    "id": "oxLDUR553NCt"
   },
   "source": [
    "# Model 6: Leave only the QAOA encoding!"
   ]
  },
  {
   "cell_type": "code",
   "execution_count": 30,
   "metadata": {
    "id": "XUW9HkZ9CqFc"
   },
   "outputs": [],
   "source": [
    "from pennylane.templates import AmplitudeEmbedding, BasisEmbedding, DisplacementEmbedding, QAOAEmbedding\n",
    "n_qubits = 4\n",
    "dev_var = qml.device(\"default.qubit\", wires=n_qubits)\n",
    "#dev_var = qml.device(\"qiskit.aer\", wires=4)\n",
    "\n",
    "@qml.qnode(dev_var, interface=\"torch\", diff_method=\"parameter-shift\")\n",
    "def quantum_model(x, params_):\n",
    "    \"\"\"A variational quantum model.\"\"\"\n",
    "\n",
    "    # trainable embedding\n",
    "    QAOAEmbedding(x, wires=range(n_qubits), weights = params_)\n",
    "    return qml.expval(qml.PauliZ(0))\n",
    "\n",
    "def quantum_model_plus_bias(x, params_, bias):\n",
    "    \"\"\"Adding a bias.\"\"\"\n",
    "    return quantum_model(x, params_) + bias\n",
    "\n",
    "def hinge_loss(predictions, targets):\n",
    "    \"\"\"Implements the hinge loss.\"\"\"\n",
    "    all_ones = torch.ones_like(targets)\n",
    "    hinge_loss = all_ones - predictions * targets\n",
    "    # trick: since the max(0,x) function is not differentiable,\n",
    "    # use the mathematically equivalent relu instead\n",
    "    hinge_loss = relu(hinge_loss)\n",
    "    return hinge_loss"
   ]
  },
  {
   "cell_type": "code",
   "execution_count": 31,
   "metadata": {
    "id": "318XwKhwCvGC"
   },
   "outputs": [],
   "source": [
    "def quantum_model_train(n_layers, steps, batch_size):\n",
    "    \"\"\"Train the quantum model defined above.\"\"\"\n",
    "    params_ = np.random.random((n_layers, 8))\n",
    "    params_torch_ = torch.tensor(params_, requires_grad=True)\n",
    "    bias_torch = torch.tensor(0.0)\n",
    "\n",
    "    opt = torch.optim.Adam([params_torch_, bias_torch], lr=0.1)\n",
    "\n",
    "    loss_history = []\n",
    "    for i in range(steps):\n",
    "\n",
    "        batch_ids = np.random.choice(len(X_train), batch_size)\n",
    "\n",
    "        X_batch = X_train[batch_ids]\n",
    "        y_batch = y_train[batch_ids]\n",
    "\n",
    "        X_batch_torch = torch.tensor(X_batch, requires_grad=False)\n",
    "        y_batch_torch = torch.tensor(y_batch, requires_grad=False)\n",
    "\n",
    "        def closure():\n",
    "            opt.zero_grad()\n",
    "            preds = torch.stack(\n",
    "                [quantum_model_plus_bias(x, params_torch_, bias_torch) for x in X_batch_torch]\n",
    "            )\n",
    "            loss = torch.mean(hinge_loss(preds, y_batch_torch))\n",
    "\n",
    "            # bookkeeping\n",
    "            current_loss = loss.detach().numpy().item()\n",
    "            loss_history.append(current_loss)\n",
    "            if i % 10 == 0:\n",
    "                print(\"step\", i, \", loss\", current_loss)\n",
    "\n",
    "            loss.backward()\n",
    "            return loss\n",
    "\n",
    "        opt.step(closure)\n",
    "\n",
    "    return params_torch_, bias_torch, loss_history\n",
    "\n",
    "\n",
    "def quantum_model_predict(X_pred, trained_params_, trained_bias):\n",
    "    \"\"\"Predict using the quantum model defined above.\"\"\"\n",
    "\n",
    "    p = []\n",
    "    for x in X_pred:\n",
    "\n",
    "        x_torch = torch.tensor(x)\n",
    "        pred_torch = quantum_model_plus_bias(x_torch, trained_params_, trained_bias)\n",
    "        pred = pred_torch.detach().numpy().item()\n",
    "        if pred > 0:\n",
    "            pred = 1\n",
    "        else:\n",
    "            pred = -1\n",
    "\n",
    "        p.append(pred)\n",
    "    return p"
   ]
  },
  {
   "cell_type": "code",
   "execution_count": 22,
   "metadata": {
    "colab": {
     "base_uri": "https://localhost:8080/"
    },
    "id": "xkeovv0ID3ZE",
    "outputId": "e520f7a0-c33b-443b-d257-bece63caf0f2"
   },
   "outputs": [
    {
     "name": "stdout",
     "output_type": "stream",
     "text": [
      " 0: ──RX(0.359)───╭RZ(0.694)──────────────────────────────────────╭RZ(0.464)──RY(0.138)───RX(0.359)───╭RZ(0.948)─────────────────────────────────────╭RZ(0.64)──RY(0.676)───RX(0.359)───╭RZ(0.971)─────────────────────────────────────╭RZ(0.473)──RY(0.984)───RX(0.359)───╭RZ(0.00292)─────────────────────────────────────╭RZ(0.907)──RY(0.239)───RX(0.359)───┤ ⟨Z⟩ \n",
      " 1: ──RX(2.73)────╰RZ(0.694)──╭RZ(0.0822)───RY(0.341)──RX(2.73)───│───────────────────────────────────╰RZ(0.948)──╭RZ(0.445)───RY(0.132)──RX(2.73)───│──────────────────────────────────╰RZ(0.971)──╭RZ(0.263)───RY(0.269)──RX(2.73)───│───────────────────────────────────╰RZ(0.00292)──╭RZ(0.0398)───RY(0.47)───RX(2.73)──│───────────────────────────────────┤     \n",
      " 2: ──RX(-0.944)──────────────╰RZ(0.0822)──╭RZ(0.911)──RY(0.165)──│───────────RX(-0.944)──────────────────────────╰RZ(0.445)──╭RZ(0.789)──RY(0.234)──│──────────RX(-0.944)──────────────────────────╰RZ(0.263)──╭RZ(0.272)──RY(0.407)──│───────────RX(-0.944)────────────────────────────╰RZ(0.0398)──╭RZ(0.604)──RY(0.45)──│───────────RX(-0.944)──────────────┤     \n",
      " 3: ──RX(-0.686)───────────────────────────╰RZ(0.911)─────────────╰RZ(0.464)──RY(0.171)───RX(-0.686)──────────────────────────╰RZ(0.789)─────────────╰RZ(0.64)──RY(0.787)───RX(-0.686)──────────────────────────╰RZ(0.272)─────────────╰RZ(0.473)──RY(0.891)───RX(-0.686)─────────────────────────────╰RZ(0.604)────────────╰RZ(0.907)──RY(0.473)───RX(-0.686)──┤     \n",
      "\n"
     ]
    }
   ],
   "source": [
    "n_layers = 4\n",
    "params_ = np.random.random((n_layers, 8))\n",
    "print(qml.draw(quantum_model)(X_train[0], params_))"
   ]
  },
  {
   "cell_type": "code",
   "execution_count": 23,
   "metadata": {
    "colab": {
     "base_uri": "https://localhost:8080/",
     "height": 555
    },
    "id": "w9_-w3EMCxv4",
    "outputId": "7923ef17-baa1-49f1-b4b3-0e46e685b066"
   },
   "outputs": [
    {
     "name": "stdout",
     "output_type": "stream",
     "text": [
      "step 0 , loss 0.9020264687162569\n",
      "step 10 , loss 0.6392023972524093\n",
      "step 20 , loss 0.35634375426084414\n",
      "step 30 , loss 0.3592396951106571\n",
      "step 40 , loss 0.2976656662520498\n",
      "step 50 , loss 0.4015745616814656\n",
      "step 60 , loss 0.2559613069146199\n",
      "step 70 , loss 0.23285485846207504\n",
      "step 80 , loss 0.24419350245570906\n",
      "step 90 , loss 0.25543215707445316\n",
      "step 100 , loss 0.2047280478500137\n",
      "step 110 , loss 0.19678179661130232\n",
      "step 120 , loss 0.22313439447988032\n",
      "step 130 , loss 0.22875072521654874\n",
      "step 140 , loss 0.24895375591668117\n",
      "accuracy on test set: 1.0\n"
     ]
    },
    {
     "data": {
      "image/png": "[encoded data removed]",
      "text/plain": [
       "<Figure size 432x288 with 1 Axes>"
      ]
     },
     "metadata": {
      "needs_background": "light"
     },
     "output_type": "display_data"
    }
   ],
   "source": [
    "n_layers = 4\n",
    "batch_size = 20\n",
    "steps = 150\n",
    "trained_params_, trained_bias, loss_history = quantum_model_train(n_layers, steps, batch_size)\n",
    "\n",
    "pred_test = quantum_model_predict(X_test, trained_params_, trained_bias)\n",
    "print(\"accuracy on test set:\", accuracy_score(pred_test, y_test))\n",
    "\n",
    "plt.plot(loss_history)\n",
    "plt.ylim((0, 1))\n",
    "plt.xlabel(\"steps\")\n",
    "plt.ylabel(\"cost\")\n",
    "plt.show()"
   ]
  },
  {
   "cell_type": "code",
   "execution_count": 24,
   "metadata": {
    "colab": {
     "base_uri": "https://localhost:8080/"
    },
    "id": "qMGz3CVRC003",
    "outputId": "fa40fb7f-2294-4670-932e-04139f69c640"
   },
   "outputs": [
    {
     "data": {
      "text/plain": [
       "177025"
      ]
     },
     "execution_count": 24,
     "metadata": {},
     "output_type": "execute_result"
    }
   ],
   "source": [
    "dev_var.num_executions"
   ]
  },
  {
   "cell_type": "markdown",
   "metadata": {
    "id": "2lEummINLQyA"
   },
   "source": [
    "try reducing layers.."
   ]
  },
  {
   "cell_type": "code",
   "execution_count": 32,
   "metadata": {
    "colab": {
     "base_uri": "https://localhost:8080/",
     "height": 385
    },
    "id": "ckYKQPSGDl1i",
    "outputId": "7dd4c5ac-b9d3-4a43-f82f-af581ae024ff"
   },
   "outputs": [
    {
     "name": "stdout",
     "output_type": "stream",
     "text": [
      "step 0 , loss 0.8098337014105199\n",
      "step 10 , loss 0.6212351104737754\n",
      "step 20 , loss 0.5322608180072848\n",
      "step 30 , loss 0.28951589706752345\n",
      "step 40 , loss 0.3096024867189561\n",
      "accuracy on test set: 0.88\n"
     ]
    },
    {
     "data": {
      "image/png": "[encoded data removed]",
      "text/plain": [
       "<Figure size 432x288 with 1 Axes>"
      ]
     },
     "metadata": {
      "needs_background": "light"
     },
     "output_type": "display_data"
    }
   ],
   "source": [
    "n_layers = 3\n",
    "batch_size = 20\n",
    "steps = 50\n",
    "trained_params_, trained_bias, loss_history = quantum_model_train(n_layers, steps, batch_size)\n",
    "\n",
    "pred_test = quantum_model_predict(X_test, trained_params_, trained_bias)\n",
    "print(\"accuracy on test set:\", accuracy_score(pred_test, y_test))\n",
    "\n",
    "plt.plot(loss_history)\n",
    "plt.ylim((0, 1))\n",
    "plt.xlabel(\"steps\")\n",
    "plt.ylabel(\"cost\")\n",
    "plt.show()"
   ]
  }
 ],
 "metadata": {
  "colab": {
   "collapsed_sections": [],
   "name": "Iris_ONLYqaoa",
   "provenance": []
  },
  "kernelspec": {
   "display_name": "Python 3",
   "language": "python",
   "name": "python3"
  },
  "language_info": {
   "codemirror_mode": {
    "name": "ipython",
    "version": 3
   },
   "file_extension": ".py",
   "mimetype": "text/x-python",
   "name": "python",
   "nbconvert_exporter": "python",
   "pygments_lexer": "ipython3",
   "version": "3.8.5"
  }
 },
 "nbformat": 4,
 "nbformat_minor": 1
}
