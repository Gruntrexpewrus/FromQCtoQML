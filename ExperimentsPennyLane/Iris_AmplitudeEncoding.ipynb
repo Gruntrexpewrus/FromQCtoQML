{
 "cells": [
  {
   "cell_type": "code",
   "execution_count": 1,
   "metadata": {
    "colab": {
     "base_uri": "https://localhost:8080/"
    },
    "id": "xhBtxz2p24iH",
    "outputId": "8facdc2e-38e5-445b-f2ad-b01dfd093e74"
   },
   "outputs": [
    {
     "name": "stdout",
     "output_type": "stream",
     "text": [
      "Collecting pennylane\n",
      "  Downloading PennyLane-0.18.0-py3-none-any.whl (631 kB)\n",
      "\u001b[?25l\r",
      "\u001b[K     |▌                               | 10 kB 26.8 MB/s eta 0:00:01\r",
      "\u001b[K     |█                               | 20 kB 29.4 MB/s eta 0:00:01\r",
      "\u001b[K     |█▋                              | 30 kB 30.0 MB/s eta 0:00:01\r",
      "\u001b[K     |██                              | 40 kB 31.1 MB/s eta 0:00:01\r",
      "\u001b[K     |██▋                             | 51 kB 32.0 MB/s eta 0:00:01\r",
      "\u001b[K     |███▏                            | 61 kB 34.7 MB/s eta 0:00:01\r",
      "\u001b[K     |███▋                            | 71 kB 35.1 MB/s eta 0:00:01\r",
      "\u001b[K     |████▏                           | 81 kB 35.9 MB/s eta 0:00:01\r",
      "\u001b[K     |████▊                           | 92 kB 36.1 MB/s eta 0:00:01\r",
      "\u001b[K     |█████▏                          | 102 kB 34.2 MB/s eta 0:00:01\r",
      "\u001b[K     |█████▊                          | 112 kB 34.2 MB/s eta 0:00:01\r",
      "\u001b[K     |██████▎                         | 122 kB 34.2 MB/s eta 0:00:01\r",
      "\u001b[K     |██████▊                         | 133 kB 34.2 MB/s eta 0:00:01\r",
      "\u001b[K     |███████▎                        | 143 kB 34.2 MB/s eta 0:00:01\r",
      "\u001b[K     |███████▉                        | 153 kB 34.2 MB/s eta 0:00:01\r",
      "\u001b[K     |████████▎                       | 163 kB 34.2 MB/s eta 0:00:01\r",
      "\u001b[K     |████████▉                       | 174 kB 34.2 MB/s eta 0:00:01\r",
      "\u001b[K     |█████████▍                      | 184 kB 34.2 MB/s eta 0:00:01\r",
      "\u001b[K     |█████████▉                      | 194 kB 34.2 MB/s eta 0:00:01\r",
      "\u001b[K     |██████████▍                     | 204 kB 34.2 MB/s eta 0:00:01\r",
      "\u001b[K     |███████████                     | 215 kB 34.2 MB/s eta 0:00:01\r",
      "\u001b[K     |███████████▍                    | 225 kB 34.2 MB/s eta 0:00:01\r",
      "\u001b[K     |████████████                    | 235 kB 34.2 MB/s eta 0:00:01\r",
      "\u001b[K     |████████████▌                   | 245 kB 34.2 MB/s eta 0:00:01\r",
      "\u001b[K     |█████████████                   | 256 kB 34.2 MB/s eta 0:00:01\r",
      "\u001b[K     |█████████████▌                  | 266 kB 34.2 MB/s eta 0:00:01\r",
      "\u001b[K     |██████████████                  | 276 kB 34.2 MB/s eta 0:00:01\r",
      "\u001b[K     |██████████████▌                 | 286 kB 34.2 MB/s eta 0:00:01\r",
      "\u001b[K     |███████████████                 | 296 kB 34.2 MB/s eta 0:00:01\r",
      "\u001b[K     |███████████████▋                | 307 kB 34.2 MB/s eta 0:00:01\r",
      "\u001b[K     |████████████████                | 317 kB 34.2 MB/s eta 0:00:01\r",
      "\u001b[K     |████████████████▋               | 327 kB 34.2 MB/s eta 0:00:01\r",
      "\u001b[K     |█████████████████▏              | 337 kB 34.2 MB/s eta 0:00:01\r",
      "\u001b[K     |█████████████████▋              | 348 kB 34.2 MB/s eta 0:00:01\r",
      "\u001b[K     |██████████████████▏             | 358 kB 34.2 MB/s eta 0:00:01\r",
      "\u001b[K     |██████████████████▊             | 368 kB 34.2 MB/s eta 0:00:01\r",
      "\u001b[K     |███████████████████▏            | 378 kB 34.2 MB/s eta 0:00:01\r",
      "\u001b[K     |███████████████████▊            | 389 kB 34.2 MB/s eta 0:00:01\r",
      "\u001b[K     |████████████████████▎           | 399 kB 34.2 MB/s eta 0:00:01\r",
      "\u001b[K     |████████████████████▊           | 409 kB 34.2 MB/s eta 0:00:01\r",
      "\u001b[K     |█████████████████████▎          | 419 kB 34.2 MB/s eta 0:00:01\r",
      "\u001b[K     |█████████████████████▉          | 430 kB 34.2 MB/s eta 0:00:01\r",
      "\u001b[K     |██████████████████████▎         | 440 kB 34.2 MB/s eta 0:00:01\r",
      "\u001b[K     |██████████████████████▉         | 450 kB 34.2 MB/s eta 0:00:01\r",
      "\u001b[K     |███████████████████████▍        | 460 kB 34.2 MB/s eta 0:00:01\r",
      "\u001b[K     |███████████████████████▉        | 471 kB 34.2 MB/s eta 0:00:01\r",
      "\u001b[K     |████████████████████████▍       | 481 kB 34.2 MB/s eta 0:00:01\r",
      "\u001b[K     |█████████████████████████       | 491 kB 34.2 MB/s eta 0:00:01\r",
      "\u001b[K     |█████████████████████████▍      | 501 kB 34.2 MB/s eta 0:00:01\r",
      "\u001b[K     |██████████████████████████      | 512 kB 34.2 MB/s eta 0:00:01\r",
      "\u001b[K     |██████████████████████████▌     | 522 kB 34.2 MB/s eta 0:00:01\r",
      "\u001b[K     |███████████████████████████     | 532 kB 34.2 MB/s eta 0:00:01\r",
      "\u001b[K     |███████████████████████████▌    | 542 kB 34.2 MB/s eta 0:00:01\r",
      "\u001b[K     |████████████████████████████    | 552 kB 34.2 MB/s eta 0:00:01\r",
      "\u001b[K     |████████████████████████████▌   | 563 kB 34.2 MB/s eta 0:00:01\r",
      "\u001b[K     |█████████████████████████████   | 573 kB 34.2 MB/s eta 0:00:01\r",
      "\u001b[K     |█████████████████████████████▋  | 583 kB 34.2 MB/s eta 0:00:01\r",
      "\u001b[K     |██████████████████████████████  | 593 kB 34.2 MB/s eta 0:00:01\r",
      "\u001b[K     |██████████████████████████████▋ | 604 kB 34.2 MB/s eta 0:00:01\r",
      "\u001b[K     |███████████████████████████████▏| 614 kB 34.2 MB/s eta 0:00:01\r",
      "\u001b[K     |███████████████████████████████▋| 624 kB 34.2 MB/s eta 0:00:01\r",
      "\u001b[K     |████████████████████████████████| 631 kB 34.2 MB/s \n",
      "\u001b[?25hRequirement already satisfied: scipy in /usr/local/lib/python3.7/dist-packages (from pennylane) (1.4.1)\n",
      "Requirement already satisfied: cachetools in /usr/local/lib/python3.7/dist-packages (from pennylane) (4.2.2)\n",
      "Collecting pennylane-lightning>=0.18\n",
      "  Downloading PennyLane_Lightning-0.18.0-cp37-cp37m-manylinux2010_x86_64.whl (4.4 MB)\n",
      "\u001b[K     |████████████████████████████████| 4.4 MB 37.3 MB/s \n",
      "\u001b[?25hCollecting semantic-version==2.6\n",
      "  Downloading semantic_version-2.6.0-py3-none-any.whl (14 kB)\n",
      "Requirement already satisfied: numpy in /usr/local/lib/python3.7/dist-packages (from pennylane) (1.19.5)\n",
      "Collecting autoray\n",
      "  Downloading autoray-0.2.5-py3-none-any.whl (16 kB)\n",
      "Requirement already satisfied: toml in /usr/local/lib/python3.7/dist-packages (from pennylane) (0.10.2)\n",
      "Requirement already satisfied: appdirs in /usr/local/lib/python3.7/dist-packages (from pennylane) (1.4.4)\n",
      "Requirement already satisfied: networkx in /usr/local/lib/python3.7/dist-packages (from pennylane) (2.6.3)\n",
      "Requirement already satisfied: autograd in /usr/local/lib/python3.7/dist-packages (from pennylane) (1.3)\n",
      "Requirement already satisfied: future>=0.15.2 in /usr/local/lib/python3.7/dist-packages (from autograd->pennylane) (0.16.0)\n",
      "Installing collected packages: semantic-version, pennylane-lightning, autoray, pennylane\n",
      "Successfully installed autoray-0.2.5 pennylane-0.18.0 pennylane-lightning-0.18.0 semantic-version-2.6.0\n"
     ]
    }
   ],
   "source": [
    "pip install pennylane --upgrade"
   ]
  },
  {
   "cell_type": "code",
   "execution_count": 2,
   "metadata": {
    "id": "loO8530k28vW"
   },
   "outputs": [],
   "source": [
    "#general import\n",
    "import numpy as np\n",
    "import torch\n",
    "from torch.nn.functional import relu\n",
    "\n",
    "from sklearn.svm import SVC\n",
    "from sklearn.datasets import load_iris\n",
    "from sklearn.preprocessing import StandardScaler\n",
    "from sklearn.model_selection import train_test_split\n",
    "from sklearn.metrics import accuracy_score\n",
    "\n",
    "import pennylane as qml\n",
    "from pennylane.templates import AngleEmbedding, StronglyEntanglingLayers\n",
    "from pennylane.operation import Tensor\n",
    "\n",
    "import matplotlib.pyplot as plt\n",
    "\n",
    "np.random.seed(42)"
   ]
  },
  {
   "cell_type": "code",
   "execution_count": 3,
   "metadata": {
    "id": "lniLOqRU3DAI"
   },
   "outputs": [],
   "source": [
    "X, y = load_iris(return_X_y=True)\n",
    "\n",
    "# pick inputs and labels from the first two classes only,\n",
    "# corresponding to the first 100 samples\n",
    "X = X[:100]\n",
    "y = y[:100]\n",
    "\n",
    "# For now a Standard Scaler always applied, if not will be specified\n",
    "scaler = StandardScaler().fit(X)\n",
    "X_scaled = scaler.transform(X)\n",
    "\n",
    "# scaling the labels to -1, 1 is important for the SVM and the\n",
    "# definition of a hinge loss\n",
    "#This will change in some cases, KEEP AN EYE!\n",
    "y_scaled = 2 * (y - 0.5)\n",
    "\n",
    "X_train, X_test, y_train, y_test = train_test_split(X_scaled, y_scaled)"
   ]
  },
  {
   "cell_type": "code",
   "execution_count": 4,
   "metadata": {
    "colab": {
     "base_uri": "https://localhost:8080/"
    },
    "id": "CZXa7KPo3FdZ",
    "outputId": "95a863ba-4820-4e9c-fae6-88eda966b773"
   },
   "outputs": [
    {
     "name": "stdout",
     "output_type": "stream",
     "text": [
      "Shape X_train: (75, 4)\n",
      "Shape Y_train (75,)\n",
      "Shape X_test: (25, 4)\n",
      "Shape Y_test: (25,)\n"
     ]
    }
   ],
   "source": [
    "print('Shape X_train:', X_train.shape)\n",
    "print('Shape Y_train', y_train.shape)\n",
    "print('Shape X_test:', X_test.shape)\n",
    "print('Shape Y_test:', y_test.shape)"
   ]
  },
  {
   "cell_type": "code",
   "execution_count": 5,
   "metadata": {
    "colab": {
     "base_uri": "https://localhost:8080/"
    },
    "id": "fw11vz4B3HGp",
    "outputId": "c33a66f3-d685-491f-868e-177e4b524ecc"
   },
   "outputs": [
    {
     "data": {
      "text/plain": [
       "array([ 1.,  1.,  1., -1., -1., -1., -1.,  1., -1., -1., -1., -1.,  1.,\n",
       "       -1.,  1., -1.,  1.,  1., -1., -1.,  1.,  1., -1., -1.,  1.])"
      ]
     },
     "execution_count": 5,
     "metadata": {},
     "output_type": "execute_result"
    }
   ],
   "source": [
    "y_test"
   ]
  },
  {
   "cell_type": "markdown",
   "metadata": {
    "id": "oxLDUR553NCt"
   },
   "source": [
    "# Model 2: Kernel with Amplitude Encoding and 2 Qubits"
   ]
  },
  {
   "cell_type": "code",
   "execution_count": 7,
   "metadata": {
    "id": "KWdivE5Y3Rhm"
   },
   "outputs": [],
   "source": [
    "from pennylane.templates import AmplitudeEmbedding, BasisEmbedding, DisplacementEmbedding\n",
    "\n",
    "n_qubits = 2\n",
    "dev_kernel = qml.device(\"default.qubit\", wires=n_qubits)\n",
    "\n",
    "projector = np.zeros((2**n_qubits, 2**n_qubits))\n",
    "projector[0, 0] = 1\n",
    "\n",
    "@qml.qnode(dev_kernel)\n",
    "def kernel(x1, x2):\n",
    "    \"\"\"The quantum kernel.\"\"\"\n",
    "    AmplitudeEmbedding(x1, wires=range(n_qubits), normalize=True)\n",
    "    qml.adjoint(AmplitudeEmbedding)(x2, wires=range(n_qubits), normalize=True)\n",
    "    return qml.expval(qml.Hermitian(projector, wires=range(n_qubits)))"
   ]
  },
  {
   "cell_type": "code",
   "execution_count": 8,
   "metadata": {
    "colab": {
     "base_uri": "https://localhost:8080/"
    },
    "id": "tQEb1odm3TV2",
    "outputId": "1b42c898-c7f9-426e-9348-d44c0662cbef"
   },
   "outputs": [
    {
     "data": {
      "text/plain": [
       "tensor(1., requires_grad=True)"
      ]
     },
     "execution_count": 8,
     "metadata": {},
     "output_type": "execute_result"
    }
   ],
   "source": [
    "kernel(X_train[0], X_train[0])"
   ]
  },
  {
   "cell_type": "code",
   "execution_count": 9,
   "metadata": {
    "id": "6PlKIyDp3VCH"
   },
   "outputs": [],
   "source": [
    "def kernel_matrix(A, B):\n",
    "    \"\"\"Compute the matrix whose entries are the kernel\n",
    "       evaluated on pairwise data from sets A and B.\"\"\"\n",
    "    return np.array([[kernel(a, b) for b in B] for a in A])"
   ]
  },
  {
   "cell_type": "code",
   "execution_count": 10,
   "metadata": {
    "id": "3KKvLz733XR4"
   },
   "outputs": [],
   "source": [
    "svm = SVC(kernel=kernel_matrix).fit(X_train, y_train)"
   ]
  },
  {
   "cell_type": "code",
   "execution_count": 11,
   "metadata": {
    "colab": {
     "base_uri": "https://localhost:8080/"
    },
    "id": "w8RO01_-3ZfC",
    "outputId": "e9e32b50-1e71-49e0-9d7f-498f912d964a"
   },
   "outputs": [
    {
     "name": "stdout",
     "output_type": "stream",
     "text": [
      "The accuracy is:  0.44\n"
     ]
    }
   ],
   "source": [
    "predictions = svm.predict(X_test)\n",
    "Acc = accuracy_score(predictions, y_test)\n",
    "print('The accuracy is: ', Acc)"
   ]
  },
  {
   "cell_type": "markdown",
   "metadata": {
    "id": "tasnCHeZ4MU7"
   },
   "source": [
    "The Accuracy falls down a lot! We remember that we did reduce, from the experiment before, the number of qubits from 4 to 2."
   ]
  },
  {
   "cell_type": "code",
   "execution_count": 13,
   "metadata": {
    "colab": {
     "base_uri": "https://localhost:8080/"
    },
    "id": "rREk61RR3dA5",
    "outputId": "7e8ab505-6fd4-437c-b801-eb81686b43b7"
   },
   "outputs": [
    {
     "data": {
      "text/plain": [
       "7501"
      ]
     },
     "execution_count": 13,
     "metadata": {},
     "output_type": "execute_result"
    }
   ],
   "source": [
    "dev_kernel.num_executions #here there is a worse model and even same evaluations!"
   ]
  }
 ],
 "metadata": {
  "colab": {
   "name": "Iris_AmplitudeEncoding.ipynb",
   "provenance": []
  },
  "kernelspec": {
   "display_name": "Python 3",
   "language": "python",
   "name": "python3"
  },
  "language_info": {
   "codemirror_mode": {
    "name": "ipython",
    "version": 3
   },
   "file_extension": ".py",
   "mimetype": "text/x-python",
   "name": "python",
   "nbconvert_exporter": "python",
   "pygments_lexer": "ipython3",
   "version": "3.8.5"
  }
 },
 "nbformat": 4,
 "nbformat_minor": 1
}
