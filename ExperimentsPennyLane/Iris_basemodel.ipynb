{
 "cells": [
  {
   "cell_type": "code",
   "execution_count": 1,
   "metadata": {
    "colab": {
     "base_uri": "https://localhost:8080/"
    },
    "id": "xhBtxz2p24iH",
    "outputId": "0b5152f9-ddd6-4862-f316-883d82f778e2"
   },
   "outputs": [
    {
     "name": "stdout",
     "output_type": "stream",
     "text": [
      "Collecting pennylane\n",
      "  Downloading PennyLane-0.18.0-py3-none-any.whl (631 kB)\n",
      "\u001b[?25l\r",
      "\u001b[K     |▌                               | 10 kB 23.9 MB/s eta 0:00:01\r",
      "\u001b[K     |█                               | 20 kB 27.8 MB/s eta 0:00:01\r",
      "\u001b[K     |█▋                              | 30 kB 32.4 MB/s eta 0:00:01\r",
      "\u001b[K     |██                              | 40 kB 20.1 MB/s eta 0:00:01\r",
      "\u001b[K     |██▋                             | 51 kB 17.0 MB/s eta 0:00:01\r",
      "\u001b[K     |███▏                            | 61 kB 12.0 MB/s eta 0:00:01\r",
      "\u001b[K     |███▋                            | 71 kB 13.0 MB/s eta 0:00:01\r",
      "\u001b[K     |████▏                           | 81 kB 14.5 MB/s eta 0:00:01\r",
      "\u001b[K     |████▊                           | 92 kB 14.0 MB/s eta 0:00:01\r",
      "\u001b[K     |█████▏                          | 102 kB 14.9 MB/s eta 0:00:01\r",
      "\u001b[K     |█████▊                          | 112 kB 14.9 MB/s eta 0:00:01\r",
      "\u001b[K     |██████▎                         | 122 kB 14.9 MB/s eta 0:00:01\r",
      "\u001b[K     |██████▊                         | 133 kB 14.9 MB/s eta 0:00:01\r",
      "\u001b[K     |███████▎                        | 143 kB 14.9 MB/s eta 0:00:01\r",
      "\u001b[K     |███████▉                        | 153 kB 14.9 MB/s eta 0:00:01\r",
      "\u001b[K     |████████▎                       | 163 kB 14.9 MB/s eta 0:00:01\r",
      "\u001b[K     |████████▉                       | 174 kB 14.9 MB/s eta 0:00:01\r",
      "\u001b[K     |█████████▍                      | 184 kB 14.9 MB/s eta 0:00:01\r",
      "\u001b[K     |█████████▉                      | 194 kB 14.9 MB/s eta 0:00:01\r",
      "\u001b[K     |██████████▍                     | 204 kB 14.9 MB/s eta 0:00:01\r",
      "\u001b[K     |███████████                     | 215 kB 14.9 MB/s eta 0:00:01\r",
      "\u001b[K     |███████████▍                    | 225 kB 14.9 MB/s eta 0:00:01\r",
      "\u001b[K     |████████████                    | 235 kB 14.9 MB/s eta 0:00:01\r",
      "\u001b[K     |████████████▌                   | 245 kB 14.9 MB/s eta 0:00:01\r",
      "\u001b[K     |█████████████                   | 256 kB 14.9 MB/s eta 0:00:01\r",
      "\u001b[K     |█████████████▌                  | 266 kB 14.9 MB/s eta 0:00:01\r",
      "\u001b[K     |██████████████                  | 276 kB 14.9 MB/s eta 0:00:01\r",
      "\u001b[K     |██████████████▌                 | 286 kB 14.9 MB/s eta 0:00:01\r",
      "\u001b[K     |███████████████                 | 296 kB 14.9 MB/s eta 0:00:01\r",
      "\u001b[K     |███████████████▋                | 307 kB 14.9 MB/s eta 0:00:01\r",
      "\u001b[K     |████████████████                | 317 kB 14.9 MB/s eta 0:00:01\r",
      "\u001b[K     |████████████████▋               | 327 kB 14.9 MB/s eta 0:00:01\r",
      "\u001b[K     |█████████████████▏              | 337 kB 14.9 MB/s eta 0:00:01\r",
      "\u001b[K     |█████████████████▋              | 348 kB 14.9 MB/s eta 0:00:01\r",
      "\u001b[K     |██████████████████▏             | 358 kB 14.9 MB/s eta 0:00:01\r",
      "\u001b[K     |██████████████████▊             | 368 kB 14.9 MB/s eta 0:00:01\r",
      "\u001b[K     |███████████████████▏            | 378 kB 14.9 MB/s eta 0:00:01\r",
      "\u001b[K     |███████████████████▊            | 389 kB 14.9 MB/s eta 0:00:01\r",
      "\u001b[K     |████████████████████▎           | 399 kB 14.9 MB/s eta 0:00:01\r",
      "\u001b[K     |████████████████████▊           | 409 kB 14.9 MB/s eta 0:00:01\r",
      "\u001b[K     |█████████████████████▎          | 419 kB 14.9 MB/s eta 0:00:01\r",
      "\u001b[K     |█████████████████████▉          | 430 kB 14.9 MB/s eta 0:00:01\r",
      "\u001b[K     |██████████████████████▎         | 440 kB 14.9 MB/s eta 0:00:01\r",
      "\u001b[K     |██████████████████████▉         | 450 kB 14.9 MB/s eta 0:00:01\r",
      "\u001b[K     |███████████████████████▍        | 460 kB 14.9 MB/s eta 0:00:01\r",
      "\u001b[K     |███████████████████████▉        | 471 kB 14.9 MB/s eta 0:00:01\r",
      "\u001b[K     |████████████████████████▍       | 481 kB 14.9 MB/s eta 0:00:01\r",
      "\u001b[K     |█████████████████████████       | 491 kB 14.9 MB/s eta 0:00:01\r",
      "\u001b[K     |█████████████████████████▍      | 501 kB 14.9 MB/s eta 0:00:01\r",
      "\u001b[K     |██████████████████████████      | 512 kB 14.9 MB/s eta 0:00:01\r",
      "\u001b[K     |██████████████████████████▌     | 522 kB 14.9 MB/s eta 0:00:01\r",
      "\u001b[K     |███████████████████████████     | 532 kB 14.9 MB/s eta 0:00:01\r",
      "\u001b[K     |███████████████████████████▌    | 542 kB 14.9 MB/s eta 0:00:01\r",
      "\u001b[K     |████████████████████████████    | 552 kB 14.9 MB/s eta 0:00:01\r",
      "\u001b[K     |████████████████████████████▌   | 563 kB 14.9 MB/s eta 0:00:01\r",
      "\u001b[K     |█████████████████████████████   | 573 kB 14.9 MB/s eta 0:00:01\r",
      "\u001b[K     |█████████████████████████████▋  | 583 kB 14.9 MB/s eta 0:00:01\r",
      "\u001b[K     |██████████████████████████████  | 593 kB 14.9 MB/s eta 0:00:01\r",
      "\u001b[K     |██████████████████████████████▋ | 604 kB 14.9 MB/s eta 0:00:01\r",
      "\u001b[K     |███████████████████████████████▏| 614 kB 14.9 MB/s eta 0:00:01\r",
      "\u001b[K     |███████████████████████████████▋| 624 kB 14.9 MB/s eta 0:00:01\r",
      "\u001b[K     |████████████████████████████████| 631 kB 14.9 MB/s \n",
      "\u001b[?25hRequirement already satisfied: autograd in /usr/local/lib/python3.7/dist-packages (from pennylane) (1.3)\n",
      "Collecting autoray\n",
      "  Downloading autoray-0.2.5-py3-none-any.whl (16 kB)\n",
      "Requirement already satisfied: numpy in /usr/local/lib/python3.7/dist-packages (from pennylane) (1.19.5)\n",
      "Collecting semantic-version==2.6\n",
      "  Downloading semantic_version-2.6.0-py3-none-any.whl (14 kB)\n",
      "Collecting pennylane-lightning>=0.18\n",
      "  Downloading PennyLane_Lightning-0.18.0-cp37-cp37m-manylinux2010_x86_64.whl (4.4 MB)\n",
      "\u001b[K     |████████████████████████████████| 4.4 MB 32.8 MB/s \n",
      "\u001b[?25hRequirement already satisfied: toml in /usr/local/lib/python3.7/dist-packages (from pennylane) (0.10.2)\n",
      "Requirement already satisfied: scipy in /usr/local/lib/python3.7/dist-packages (from pennylane) (1.4.1)\n",
      "Requirement already satisfied: cachetools in /usr/local/lib/python3.7/dist-packages (from pennylane) (4.2.2)\n",
      "Requirement already satisfied: networkx in /usr/local/lib/python3.7/dist-packages (from pennylane) (2.6.3)\n",
      "Requirement already satisfied: appdirs in /usr/local/lib/python3.7/dist-packages (from pennylane) (1.4.4)\n",
      "Requirement already satisfied: future>=0.15.2 in /usr/local/lib/python3.7/dist-packages (from autograd->pennylane) (0.16.0)\n",
      "Installing collected packages: semantic-version, pennylane-lightning, autoray, pennylane\n",
      "Successfully installed autoray-0.2.5 pennylane-0.18.0 pennylane-lightning-0.18.0 semantic-version-2.6.0\n"
     ]
    }
   ],
   "source": [
    "pip install pennylane --upgrade"
   ]
  },
  {
   "cell_type": "code",
   "execution_count": 2,
   "metadata": {
    "id": "loO8530k28vW"
   },
   "outputs": [],
   "source": [
    "#general import\n",
    "import numpy as np\n",
    "import torch\n",
    "from torch.nn.functional import relu\n",
    "\n",
    "from sklearn.svm import SVC\n",
    "from sklearn.datasets import load_iris\n",
    "from sklearn.preprocessing import StandardScaler\n",
    "from sklearn.model_selection import train_test_split\n",
    "from sklearn.metrics import accuracy_score\n",
    "\n",
    "import pennylane as qml\n",
    "from pennylane.templates import AngleEmbedding, StronglyEntanglingLayers\n",
    "from pennylane.operation import Tensor\n",
    "\n",
    "import matplotlib.pyplot as plt\n",
    "\n",
    "np.random.seed(42)"
   ]
  },
  {
   "cell_type": "code",
   "execution_count": 3,
   "metadata": {
    "id": "lniLOqRU3DAI"
   },
   "outputs": [],
   "source": [
    "X, y = load_iris(return_X_y=True)\n",
    "\n",
    "# pick inputs and labels from the first two classes only,\n",
    "# corresponding to the first 100 samples\n",
    "X = X[:100]\n",
    "y = y[:100]\n",
    "\n",
    "# For now a Standard Scaler always applied, if not will be specified\n",
    "scaler = StandardScaler().fit(X)\n",
    "X_scaled = scaler.transform(X)\n",
    "\n",
    "# scaling the labels to -1, 1 is important for the SVM and the\n",
    "# definition of a hinge loss\n",
    "#This will change in some cases, KEEP AN EYE!\n",
    "y_scaled = 2 * (y - 0.5)\n",
    "\n",
    "X_train, X_test, y_train, y_test = train_test_split(X_scaled, y_scaled)"
   ]
  },
  {
   "cell_type": "code",
   "execution_count": 4,
   "metadata": {
    "colab": {
     "base_uri": "https://localhost:8080/"
    },
    "id": "CZXa7KPo3FdZ",
    "outputId": "0dfb5774-a1e1-4f8c-e1a7-55afd58ea3bb"
   },
   "outputs": [
    {
     "name": "stdout",
     "output_type": "stream",
     "text": [
      "Shape X_train: (75, 4)\n",
      "Shape Y_train (75,)\n",
      "Shape X_test: (25, 4)\n",
      "Shape Y_test: (25,)\n"
     ]
    }
   ],
   "source": [
    "print('Shape X_train:', X_train.shape)\n",
    "print('Shape Y_train', y_train.shape)\n",
    "print('Shape X_test:', X_test.shape)\n",
    "print('Shape Y_test:', y_test.shape)"
   ]
  },
  {
   "cell_type": "code",
   "execution_count": 5,
   "metadata": {
    "colab": {
     "base_uri": "https://localhost:8080/"
    },
    "id": "fw11vz4B3HGp",
    "outputId": "02aaee33-59c3-4038-bdf2-4bebec53b15a"
   },
   "outputs": [
    {
     "data": {
      "text/plain": [
       "array([ 1.,  1.,  1., -1., -1., -1., -1.,  1., -1., -1., -1., -1.,  1.,\n",
       "       -1.,  1., -1.,  1.,  1., -1., -1.,  1.,  1., -1., -1.,  1.])"
      ]
     },
     "execution_count": 5,
     "metadata": {},
     "output_type": "execute_result"
    }
   ],
   "source": [
    "y_test"
   ]
  },
  {
   "cell_type": "markdown",
   "metadata": {
    "id": "oxLDUR553NCt"
   },
   "source": [
    "# Model 1: Basic Kernel With Angle Encoding and 4 qubits\n",
    "This model is the most standard for Kernels and in the followings will be varied. It is the same model shown in the PennyLane demos for QML."
   ]
  },
  {
   "cell_type": "code",
   "execution_count": 6,
   "metadata": {
    "colab": {
     "base_uri": "https://localhost:8080/"
    },
    "id": "gDmnuOAZ3IrS",
    "outputId": "7033d268-25e8-4fa8-cbbf-f4c042c4d5b7"
   },
   "outputs": [
    {
     "data": {
      "text/plain": [
       "4"
      ]
     },
     "execution_count": 6,
     "metadata": {},
     "output_type": "execute_result"
    }
   ],
   "source": [
    "n_qubits = len(X_train[0])\n",
    "n_qubits"
   ]
  },
  {
   "cell_type": "code",
   "execution_count": 7,
   "metadata": {
    "id": "KWdivE5Y3Rhm"
   },
   "outputs": [],
   "source": [
    "dev_kernel = qml.device(\"default.qubit\", wires=n_qubits)\n",
    "\n",
    "projector = np.zeros((2**n_qubits, 2**n_qubits))\n",
    "projector[0, 0] = 1\n",
    "\n",
    "@qml.qnode(dev_kernel)\n",
    "def kernel(x1, x2):\n",
    "    AngleEmbedding(x1, wires=range(n_qubits))\n",
    "    qml.adjoint(AngleEmbedding)(x2, wires=range(n_qubits))\n",
    "    return qml.expval(qml.Hermitian(projector, wires=range(n_qubits)))"
   ]
  },
  {
   "cell_type": "code",
   "execution_count": 8,
   "metadata": {
    "colab": {
     "base_uri": "https://localhost:8080/"
    },
    "id": "tQEb1odm3TV2",
    "outputId": "1dabd4fd-61d2-4d78-bc2e-4091db12d974"
   },
   "outputs": [
    {
     "data": {
      "text/plain": [
       "tensor(1., requires_grad=True)"
      ]
     },
     "execution_count": 8,
     "metadata": {},
     "output_type": "execute_result"
    }
   ],
   "source": [
    "kernel(X_train[0], X_train[0])"
   ]
  },
  {
   "cell_type": "code",
   "execution_count": 9,
   "metadata": {
    "id": "6PlKIyDp3VCH"
   },
   "outputs": [],
   "source": [
    "def kernel_matrix(A, B):\n",
    "    \"\"\"Compute the matrix whose entries are the kernel\n",
    "       evaluated on pairwise data from sets A and B.\"\"\"\n",
    "    return np.array([[kernel(a, b) for b in B] for a in A])"
   ]
  },
  {
   "cell_type": "code",
   "execution_count": 10,
   "metadata": {
    "id": "3KKvLz733XR4"
   },
   "outputs": [],
   "source": [
    "svm = SVC(kernel=kernel_matrix).fit(X_train, y_train)"
   ]
  },
  {
   "cell_type": "code",
   "execution_count": 11,
   "metadata": {
    "colab": {
     "base_uri": "https://localhost:8080/"
    },
    "id": "w8RO01_-3ZfC",
    "outputId": "a1d73038-8382-4d89-e342-eda4f78dd1b9"
   },
   "outputs": [
    {
     "data": {
      "text/plain": [
       "1.0"
      ]
     },
     "execution_count": 11,
     "metadata": {},
     "output_type": "execute_result"
    }
   ],
   "source": [
    "predictions = svm.predict(X_test)\n",
    "accuracy_score(predictions, y_test)"
   ]
  },
  {
   "cell_type": "code",
   "execution_count": 12,
   "metadata": {
    "colab": {
     "base_uri": "https://localhost:8080/"
    },
    "id": "rREk61RR3dA5",
    "outputId": "05acb5c0-7024-4b11-b68e-a4aad48af0eb"
   },
   "outputs": [
    {
     "data": {
      "text/plain": [
       "7501"
      ]
     },
     "execution_count": 12,
     "metadata": {},
     "output_type": "execute_result"
    }
   ],
   "source": [
    "dev_kernel.num_executions"
   ]
  }
 ],
 "metadata": {
  "colab": {
   "name": "Iris_basemodel.ipynb",
   "provenance": []
  },
  "kernelspec": {
   "display_name": "Python 3",
   "language": "python",
   "name": "python3"
  },
  "language_info": {
   "codemirror_mode": {
    "name": "ipython",
    "version": 3
   },
   "file_extension": ".py",
   "mimetype": "text/x-python",
   "name": "python",
   "nbconvert_exporter": "python",
   "pygments_lexer": "ipython3",
   "version": "3.8.5"
  }
 },
 "nbformat": 4,
 "nbformat_minor": 1
}
