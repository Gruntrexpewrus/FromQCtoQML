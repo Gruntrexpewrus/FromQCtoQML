{
 "cells": [
  {
   "cell_type": "code",
   "execution_count": 1,
   "metadata": {
    "colab": {
     "base_uri": "https://localhost:8080/"
    },
    "id": "xhBtxz2p24iH",
    "outputId": "92420869-9f3e-4390-9e60-8413f05f86c8"
   },
   "outputs": [
    {
     "name": "stdout",
     "output_type": "stream",
     "text": [
      "Collecting pennylane\n",
      "  Downloading PennyLane-0.18.0-py3-none-any.whl (631 kB)\n",
      "\u001b[?25l\r",
      "\u001b[K     |▌                               | 10 kB 26.2 MB/s eta 0:00:01\r",
      "\u001b[K     |█                               | 20 kB 29.0 MB/s eta 0:00:01\r",
      "\u001b[K     |█▋                              | 30 kB 21.3 MB/s eta 0:00:01\r",
      "\u001b[K     |██                              | 40 kB 13.0 MB/s eta 0:00:01\r",
      "\u001b[K     |██▋                             | 51 kB 5.7 MB/s eta 0:00:01\r",
      "\u001b[K     |███▏                            | 61 kB 5.9 MB/s eta 0:00:01\r",
      "\u001b[K     |███▋                            | 71 kB 5.3 MB/s eta 0:00:01\r",
      "\u001b[K     |████▏                           | 81 kB 6.0 MB/s eta 0:00:01\r",
      "\u001b[K     |████▊                           | 92 kB 6.0 MB/s eta 0:00:01\r",
      "\u001b[K     |█████▏                          | 102 kB 5.3 MB/s eta 0:00:01\r",
      "\u001b[K     |█████▊                          | 112 kB 5.3 MB/s eta 0:00:01\r",
      "\u001b[K     |██████▎                         | 122 kB 5.3 MB/s eta 0:00:01\r",
      "\u001b[K     |██████▊                         | 133 kB 5.3 MB/s eta 0:00:01\r",
      "\u001b[K     |███████▎                        | 143 kB 5.3 MB/s eta 0:00:01\r",
      "\u001b[K     |███████▉                        | 153 kB 5.3 MB/s eta 0:00:01\r",
      "\u001b[K     |████████▎                       | 163 kB 5.3 MB/s eta 0:00:01\r",
      "\u001b[K     |████████▉                       | 174 kB 5.3 MB/s eta 0:00:01\r",
      "\u001b[K     |█████████▍                      | 184 kB 5.3 MB/s eta 0:00:01\r",
      "\u001b[K     |█████████▉                      | 194 kB 5.3 MB/s eta 0:00:01\r",
      "\u001b[K     |██████████▍                     | 204 kB 5.3 MB/s eta 0:00:01\r",
      "\u001b[K     |███████████                     | 215 kB 5.3 MB/s eta 0:00:01\r",
      "\u001b[K     |███████████▍                    | 225 kB 5.3 MB/s eta 0:00:01\r",
      "\u001b[K     |████████████                    | 235 kB 5.3 MB/s eta 0:00:01\r",
      "\u001b[K     |████████████▌                   | 245 kB 5.3 MB/s eta 0:00:01\r",
      "\u001b[K     |█████████████                   | 256 kB 5.3 MB/s eta 0:00:01\r",
      "\u001b[K     |█████████████▌                  | 266 kB 5.3 MB/s eta 0:00:01\r",
      "\u001b[K     |██████████████                  | 276 kB 5.3 MB/s eta 0:00:01\r",
      "\u001b[K     |██████████████▌                 | 286 kB 5.3 MB/s eta 0:00:01\r",
      "\u001b[K     |███████████████                 | 296 kB 5.3 MB/s eta 0:00:01\r",
      "\u001b[K     |███████████████▋                | 307 kB 5.3 MB/s eta 0:00:01\r",
      "\u001b[K     |████████████████                | 317 kB 5.3 MB/s eta 0:00:01\r",
      "\u001b[K     |████████████████▋               | 327 kB 5.3 MB/s eta 0:00:01\r",
      "\u001b[K     |█████████████████▏              | 337 kB 5.3 MB/s eta 0:00:01\r",
      "\u001b[K     |█████████████████▋              | 348 kB 5.3 MB/s eta 0:00:01\r",
      "\u001b[K     |██████████████████▏             | 358 kB 5.3 MB/s eta 0:00:01\r",
      "\u001b[K     |██████████████████▊             | 368 kB 5.3 MB/s eta 0:00:01\r",
      "\u001b[K     |███████████████████▏            | 378 kB 5.3 MB/s eta 0:00:01\r",
      "\u001b[K     |███████████████████▊            | 389 kB 5.3 MB/s eta 0:00:01\r",
      "\u001b[K     |████████████████████▎           | 399 kB 5.3 MB/s eta 0:00:01\r",
      "\u001b[K     |████████████████████▊           | 409 kB 5.3 MB/s eta 0:00:01\r",
      "\u001b[K     |█████████████████████▎          | 419 kB 5.3 MB/s eta 0:00:01\r",
      "\u001b[K     |█████████████████████▉          | 430 kB 5.3 MB/s eta 0:00:01\r",
      "\u001b[K     |██████████████████████▎         | 440 kB 5.3 MB/s eta 0:00:01\r",
      "\u001b[K     |██████████████████████▉         | 450 kB 5.3 MB/s eta 0:00:01\r",
      "\u001b[K     |███████████████████████▍        | 460 kB 5.3 MB/s eta 0:00:01\r",
      "\u001b[K     |███████████████████████▉        | 471 kB 5.3 MB/s eta 0:00:01\r",
      "\u001b[K     |████████████████████████▍       | 481 kB 5.3 MB/s eta 0:00:01\r",
      "\u001b[K     |█████████████████████████       | 491 kB 5.3 MB/s eta 0:00:01\r",
      "\u001b[K     |█████████████████████████▍      | 501 kB 5.3 MB/s eta 0:00:01\r",
      "\u001b[K     |██████████████████████████      | 512 kB 5.3 MB/s eta 0:00:01\r",
      "\u001b[K     |██████████████████████████▌     | 522 kB 5.3 MB/s eta 0:00:01\r",
      "\u001b[K     |███████████████████████████     | 532 kB 5.3 MB/s eta 0:00:01\r",
      "\u001b[K     |███████████████████████████▌    | 542 kB 5.3 MB/s eta 0:00:01\r",
      "\u001b[K     |████████████████████████████    | 552 kB 5.3 MB/s eta 0:00:01\r",
      "\u001b[K     |████████████████████████████▌   | 563 kB 5.3 MB/s eta 0:00:01\r",
      "\u001b[K     |█████████████████████████████   | 573 kB 5.3 MB/s eta 0:00:01\r",
      "\u001b[K     |█████████████████████████████▋  | 583 kB 5.3 MB/s eta 0:00:01\r",
      "\u001b[K     |██████████████████████████████  | 593 kB 5.3 MB/s eta 0:00:01\r",
      "\u001b[K     |██████████████████████████████▋ | 604 kB 5.3 MB/s eta 0:00:01\r",
      "\u001b[K     |███████████████████████████████▏| 614 kB 5.3 MB/s eta 0:00:01\r",
      "\u001b[K     |███████████████████████████████▋| 624 kB 5.3 MB/s eta 0:00:01\r",
      "\u001b[K     |████████████████████████████████| 631 kB 5.3 MB/s \n",
      "\u001b[?25hCollecting autoray\n",
      "  Downloading autoray-0.2.5-py3-none-any.whl (16 kB)\n",
      "Requirement already satisfied: cachetools in /usr/local/lib/python3.7/dist-packages (from pennylane) (4.2.2)\n",
      "Collecting semantic-version==2.6\n",
      "  Downloading semantic_version-2.6.0-py3-none-any.whl (14 kB)\n",
      "Collecting pennylane-lightning>=0.18\n",
      "  Downloading PennyLane_Lightning-0.18.0-cp37-cp37m-manylinux2010_x86_64.whl (4.4 MB)\n",
      "\u001b[K     |████████████████████████████████| 4.4 MB 43.0 MB/s \n",
      "\u001b[?25hRequirement already satisfied: autograd in /usr/local/lib/python3.7/dist-packages (from pennylane) (1.3)\n",
      "Requirement already satisfied: numpy in /usr/local/lib/python3.7/dist-packages (from pennylane) (1.19.5)\n",
      "Requirement already satisfied: networkx in /usr/local/lib/python3.7/dist-packages (from pennylane) (2.6.3)\n",
      "Requirement already satisfied: appdirs in /usr/local/lib/python3.7/dist-packages (from pennylane) (1.4.4)\n",
      "Requirement already satisfied: toml in /usr/local/lib/python3.7/dist-packages (from pennylane) (0.10.2)\n",
      "Requirement already satisfied: scipy in /usr/local/lib/python3.7/dist-packages (from pennylane) (1.4.1)\n",
      "Requirement already satisfied: future>=0.15.2 in /usr/local/lib/python3.7/dist-packages (from autograd->pennylane) (0.16.0)\n",
      "Installing collected packages: semantic-version, pennylane-lightning, autoray, pennylane\n",
      "Successfully installed autoray-0.2.5 pennylane-0.18.0 pennylane-lightning-0.18.0 semantic-version-2.6.0\n"
     ]
    }
   ],
   "source": [
    "pip install pennylane --upgrade"
   ]
  },
  {
   "cell_type": "code",
   "execution_count": 2,
   "metadata": {
    "id": "loO8530k28vW"
   },
   "outputs": [],
   "source": [
    "#general import\n",
    "import numpy as np\n",
    "import torch\n",
    "from torch.nn.functional import relu\n",
    "\n",
    "from sklearn.svm import SVC\n",
    "from sklearn.datasets import load_iris\n",
    "from sklearn.preprocessing import StandardScaler\n",
    "from sklearn.model_selection import train_test_split\n",
    "from sklearn.metrics import accuracy_score\n",
    "\n",
    "import pennylane as qml\n",
    "from pennylane.templates import AngleEmbedding, StronglyEntanglingLayers\n",
    "from pennylane.operation import Tensor\n",
    "\n",
    "import matplotlib.pyplot as plt\n",
    "\n",
    "np.random.seed(42)"
   ]
  },
  {
   "cell_type": "code",
   "execution_count": 3,
   "metadata": {
    "id": "msrS-oCsZKLQ"
   },
   "outputs": [],
   "source": [
    "from sklearn.datasets import load_breast_cancer\n",
    "X, y = load_breast_cancer(return_X_y=True)\n",
    "\n",
    "# scaling the inputs \n",
    "scaler = StandardScaler().fit(X)\n",
    "X_scaled = scaler.transform(X)\n",
    "\n",
    "y_scaled = y \n",
    "\n",
    "X_train, X_test, y_train, y_test = train_test_split(X_scaled, y_scaled, test_size=0.3,random_state=109)"
   ]
  },
  {
   "cell_type": "code",
   "execution_count": 4,
   "metadata": {
    "colab": {
     "base_uri": "https://localhost:8080/"
    },
    "id": "aVbuMHPSZQcK",
    "outputId": "53221cbc-0023-4ae2-91a5-19fad7bba1b8"
   },
   "outputs": [
    {
     "name": "stdout",
     "output_type": "stream",
     "text": [
      "Shape X_train: (398, 30)\n",
      "Shape Y_train (398,)\n",
      "Shape X_test: (171, 30)\n",
      "Shape Y_test: (171,)\n"
     ]
    }
   ],
   "source": [
    "print('Shape X_train:', X_train.shape)\n",
    "print('Shape Y_train', y_train.shape)\n",
    "print('Shape X_test:', X_test.shape)\n",
    "print('Shape Y_test:', y_test.shape)"
   ]
  },
  {
   "cell_type": "markdown",
   "metadata": {
    "id": "sz3vNzY5ZUCw"
   },
   "source": [
    "# Hybrid model between classical and quantum hardware!"
   ]
  },
  {
   "cell_type": "code",
   "execution_count": 5,
   "metadata": {
    "id": "4EffgH3VZR_z"
   },
   "outputs": [],
   "source": [
    "n_qubits = 6\n",
    "dev = qml.device(\"default.qubit\", wires=n_qubits)\n",
    "\n",
    "@qml.qnode(dev)\n",
    "def qnode(inputs, weights):\n",
    "    qml.templates.AngleEmbedding(inputs, wires=range(n_qubits))\n",
    "    qml.templates.BasicEntanglerLayers(weights, wires=range(n_qubits))\n",
    "    return [qml.expval(qml.PauliZ(wires=i)) for i in range(n_qubits)]"
   ]
  },
  {
   "cell_type": "code",
   "execution_count": 6,
   "metadata": {
    "id": "NpJllNZ9ZYTH"
   },
   "outputs": [],
   "source": [
    "n_layers = 2\n",
    "weight_shapes = {\"weights\": (n_layers, n_qubits)}\n",
    "\n",
    "qlayer = qml.qnn.TorchLayer(qnode, weight_shapes)\n",
    "\n",
    "clayer_1 = torch.nn.Linear(30,6)\n",
    "clayer_2 = torch.nn.Linear(6,2)\n",
    "softmax = torch.nn.Softmax(dim=1)\n",
    "layers = [clayer_1, qlayer, clayer_2, softmax]\n",
    "model = torch.nn.Sequential(*layers)\n",
    "\n",
    "opt = torch.optim.SGD(model.parameters(), lr=0.2)\n",
    "loss = torch.nn.L1Loss()"
   ]
  },
  {
   "cell_type": "code",
   "execution_count": 7,
   "metadata": {
    "colab": {
     "base_uri": "https://localhost:8080/"
    },
    "id": "8-4-d4SsZcsj",
    "outputId": "f6147b32-5b92-4087-8c17-32f70bc2ec68"
   },
   "outputs": [
    {
     "name": "stderr",
     "output_type": "stream",
     "text": [
      "/usr/local/lib/python3.7/dist-packages/torch/autograd/__init__.py:149: UserWarning: Casting complex values to real discards the imaginary part (Triggered internally at  /pytorch/aten/src/ATen/native/Copy.cpp:240.)\n",
      "  allow_unreachable=True, accumulate_grad=True)  # allow_unreachable flag\n"
     ]
    },
    {
     "name": "stdout",
     "output_type": "stream",
     "text": [
      "Average loss over epoch 1: 0.4215\n",
      "Accuracy: 80.11695906432749%\n",
      "Average loss over epoch 2: 0.2554\n",
      "Accuracy: 81.87134502923976%\n",
      "Average loss over epoch 3: 0.2174\n",
      "Accuracy: 94.73684210526315%\n",
      "Average loss over epoch 4: 0.1593\n",
      "Accuracy: 90.64327485380117%\n",
      "Average loss over epoch 5: 0.1628\n",
      "Accuracy: 88.30409356725146%\n",
      "Average loss over epoch 6: 0.1456\n",
      "Accuracy: 94.15204678362574%\n",
      "Average loss over epoch 7: 0.1665\n",
      "Accuracy: 51.461988304093566%\n",
      "Average loss over epoch 8: 0.2636\n",
      "Accuracy: 88.88888888888889%\n",
      "Average loss over epoch 9: 0.2068\n",
      "Accuracy: 66.66666666666666%\n",
      "Average loss over epoch 10: 0.1883\n",
      "Accuracy: 85.38011695906432%\n",
      "Average loss over epoch 11: 0.2242\n",
      "Accuracy: 52.63157894736842%\n",
      "Average loss over epoch 12: 0.3731\n",
      "Accuracy: 67.83625730994152%\n",
      "Average loss over epoch 13: 0.2731\n",
      "Accuracy: 81.28654970760235%\n",
      "Average loss over epoch 14: 0.3954\n",
      "Accuracy: 59.64912280701754%\n",
      "Average loss over epoch 15: 0.4329\n",
      "Accuracy: 56.72514619883041%\n",
      "Average loss over epoch 16: 0.4167\n",
      "Accuracy: 64.32748538011695%\n",
      "Average loss over epoch 17: 0.3791\n",
      "Accuracy: 63.1578947368421%\n",
      "Average loss over epoch 18: 0.3718\n",
      "Accuracy: 65.49707602339181%\n",
      "Average loss over epoch 19: 0.3714\n",
      "Accuracy: 63.74269005847953%\n",
      "Average loss over epoch 20: 0.3626\n",
      "Accuracy: 62.57309941520468%\n"
     ]
    }
   ],
   "source": [
    "def Check_acc(X_test, y_test):   \n",
    "  X_t = torch.tensor(X_test, requires_grad=True).float()\n",
    "  y_pred = model(X_t)\n",
    "  predictions = torch.argmax(y_pred, axis=1).detach().numpy()\n",
    "  #print(predictions)\n",
    "  correct = [1 if p == p_true else 0 for p, p_true in zip(predictions, y_test)]\n",
    "  accuracy = sum(correct) / len(correct)\n",
    "  print(f\"Accuracy: {accuracy * 100}%\")\n",
    "  return accuracy\n",
    "\n",
    "X = torch.tensor(X_train, requires_grad=True).float()\n",
    "\n",
    "\n",
    "batch_size = 5\n",
    "batches = 398 // batch_size\n",
    "\n",
    "data_loader = torch.utils.data.DataLoader(\n",
    "    list(zip(X, y_train)), batch_size=5, shuffle=True, drop_last=True\n",
    ")\n",
    "\n",
    "epochs = 20\n",
    "loss_vec = []\n",
    "acc_vec = []\n",
    "for epoch in range(epochs):\n",
    "\n",
    "    running_loss = 0\n",
    "\n",
    "    for xs, ys in data_loader:\n",
    "        opt.zero_grad()\n",
    "        #print(xs)\n",
    "        #print(model(xs))\n",
    "        loss_evaluated = loss(model(xs)[:, 1], ys)\n",
    "        loss_evaluated.backward()\n",
    "        \n",
    "        opt.step()\n",
    "        \n",
    "        running_loss += loss_evaluated\n",
    "\n",
    "    avg_loss = running_loss / batches\n",
    "    print(\"Average loss over epoch {}: {:.4f}\".format(epoch + 1, avg_loss))\n",
    "    acc_vec.append(Check_acc(X_test, y_test))\n",
    "    loss_vec.append(avg_loss)\n",
    "\n"
   ]
  },
  {
   "cell_type": "code",
   "execution_count": 8,
   "metadata": {
    "colab": {
     "base_uri": "https://localhost:8080/",
     "height": 295
    },
    "id": "IGW7cn9AZihc",
    "outputId": "9c747de5-e708-479d-fb8e-65d8c93e7a78"
   },
   "outputs": [
    {
     "data": {
      "image/png": "[encoded data removed]",
      "text/plain": [
       "<Figure size 432x288 with 1 Axes>"
      ]
     },
     "metadata": {
      "needs_background": "light"
     },
     "output_type": "display_data"
    }
   ],
   "source": [
    "plt.plot(range(20), loss_vec)\n",
    "plt.ylim((0, 1))\n",
    "plt.xlabel(\"steps\")\n",
    "plt.ylabel(\"cost\")\n",
    "plt.title('Loss plot')\n",
    "plt.show()"
   ]
  }
 ],
 "metadata": {
  "colab": {
   "collapsed_sections": [],
   "name": "BC_baseHybrid",
   "provenance": []
  },
  "kernelspec": {
   "display_name": "Python 3",
   "language": "python",
   "name": "python3"
  },
  "language_info": {
   "codemirror_mode": {
    "name": "ipython",
    "version": 3
   },
   "file_extension": ".py",
   "mimetype": "text/x-python",
   "name": "python",
   "nbconvert_exporter": "python",
   "pygments_lexer": "ipython3",
   "version": "3.8.5"
  }
 },
 "nbformat": 4,
 "nbformat_minor": 1
}
