{
 "cells": [
  {
   "cell_type": "code",
   "execution_count": 1,
   "metadata": {
    "colab": {
     "base_uri": "https://localhost:8080/"
    },
    "id": "xhBtxz2p24iH",
    "outputId": "cf9807f5-4118-4c1a-e309-5baa60bf47fe"
   },
   "outputs": [
    {
     "name": "stdout",
     "output_type": "stream",
     "text": [
      "Collecting pennylane\n",
      "  Downloading PennyLane-0.18.0-py3-none-any.whl (631 kB)\n",
      "\u001b[?25l\r",
      "\u001b[K     |▌                               | 10 kB 22.3 MB/s eta 0:00:01\r",
      "\u001b[K     |█                               | 20 kB 9.9 MB/s eta 0:00:01\r",
      "\u001b[K     |█▋                              | 30 kB 8.5 MB/s eta 0:00:01\r",
      "\u001b[K     |██                              | 40 kB 7.7 MB/s eta 0:00:01\r",
      "\u001b[K     |██▋                             | 51 kB 5.0 MB/s eta 0:00:01\r",
      "\u001b[K     |███▏                            | 61 kB 5.5 MB/s eta 0:00:01\r",
      "\u001b[K     |███▋                            | 71 kB 5.4 MB/s eta 0:00:01\r",
      "\u001b[K     |████▏                           | 81 kB 6.0 MB/s eta 0:00:01\r",
      "\u001b[K     |████▊                           | 92 kB 4.7 MB/s eta 0:00:01\r",
      "\u001b[K     |█████▏                          | 102 kB 5.1 MB/s eta 0:00:01\r",
      "\u001b[K     |█████▊                          | 112 kB 5.1 MB/s eta 0:00:01\r",
      "\u001b[K     |██████▎                         | 122 kB 5.1 MB/s eta 0:00:01\r",
      "\u001b[K     |██████▊                         | 133 kB 5.1 MB/s eta 0:00:01\r",
      "\u001b[K     |███████▎                        | 143 kB 5.1 MB/s eta 0:00:01\r",
      "\u001b[K     |███████▉                        | 153 kB 5.1 MB/s eta 0:00:01\r",
      "\u001b[K     |████████▎                       | 163 kB 5.1 MB/s eta 0:00:01\r",
      "\u001b[K     |████████▉                       | 174 kB 5.1 MB/s eta 0:00:01\r",
      "\u001b[K     |█████████▍                      | 184 kB 5.1 MB/s eta 0:00:01\r",
      "\u001b[K     |█████████▉                      | 194 kB 5.1 MB/s eta 0:00:01\r",
      "\u001b[K     |██████████▍                     | 204 kB 5.1 MB/s eta 0:00:01\r",
      "\u001b[K     |███████████                     | 215 kB 5.1 MB/s eta 0:00:01\r",
      "\u001b[K     |███████████▍                    | 225 kB 5.1 MB/s eta 0:00:01\r",
      "\u001b[K     |████████████                    | 235 kB 5.1 MB/s eta 0:00:01\r",
      "\u001b[K     |████████████▌                   | 245 kB 5.1 MB/s eta 0:00:01\r",
      "\u001b[K     |█████████████                   | 256 kB 5.1 MB/s eta 0:00:01\r",
      "\u001b[K     |█████████████▌                  | 266 kB 5.1 MB/s eta 0:00:01\r",
      "\u001b[K     |██████████████                  | 276 kB 5.1 MB/s eta 0:00:01\r",
      "\u001b[K     |██████████████▌                 | 286 kB 5.1 MB/s eta 0:00:01\r",
      "\u001b[K     |███████████████                 | 296 kB 5.1 MB/s eta 0:00:01\r",
      "\u001b[K     |███████████████▋                | 307 kB 5.1 MB/s eta 0:00:01\r",
      "\u001b[K     |████████████████                | 317 kB 5.1 MB/s eta 0:00:01\r",
      "\u001b[K     |████████████████▋               | 327 kB 5.1 MB/s eta 0:00:01\r",
      "\u001b[K     |█████████████████▏              | 337 kB 5.1 MB/s eta 0:00:01\r",
      "\u001b[K     |█████████████████▋              | 348 kB 5.1 MB/s eta 0:00:01\r",
      "\u001b[K     |██████████████████▏             | 358 kB 5.1 MB/s eta 0:00:01\r",
      "\u001b[K     |██████████████████▊             | 368 kB 5.1 MB/s eta 0:00:01\r",
      "\u001b[K     |███████████████████▏            | 378 kB 5.1 MB/s eta 0:00:01\r",
      "\u001b[K     |███████████████████▊            | 389 kB 5.1 MB/s eta 0:00:01\r",
      "\u001b[K     |████████████████████▎           | 399 kB 5.1 MB/s eta 0:00:01\r",
      "\u001b[K     |████████████████████▊           | 409 kB 5.1 MB/s eta 0:00:01\r",
      "\u001b[K     |█████████████████████▎          | 419 kB 5.1 MB/s eta 0:00:01\r",
      "\u001b[K     |█████████████████████▉          | 430 kB 5.1 MB/s eta 0:00:01\r",
      "\u001b[K     |██████████████████████▎         | 440 kB 5.1 MB/s eta 0:00:01\r",
      "\u001b[K     |██████████████████████▉         | 450 kB 5.1 MB/s eta 0:00:01\r",
      "\u001b[K     |███████████████████████▍        | 460 kB 5.1 MB/s eta 0:00:01\r",
      "\u001b[K     |███████████████████████▉        | 471 kB 5.1 MB/s eta 0:00:01\r",
      "\u001b[K     |████████████████████████▍       | 481 kB 5.1 MB/s eta 0:00:01\r",
      "\u001b[K     |█████████████████████████       | 491 kB 5.1 MB/s eta 0:00:01\r",
      "\u001b[K     |█████████████████████████▍      | 501 kB 5.1 MB/s eta 0:00:01\r",
      "\u001b[K     |██████████████████████████      | 512 kB 5.1 MB/s eta 0:00:01\r",
      "\u001b[K     |██████████████████████████▌     | 522 kB 5.1 MB/s eta 0:00:01\r",
      "\u001b[K     |███████████████████████████     | 532 kB 5.1 MB/s eta 0:00:01\r",
      "\u001b[K     |███████████████████████████▌    | 542 kB 5.1 MB/s eta 0:00:01\r",
      "\u001b[K     |████████████████████████████    | 552 kB 5.1 MB/s eta 0:00:01\r",
      "\u001b[K     |████████████████████████████▌   | 563 kB 5.1 MB/s eta 0:00:01\r",
      "\u001b[K     |█████████████████████████████   | 573 kB 5.1 MB/s eta 0:00:01\r",
      "\u001b[K     |█████████████████████████████▋  | 583 kB 5.1 MB/s eta 0:00:01\r",
      "\u001b[K     |██████████████████████████████  | 593 kB 5.1 MB/s eta 0:00:01\r",
      "\u001b[K     |██████████████████████████████▋ | 604 kB 5.1 MB/s eta 0:00:01\r",
      "\u001b[K     |███████████████████████████████▏| 614 kB 5.1 MB/s eta 0:00:01\r",
      "\u001b[K     |███████████████████████████████▋| 624 kB 5.1 MB/s eta 0:00:01\r",
      "\u001b[K     |████████████████████████████████| 631 kB 5.1 MB/s \n",
      "\u001b[?25hCollecting autoray\n",
      "  Downloading autoray-0.2.5-py3-none-any.whl (16 kB)\n",
      "Requirement already satisfied: scipy in /usr/local/lib/python3.7/dist-packages (from pennylane) (1.4.1)\n",
      "Requirement already satisfied: appdirs in /usr/local/lib/python3.7/dist-packages (from pennylane) (1.4.4)\n",
      "Collecting semantic-version==2.6\n",
      "  Downloading semantic_version-2.6.0-py3-none-any.whl (14 kB)\n",
      "Requirement already satisfied: networkx in /usr/local/lib/python3.7/dist-packages (from pennylane) (2.6.3)\n",
      "Requirement already satisfied: autograd in /usr/local/lib/python3.7/dist-packages (from pennylane) (1.3)\n",
      "Requirement already satisfied: numpy in /usr/local/lib/python3.7/dist-packages (from pennylane) (1.19.5)\n",
      "Collecting pennylane-lightning>=0.18\n",
      "  Downloading PennyLane_Lightning-0.18.0-cp37-cp37m-manylinux2010_x86_64.whl (4.4 MB)\n",
      "\u001b[K     |████████████████████████████████| 4.4 MB 39.3 MB/s \n",
      "\u001b[?25hRequirement already satisfied: cachetools in /usr/local/lib/python3.7/dist-packages (from pennylane) (4.2.2)\n",
      "Requirement already satisfied: toml in /usr/local/lib/python3.7/dist-packages (from pennylane) (0.10.2)\n",
      "Requirement already satisfied: future>=0.15.2 in /usr/local/lib/python3.7/dist-packages (from autograd->pennylane) (0.16.0)\n",
      "Installing collected packages: semantic-version, pennylane-lightning, autoray, pennylane\n",
      "Successfully installed autoray-0.2.5 pennylane-0.18.0 pennylane-lightning-0.18.0 semantic-version-2.6.0\n"
     ]
    }
   ],
   "source": [
    "pip install pennylane --upgrade"
   ]
  },
  {
   "cell_type": "code",
   "execution_count": 2,
   "metadata": {
    "id": "loO8530k28vW"
   },
   "outputs": [],
   "source": [
    "#general import\n",
    "import numpy as np\n",
    "import torch\n",
    "from torch.nn.functional import relu\n",
    "\n",
    "from sklearn.svm import SVC\n",
    "from sklearn.datasets import load_iris\n",
    "from sklearn.preprocessing import StandardScaler\n",
    "from sklearn.model_selection import train_test_split\n",
    "from sklearn.metrics import accuracy_score\n",
    "\n",
    "import pennylane as qml\n",
    "from pennylane.templates import AngleEmbedding, StronglyEntanglingLayers\n",
    "from pennylane.operation import Tensor\n",
    "\n",
    "import matplotlib.pyplot as plt\n",
    "\n",
    "np.random.seed(42)"
   ]
  },
  {
   "cell_type": "code",
   "execution_count": 3,
   "metadata": {
    "id": "lniLOqRU3DAI"
   },
   "outputs": [],
   "source": [
    "X, y = load_iris(return_X_y=True)\n",
    "\n",
    "# pick inputs and labels from the first two classes only,\n",
    "# corresponding to the first 100 samples\n",
    "X = X[:100]\n",
    "y = y[:100]\n",
    "\n",
    "# For now a Standard Scaler always applied, if not will be specified\n",
    "scaler = StandardScaler().fit(X)\n",
    "X_scaled = scaler.transform(X)\n",
    "\n",
    "# scaling the labels to -1, 1 is important for the SVM and the\n",
    "# definition of a hinge loss\n",
    "#This will change in some cases, KEEP AN EYE!\n",
    "y_scaled = 2 * (y - 0.5)\n",
    "\n",
    "X_train, X_test, y_train, y_test = train_test_split(X_scaled, y_scaled)"
   ]
  },
  {
   "cell_type": "code",
   "execution_count": 4,
   "metadata": {
    "colab": {
     "base_uri": "https://localhost:8080/"
    },
    "id": "CZXa7KPo3FdZ",
    "outputId": "16173273-4140-4b31-a049-190adae57217"
   },
   "outputs": [
    {
     "name": "stdout",
     "output_type": "stream",
     "text": [
      "Shape X_train: (75, 4)\n",
      "Shape Y_train (75,)\n",
      "Shape X_test: (25, 4)\n",
      "Shape Y_test: (25,)\n"
     ]
    }
   ],
   "source": [
    "print('Shape X_train:', X_train.shape)\n",
    "print('Shape Y_train', y_train.shape)\n",
    "print('Shape X_test:', X_test.shape)\n",
    "print('Shape Y_test:', y_test.shape)"
   ]
  },
  {
   "cell_type": "code",
   "execution_count": 5,
   "metadata": {
    "colab": {
     "base_uri": "https://localhost:8080/"
    },
    "id": "fw11vz4B3HGp",
    "outputId": "5baf5a92-3fcf-4e36-aaf6-46f7956925d4"
   },
   "outputs": [
    {
     "data": {
      "text/plain": [
       "array([ 1.,  1.,  1., -1., -1., -1., -1.,  1., -1., -1., -1., -1.,  1.,\n",
       "       -1.,  1., -1.,  1.,  1., -1., -1.,  1.,  1., -1., -1.,  1.])"
      ]
     },
     "execution_count": 5,
     "metadata": {},
     "output_type": "execute_result"
    }
   ],
   "source": [
    "y_test"
   ]
  },
  {
   "cell_type": "markdown",
   "metadata": {
    "id": "oxLDUR553NCt"
   },
   "source": [
    "# Model 3: Variational Circuit\n",
    "This model is trained a variational circuit to act as a SVM. It is the same of PennyLane demos in QML and will be follows by variations."
   ]
  },
  {
   "cell_type": "code",
   "execution_count": 7,
   "metadata": {
    "id": "EdKg_lth4-2f"
   },
   "outputs": [],
   "source": [
    "n_qubits = len(X_train[0])\n",
    "dev_var = qml.device(\"default.qubit\", wires=n_qubits)\n",
    "\n",
    "@qml.qnode(dev_var, interface=\"torch\", diff_method=\"parameter-shift\")\n",
    "def quantum_model(x, params):\n",
    "    \"\"\"A variational quantum model.\"\"\"\n",
    "\n",
    "    # embedding\n",
    "    AngleEmbedding(x, wires=range(n_qubits))\n",
    "\n",
    "    # trainable measurement\n",
    "    StronglyEntanglingLayers(params, wires=range(n_qubits))\n",
    "    return qml.expval(qml.PauliZ(0))\n",
    "\n",
    "def quantum_model_plus_bias(x, params, bias):\n",
    "    \"\"\"Adding a bias.\"\"\"\n",
    "    return quantum_model(x, params) + bias\n",
    "\n",
    "def hinge_loss(predictions, targets):\n",
    "    \"\"\"Implements the hinge loss.\"\"\"\n",
    "    all_ones = torch.ones_like(targets)\n",
    "    hinge_loss = all_ones - predictions * targets\n",
    "    # trick: since the max(0,x) function is not differentiable,\n",
    "    # use the mathematically equivalent relu instead \n",
    "    hinge_loss = relu(hinge_loss)\n",
    "    return hinge_loss"
   ]
  },
  {
   "cell_type": "code",
   "execution_count": 8,
   "metadata": {
    "id": "PvXJc4fH5A_E"
   },
   "outputs": [],
   "source": [
    "def quantum_model_train(n_layers, steps, batch_size):\n",
    "    \"\"\"Train the quantum model defined above.\"\"\"\n",
    "\n",
    "    params = np.random.random((n_layers, n_qubits, 3))\n",
    "    params_torch = torch.tensor(params, requires_grad=True)\n",
    "    bias_torch = torch.tensor(0.0)\n",
    "\n",
    "    opt = torch.optim.Adam([params_torch, bias_torch], lr=0.1)\n",
    "\n",
    "    loss_history = []\n",
    "    for i in range(steps):\n",
    "\n",
    "        batch_ids = np.random.choice(len(X_train), batch_size)\n",
    "\n",
    "        X_batch = X_train[batch_ids]\n",
    "        y_batch = y_train[batch_ids]\n",
    "\n",
    "        X_batch_torch = torch.tensor(X_batch, requires_grad=False)\n",
    "        y_batch_torch = torch.tensor(y_batch, requires_grad=False)\n",
    "\n",
    "        def closure():\n",
    "            opt.zero_grad()\n",
    "            preds = torch.stack(\n",
    "                [quantum_model_plus_bias(x, params_torch, bias_torch) for x in X_batch_torch]\n",
    "            )\n",
    "            loss = torch.mean(hinge_loss(preds, y_batch_torch))\n",
    "\n",
    "            # bookkeeping\n",
    "            current_loss = loss.detach().numpy().item()\n",
    "            loss_history.append(current_loss)\n",
    "            if i % 10 == 0:\n",
    "                print(\"step\", i, \", loss\", current_loss)\n",
    "\n",
    "            loss.backward()\n",
    "            return loss\n",
    "\n",
    "        opt.step(closure)\n",
    "\n",
    "    return params_torch, bias_torch, loss_history\n",
    "\n",
    "\n",
    "def quantum_model_predict(X_pred, trained_params, trained_bias):\n",
    "    \"\"\"Predict using the quantum model defined above.\"\"\"\n",
    "\n",
    "    p = []\n",
    "    for x in X_pred:\n",
    "\n",
    "        x_torch = torch.tensor(x)\n",
    "        pred_torch = quantum_model_plus_bias(x_torch, trained_params, trained_bias)\n",
    "        pred = pred_torch.detach().numpy().item()\n",
    "        if pred > 0:\n",
    "            pred = 1\n",
    "        else:\n",
    "            pred = -1\n",
    "\n",
    "        p.append(pred)\n",
    "    return p"
   ]
  },
  {
   "cell_type": "code",
   "execution_count": 9,
   "metadata": {
    "colab": {
     "base_uri": "https://localhost:8080/",
     "height": 470
    },
    "id": "zyrlMKsP5HTG",
    "outputId": "7db306cd-0258-42c4-b0ab-f8c40b667aa4"
   },
   "outputs": [
    {
     "name": "stdout",
     "output_type": "stream",
     "text": [
      "step 0 , loss 1.1126468863371441\n",
      "step 10 , loss 0.8712027328815186\n",
      "step 20 , loss 0.7147082370091464\n",
      "step 30 , loss 0.8847623600862249\n",
      "step 40 , loss 0.6274312419983202\n",
      "step 50 , loss 0.49577465736176285\n",
      "step 60 , loss 0.5238548970841466\n",
      "step 70 , loss 0.5015815904016235\n",
      "step 80 , loss 0.4940990174316119\n",
      "step 90 , loss 0.41369914729225654\n",
      "accuracy on test set: 1.0\n"
     ]
    },
    {
     "data": {
      "image/png": "[encoded data removed]",
      "text/plain": [
       "<Figure size 432x288 with 1 Axes>"
      ]
     },
     "metadata": {
      "needs_background": "light"
     },
     "output_type": "display_data"
    }
   ],
   "source": [
    "n_layers = 2\n",
    "batch_size = 20\n",
    "steps = 100\n",
    "trained_params, trained_bias, loss_history = quantum_model_train(n_layers, steps, batch_size)\n",
    "\n",
    "pred_test = quantum_model_predict(X_test, trained_params, trained_bias)\n",
    "print(\"accuracy on test set:\", accuracy_score(pred_test, y_test))\n",
    "\n",
    "plt.plot(loss_history)\n",
    "plt.ylim((0, 1))\n",
    "plt.xlabel(\"steps\")\n",
    "plt.ylabel(\"cost\")\n",
    "plt.show()"
   ]
  },
  {
   "cell_type": "markdown",
   "metadata": {
    "id": "1PmlavdQ5TKj"
   },
   "source": [
    "The iterations are way more than the kernel method!"
   ]
  },
  {
   "cell_type": "code",
   "execution_count": 10,
   "metadata": {
    "colab": {
     "base_uri": "https://localhost:8080/"
    },
    "id": "EbMgbPif5TdF",
    "outputId": "e3f2689a-85ac-4e8b-fa0b-947c2cf9b712"
   },
   "outputs": [
    {
     "data": {
      "text/plain": [
       "74025"
      ]
     },
     "execution_count": 10,
     "metadata": {},
     "output_type": "execute_result"
    }
   ],
   "source": [
    "dev_var.num_executions"
   ]
  }
 ],
 "metadata": {
  "colab": {
   "collapsed_sections": [],
   "name": "Iris_baseVQA.ipynb",
   "provenance": []
  },
  "kernelspec": {
   "display_name": "Python 3",
   "language": "python",
   "name": "python3"
  },
  "language_info": {
   "codemirror_mode": {
    "name": "ipython",
    "version": 3
   },
   "file_extension": ".py",
   "mimetype": "text/x-python",
   "name": "python",
   "nbconvert_exporter": "python",
   "pygments_lexer": "ipython3",
   "version": "3.8.5"
  }
 },
 "nbformat": 4,
 "nbformat_minor": 1
}
